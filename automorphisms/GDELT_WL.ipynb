{
 "cells": [
  {
   "cell_type": "code",
   "execution_count": null,
   "id": "49c7befb",
   "metadata": {},
   "outputs": [],
   "source": [
    "import pandas as pd \n",
    "import numpy as np"
   ]
  },
  {
   "cell_type": "code",
   "execution_count": null,
   "id": "8c47943d",
   "metadata": {},
   "outputs": [],
   "source": [
    "import networkx as nx\n",
    "def load_graph(file):\n",
    "    data = file.values\n",
    "    G = nx.Graph()\n",
    "    \n",
    "    for i in range(len(data)):\n",
    "        if float(data[a,2]) >mint and float(data[a,2])<=maxt:\n",
    "            G.add_edge(data[i,0], data[i,1])\n",
    "    return G"
   ]
  },
  {
   "cell_type": "code",
   "execution_count": null,
   "id": "9eec434d",
   "metadata": {},
   "outputs": [],
   "source": [
    "gdelt = pd.read_csv('../Data/edges.csv')"
   ]
  },
  {
   "cell_type": "code",
   "execution_count": null,
   "id": "eb8af577",
   "metadata": {},
   "outputs": [],
   "source": [
    "gdelt.drop(columns=['Unnamed: 0', 'int_roll', 'ext_roll', 'Unnamed: 0.1'], inplace=True)"
   ]
  },
  {
   "cell_type": "code",
   "execution_count": null,
   "id": "9de07d11",
   "metadata": {},
   "outputs": [],
   "source": [
    "gdelt.info()"
   ]
  },
  {
   "cell_type": "code",
   "execution_count": null,
   "id": "574efb3c",
   "metadata": {},
   "outputs": [],
   "source": [
    "def year(i):\n",
    "    return int(i*365*24*4)"
   ]
  },
  {
   "cell_type": "code",
   "execution_count": null,
   "id": "78173b47",
   "metadata": {},
   "outputs": [],
   "source": [
    "# load the graph into a networkx graph\n",
    "mint = year(2)\n",
    "maxt = year(4)\n",
    "print(\"loading networkx\")\n",
    "G = load_graph(gdelt, mint, maxt)"
   ]
  },
  {
   "cell_type": "code",
   "execution_count": null,
   "id": "28a48f7d",
   "metadata": {},
   "outputs": [],
   "source": [
    "print(\"running weisfeiler lehman\")\n",
    "G_hashes = nx.weisfeiler_lehman_subgraph_hashes(G, iterations=20, digest_size=16)"
   ]
  },
  {
   "cell_type": "code",
   "execution_count": null,
   "id": "5aa4c029",
   "metadata": {},
   "outputs": [],
   "source": [
    "print(\"making dataframe\")\n",
    "gdeltwldf = pd.DataFrame.from_dict(G_hashes, orient='index')\n",
    "print(\"running value counts\")\n",
    "counts = np.array(gdeltwldf.value_counts())"
   ]
  },
  {
   "cell_type": "code",
   "execution_count": null,
   "id": "5948b5e6",
   "metadata": {},
   "outputs": [],
   "source": [
    "print(\"counting singles\")\n",
    "singles2 = list(counts).count(1)\n",
    "print(\"singles wl: \", singles2)"
   ]
  },
  {
   "cell_type": "code",
   "execution_count": null,
   "id": "9d972659",
   "metadata": {},
   "outputs": [],
   "source": [
    "\n",
    "f, (ax, ax2) = plt.subplots(2, 1, sharex=True)\n",
    "\n",
    "# plot the same data on both axes\n",
    "ax.hist(countswl, bins=19, edgecolor='black')\n",
    "ax2.hist(countswl, bins=19, edgecolor='black')\n",
    "\n",
    "# zoom-in / limit the view to different portions of the data\n",
    "ax.set_ylim(100, 15000)  \n",
    "ax2.set_ylim(0, 50)  \n",
    "\n",
    "# hide the spines between ax and ax2\n",
    "ax.spines['bottom'].set_visible(False)\n",
    "ax2.spines['top'].set_visible(False)\n",
    "ax.xaxis.tick_top()\n",
    "ax.tick_params(labeltop=False)  # don't put tick labels at the top\n",
    "ax2.xaxis.tick_bottom()\n",
    "\n",
    "\n",
    "d = .015  \n",
    "\n",
    "kwargs = dict(transform=ax.transAxes, color='k', clip_on=False)\n",
    "ax.plot((-d, +d), (-d, +d), **kwargs)        # top-left diagonal\n",
    "ax.plot((1 - d, 1 + d), (-d, +d), **kwargs)  # top-right diagonal\n",
    "\n",
    "kwargs.update(transform=ax2.transAxes)  # switch to the bottom axes\n",
    "ax2.plot((-d, +d), (1 - d, 1 + d), **kwargs)  # bottom-left diagonal\n",
    "ax2.plot((1 - d, 1 + d), (1 - d, 1 + d), **kwargs)  # bottom-right diagonal\n",
    "\n",
    "\n",
    "#ax.set_title('Distribution of Sizes of Automorphic Groups')\n",
    "plt.xlabel('Size of Automorphic Group (# nodes)')\n",
    "plt.ylabel('Count')\n",
    "plt.show()\n",
    "#plt.savefig('GDELTDistWLg.pdf', bbox_inches='tight')"
   ]
  }
 ],
 "metadata": {
  "kernelspec": {
   "display_name": "Python 3 (ipykernel)",
   "language": "python",
   "name": "python3"
  },
  "language_info": {
   "codemirror_mode": {
    "name": "ipython",
    "version": 3
   },
   "file_extension": ".py",
   "mimetype": "text/x-python",
   "name": "python",
   "nbconvert_exporter": "python",
   "pygments_lexer": "ipython3",
   "version": "3.8.13"
  }
 },
 "nbformat": 4,
 "nbformat_minor": 5
}
