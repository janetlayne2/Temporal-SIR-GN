{
 "cells": [
  {
   "cell_type": "code",
   "execution_count": null,
   "id": "c94dbbb7",
   "metadata": {
    "ExecuteTime": {
     "end_time": "2023-03-09T18:59:07.406579Z",
     "start_time": "2023-03-09T18:59:07.118919Z"
    }
   },
   "outputs": [],
   "source": [
    "import networkx.algorithms.isomorphism as iso\n",
    "import networkx as nx\n",
    "import pandas as pd\n",
    "import numpy as np"
   ]
  },
  {
   "cell_type": "code",
   "execution_count": null,
   "id": "f8aa60d4",
   "metadata": {
    "ExecuteTime": {
     "end_time": "2023-03-09T18:59:07.416292Z",
     "start_time": "2023-03-09T18:59:07.413603Z"
    }
   },
   "outputs": [],
   "source": [
    "def load_graph(file):\n",
    "    data = file.values\n",
    "    G = nx.Graph()\n",
    "    \n",
    "    for i in range(len(data)):\n",
    "        G.add_edge(data[i,0], data[i,1])\n",
    "    return G"
   ]
  },
  {
   "cell_type": "code",
   "execution_count": null,
   "id": "b0bf8536",
   "metadata": {
    "ExecuteTime": {
     "end_time": "2023-03-09T18:59:07.768022Z",
     "start_time": "2023-03-09T18:59:07.765731Z"
    }
   },
   "outputs": [],
   "source": [
    "def load_labels(graph):\n",
    "    for x in graph.nodes:\n",
    "        graph.nodes[x]['label']=x"
   ]
  },
  {
   "cell_type": "code",
   "execution_count": null,
   "id": "b5f040f7",
   "metadata": {
    "ExecuteTime": {
     "end_time": "2023-03-09T18:59:08.392022Z",
     "start_time": "2023-03-09T18:59:08.382732Z"
    }
   },
   "outputs": [],
   "source": [
    "dppin=pd.read_csv('../Data/dppintarrasov.txt')"
   ]
  },
  {
   "cell_type": "code",
   "execution_count": null,
   "id": "2b2e4407",
   "metadata": {
    "ExecuteTime": {
     "end_time": "2023-03-09T18:59:08.823799Z",
     "start_time": "2023-03-09T18:59:08.815133Z"
    }
   },
   "outputs": [],
   "source": [
    "Gdppin = load_graph(dppin)"
   ]
  },
  {
   "cell_type": "code",
   "execution_count": null,
   "id": "48adfb40",
   "metadata": {
    "ExecuteTime": {
     "end_time": "2023-03-09T18:59:09.701025Z",
     "start_time": "2023-03-09T18:59:09.698193Z"
    }
   },
   "outputs": [],
   "source": [
    "load_labels(Gdppin)"
   ]
  },
  {
   "cell_type": "code",
   "execution_count": null,
   "id": "6ab5e1ff",
   "metadata": {
    "ExecuteTime": {
     "end_time": "2023-03-09T18:59:17.991236Z",
     "start_time": "2023-03-09T18:59:17.982300Z"
    }
   },
   "outputs": [],
   "source": [
    "import signal\n",
    "import time\n",
    "\n",
    "def timeout_handler(num, stack):\n",
    "    print(\"Received SIGALRM\")\n",
    "    raise Exception(\"FOREVER\")\n",
    "\n",
    "signal.signal(signal.SIGALRM, timeout_handler)\n",
    "\n",
    "#need to iterate over all nodes in the graph, remove all matches to node each\n",
    "def check_iso3(G):\n",
    "    iso_groups={}\n",
    "    set_to_check = set(G.nodes)\n",
    "    print('nodes in set: ', len(set_to_check))\n",
    "    for node1 in G.nodes:\n",
    "        try:\n",
    "            signal.alarm(3600)\n",
    "            #signal.alarm(3)\n",
    "            sub = nx.ego_graph(G, node1, radius = 3, undirected=True)\n",
    "                #print(G.nodes[node1]['label'])\n",
    "            print(node1)\n",
    "            for node2 in G.nodes:\n",
    "                #print(G.nodes[node2]['label'])\n",
    "                if node2 in set_to_check:\n",
    "                    sub2 = nx.ego_graph(G, node2, radius = 3, undirected=True)\n",
    "                    if nx.is_isomorphic(sub, sub2):\n",
    "                        if G.nodes[node1]['label'] not in iso_groups:\n",
    "                            iso_groups[G.nodes[node1]['label']]=set()\n",
    "                            #print(\"iso_groups after add: \", iso_groups)\n",
    "                        iso_groups[G.nodes[node1]['label']].add(G.nodes[node2]['label'])\n",
    "                        set_to_check.remove(node2)\n",
    "                    #print(\"checked a single isomorphism!\")\n",
    "            signal.alarm(0)\n",
    "        except Exception as ex:\n",
    "            print(\"Too Long! Going to 2-hop neighborhood\")\n",
    "            sub = nx.ego_graph(G, node1, radius = 2, undirected=False)\n",
    "            #print(G.nodes[node1]['label'])\n",
    "            print(node1)\n",
    "            for node2 in G.nodes:\n",
    "                #print(G.nodes[node2]['label'])\n",
    "                if node2 in set_to_check:\n",
    "                    sub2 = nx.ego_graph(G, node2, radius = 2, undirected=False)\n",
    "                    if nx.is_isomorphic(sub, sub2):\n",
    "                        if G.nodes[node1]['label'] not in iso_groups:\n",
    "                            iso_groups[G.nodes[node1]['label']]=set()\n",
    "                            #print(\"iso_groups after add: \", iso_groups)\n",
    "                        iso_groups[G.nodes[node1]['label']].add(G.nodes[node2]['label'])\n",
    "                        set_to_check.remove(node2)\n",
    "        finally:\n",
    "            print('Back to 3-hop!')\n",
    "        print(\"iso groups size : \", node1, len(iso_groups))\n",
    "        print(\"nodes left in set: \", len(set_to_check))\n",
    "                        \n",
    "                    \n",
    "    return iso_groups"
   ]
  },
  {
   "cell_type": "code",
   "execution_count": null,
   "id": "f9c04f05",
   "metadata": {
    "ExecuteTime": {
     "end_time": "2023-03-09T18:59:26.568701Z",
     "start_time": "2023-03-09T18:59:18.346398Z"
    }
   },
   "outputs": [],
   "source": [
    "import time\n",
    "start = time.time()\n",
    "isos = check_iso3(Gdppin)\n",
    "end = time.time()\n",
    "total=end-start"
   ]
  },
  {
   "cell_type": "code",
   "execution_count": null,
   "id": "027e35dd",
   "metadata": {},
   "outputs": [],
   "source": [
    "total"
   ]
  },
  {
   "cell_type": "code",
   "execution_count": null,
   "id": "ca930e01",
   "metadata": {},
   "outputs": [],
   "source": [
    "# Automorphism group sizes\n",
    "counts=[]\n",
    "for x in isos:\n",
    "    counts.append(len(isos[x]))"
   ]
  },
  {
   "cell_type": "code",
   "execution_count": null,
   "id": "ce3ee30b",
   "metadata": {},
   "outputs": [],
   "source": [
    "# number of unique nodes\n",
    "list(counts).count(1)"
   ]
  },
  {
   "cell_type": "code",
   "execution_count": null,
   "id": "b40568a7",
   "metadata": {},
   "outputs": [],
   "source": [
    "440/905"
   ]
  },
  {
   "cell_type": "code",
   "execution_count": null,
   "id": "da5e5461",
   "metadata": {},
   "outputs": [],
   "source": [
    "# size of largest automorphic group\n",
    "np.array(counts).max()"
   ]
  },
  {
   "cell_type": "code",
   "execution_count": null,
   "id": "66857e31",
   "metadata": {},
   "outputs": [],
   "source": [
    "import matplotlib.pyplot as plt\n",
    "\n",
    "f, (ax, ax2) = plt.subplots(2, 1, sharex=True)\n",
    "\n",
    "# plot the same data on both axes\n",
    "ax.hist(counts, bins=40, edgecolor='black')\n",
    "ax2.hist(counts, bins=40, edgecolor='black')\n",
    "\n",
    "# zoom-in / limit the view to different portions of the data\n",
    "ax.set_ylim(100, 600)  \n",
    "ax2.set_ylim(0, 20)  \n",
    "\n",
    "# hide the spines between ax and ax2\n",
    "ax.spines['bottom'].set_visible(False)\n",
    "ax2.spines['top'].set_visible(False)\n",
    "ax.xaxis.tick_top()\n",
    "ax.tick_params(labeltop=False)  # don't put tick labels at the top\n",
    "ax2.xaxis.tick_bottom()\n",
    "\n",
    "\n",
    "d = .015  \n",
    "\n",
    "kwargs = dict(transform=ax.transAxes, color='k', clip_on=False)\n",
    "ax.plot((-d, +d), (-d, +d), **kwargs)        # top-left diagonal\n",
    "ax.plot((1 - d, 1 + d), (-d, +d), **kwargs)  # top-right diagonal\n",
    "\n",
    "kwargs.update(transform=ax2.transAxes)  # switch to the bottom axes\n",
    "ax2.plot((-d, +d), (1 - d, 1 + d), **kwargs)  # bottom-left diagonal\n",
    "ax2.plot((1 - d, 1 + d), (1 - d, 1 + d), **kwargs)  # bottom-right diagonal\n",
    "\n",
    "\n",
    "#ax.set_title('Distribution of Sizes of Automorphic Groups')\n",
    "plt.xlabel('Size of Automorphic Group (# nodes)')\n",
    "plt.ylabel('Count')\n",
    "plt.show()\n",
    "#plt.savefig('Dppindisttrue2.pdf', bbox_inches='tight')"
   ]
  }
 ],
 "metadata": {
  "kernelspec": {
   "display_name": "Python 3 (ipykernel)",
   "language": "python",
   "name": "python3"
  },
  "language_info": {
   "codemirror_mode": {
    "name": "ipython",
    "version": 3
   },
   "file_extension": ".py",
   "mimetype": "text/x-python",
   "name": "python",
   "nbconvert_exporter": "python",
   "pygments_lexer": "ipython3",
   "version": "3.9.12"
  }
 },
 "nbformat": 4,
 "nbformat_minor": 5
}
