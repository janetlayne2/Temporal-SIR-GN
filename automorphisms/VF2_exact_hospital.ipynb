{
 "cells": [
  {
   "cell_type": "markdown",
   "id": "e2904e0a",
   "metadata": {},
   "source": [
    "# Run Exponential Isomorphism test Hospital"
   ]
  },
  {
   "cell_type": "code",
   "execution_count": 1,
   "id": "8009183e",
   "metadata": {
    "ExecuteTime": {
     "end_time": "2023-02-01T00:41:11.592812Z",
     "start_time": "2023-02-01T00:41:11.590028Z"
    }
   },
   "outputs": [],
   "source": [
    "import networkx.algorithms.isomorphism as iso\n",
    "import networkx as nx\n",
    "import pandas as pd\n",
    "import numpy as np"
   ]
  },
  {
   "cell_type": "code",
   "execution_count": 14,
   "id": "f21a52f0",
   "metadata": {
    "ExecuteTime": {
     "end_time": "2023-02-01T00:41:11.921667Z",
     "start_time": "2023-02-01T00:41:11.918912Z"
    }
   },
   "outputs": [],
   "source": [
    "def load_graph(file):\n",
    "    data = file.values\n",
    "    G = nx.Graph()\n",
    "    \n",
    "    for i in range(len(data)):\n",
    "        G.add_edge(data[i,1], data[i,2])\n",
    "    return G"
   ]
  },
  {
   "cell_type": "code",
   "execution_count": 4,
   "id": "7d682db5",
   "metadata": {},
   "outputs": [],
   "source": [
    "hospital = pd.read_csv('../Data/hospital.txt', delimiter = '\\t', header=None, names=['time', 'src','trg', 'lab1', 'lab2'])"
   ]
  },
  {
   "cell_type": "code",
   "execution_count": 18,
   "id": "c6c53e03",
   "metadata": {
    "scrolled": true
   },
   "outputs": [
    {
     "data": {
      "text/html": [
       "<div>\n",
       "<style scoped>\n",
       "    .dataframe tbody tr th:only-of-type {\n",
       "        vertical-align: middle;\n",
       "    }\n",
       "\n",
       "    .dataframe tbody tr th {\n",
       "        vertical-align: top;\n",
       "    }\n",
       "\n",
       "    .dataframe thead th {\n",
       "        text-align: right;\n",
       "    }\n",
       "</style>\n",
       "<table border=\"1\" class=\"dataframe\">\n",
       "  <thead>\n",
       "    <tr style=\"text-align: right;\">\n",
       "      <th></th>\n",
       "      <th>time</th>\n",
       "      <th>src</th>\n",
       "      <th>trg</th>\n",
       "      <th>lab1</th>\n",
       "      <th>lab2</th>\n",
       "    </tr>\n",
       "  </thead>\n",
       "  <tbody>\n",
       "    <tr>\n",
       "      <th>0</th>\n",
       "      <td>140</td>\n",
       "      <td>1157</td>\n",
       "      <td>1232</td>\n",
       "      <td>MED</td>\n",
       "      <td>ADM</td>\n",
       "    </tr>\n",
       "    <tr>\n",
       "      <th>1</th>\n",
       "      <td>160</td>\n",
       "      <td>1157</td>\n",
       "      <td>1191</td>\n",
       "      <td>MED</td>\n",
       "      <td>MED</td>\n",
       "    </tr>\n",
       "    <tr>\n",
       "      <th>2</th>\n",
       "      <td>500</td>\n",
       "      <td>1157</td>\n",
       "      <td>1159</td>\n",
       "      <td>MED</td>\n",
       "      <td>MED</td>\n",
       "    </tr>\n",
       "    <tr>\n",
       "      <th>3</th>\n",
       "      <td>520</td>\n",
       "      <td>1157</td>\n",
       "      <td>1159</td>\n",
       "      <td>MED</td>\n",
       "      <td>MED</td>\n",
       "    </tr>\n",
       "    <tr>\n",
       "      <th>4</th>\n",
       "      <td>560</td>\n",
       "      <td>1159</td>\n",
       "      <td>1191</td>\n",
       "      <td>MED</td>\n",
       "      <td>MED</td>\n",
       "    </tr>\n",
       "  </tbody>\n",
       "</table>\n",
       "</div>"
      ],
      "text/plain": [
       "   time   src   trg lab1 lab2\n",
       "0   140  1157  1232  MED  ADM\n",
       "1   160  1157  1191  MED  MED\n",
       "2   500  1157  1159  MED  MED\n",
       "3   520  1157  1159  MED  MED\n",
       "4   560  1159  1191  MED  MED"
      ]
     },
     "execution_count": 18,
     "metadata": {},
     "output_type": "execute_result"
    }
   ],
   "source": [
    "hospital.head()"
   ]
  },
  {
   "cell_type": "code",
   "execution_count": 8,
   "id": "dccf4642",
   "metadata": {},
   "outputs": [],
   "source": [
    "Ghosp = load_graph(hospital)"
   ]
  },
  {
   "cell_type": "code",
   "execution_count": 9,
   "id": "8bd72043",
   "metadata": {},
   "outputs": [
    {
     "data": {
      "text/plain": [
       "<networkx.classes.graph.Graph at 0x10c35f6d0>"
      ]
     },
     "execution_count": 9,
     "metadata": {},
     "output_type": "execute_result"
    }
   ],
   "source": [
    "Ghosp"
   ]
  },
  {
   "cell_type": "code",
   "execution_count": 11,
   "id": "3864b973",
   "metadata": {},
   "outputs": [],
   "source": [
    "GM = iso.GraphMatcher(Ghosp, Ghosp)"
   ]
  },
  {
   "cell_type": "code",
   "execution_count": 12,
   "id": "553711cc",
   "metadata": {
    "scrolled": true
   },
   "outputs": [
    {
     "data": {
      "text/plain": [
       "[{1157: 1157,\n",
       "  1232: 1232,\n",
       "  1191: 1191,\n",
       "  1159: 1159,\n",
       "  1144: 1144,\n",
       "  1152: 1152,\n",
       "  1105: 1105,\n",
       "  1295: 1295,\n",
       "  1109: 1109,\n",
       "  1114: 1114,\n",
       "  1115: 1115,\n",
       "  1098: 1098,\n",
       "  1181: 1181,\n",
       "  1164: 1164,\n",
       "  1116: 1116,\n",
       "  1193: 1193,\n",
       "  1142: 1142,\n",
       "  1149: 1149,\n",
       "  1179: 1179,\n",
       "  1168: 1168,\n",
       "  1196: 1196,\n",
       "  1365: 1365,\n",
       "  1320: 1320,\n",
       "  1363: 1363,\n",
       "  1374: 1374,\n",
       "  1393: 1393,\n",
       "  1190: 1190,\n",
       "  1261: 1261,\n",
       "  1378: 1378,\n",
       "  1305: 1305,\n",
       "  1352: 1352,\n",
       "  1377: 1377,\n",
       "  1130: 1130,\n",
       "  1148: 1148,\n",
       "  1383: 1383,\n",
       "  1327: 1327,\n",
       "  1323: 1323,\n",
       "  1391: 1391,\n",
       "  1399: 1399,\n",
       "  1395: 1395,\n",
       "  1238: 1238,\n",
       "  1246: 1246,\n",
       "  1332: 1332,\n",
       "  1207: 1207,\n",
       "  1373: 1373,\n",
       "  1210: 1210,\n",
       "  1245: 1245,\n",
       "  1100: 1100,\n",
       "  1108: 1108,\n",
       "  1260: 1260,\n",
       "  1209: 1209,\n",
       "  1307: 1307,\n",
       "  1221: 1221,\n",
       "  1205: 1205,\n",
       "  1202: 1202,\n",
       "  1362: 1362,\n",
       "  1385: 1385,\n",
       "  1658: 1658,\n",
       "  1702: 1702,\n",
       "  1660: 1660,\n",
       "  1769: 1769,\n",
       "  1701: 1701,\n",
       "  1401: 1401,\n",
       "  1625: 1625,\n",
       "  1416: 1416,\n",
       "  1613: 1613,\n",
       "  1485: 1485,\n",
       "  1460: 1460,\n",
       "  1535: 1535,\n",
       "  1525: 1525,\n",
       "  1469: 1469,\n",
       "  1547: 1547,\n",
       "  1784: 1784,\n",
       "  1629: 1629,\n",
       "  1671: 1671}]"
      ]
     },
     "execution_count": 12,
     "metadata": {},
     "output_type": "execute_result"
    }
   ],
   "source": [
    "list(GM.isomorphisms_iter())"
   ]
  }
 ],
 "metadata": {
  "kernelspec": {
   "display_name": "Python 3 (ipykernel)",
   "language": "python",
   "name": "python3"
  },
  "language_info": {
   "codemirror_mode": {
    "name": "ipython",
    "version": 3
   },
   "file_extension": ".py",
   "mimetype": "text/x-python",
   "name": "python",
   "nbconvert_exporter": "python",
   "pygments_lexer": "ipython3",
   "version": "3.8.13"
  }
 },
 "nbformat": 4,
 "nbformat_minor": 5
}
