{
 "cells": [
  {
   "cell_type": "markdown",
   "id": "e2904e0a",
   "metadata": {},
   "source": [
    "# Run Exponential Isomorphism test Hospital"
   ]
  },
  {
   "cell_type": "code",
   "execution_count": null,
   "id": "8009183e",
   "metadata": {
    "ExecuteTime": {
     "end_time": "2023-03-09T18:56:50.080305Z",
     "start_time": "2023-03-09T18:56:49.791757Z"
    }
   },
   "outputs": [],
   "source": [
    "import networkx.algorithms.isomorphism as iso\n",
    "import networkx as nx\n",
    "import pandas as pd\n",
    "import numpy as np"
   ]
  },
  {
   "cell_type": "code",
   "execution_count": null,
   "id": "f21a52f0",
   "metadata": {
    "ExecuteTime": {
     "end_time": "2023-03-09T18:56:50.084237Z",
     "start_time": "2023-03-09T18:56:50.081654Z"
    }
   },
   "outputs": [],
   "source": [
    "def load_graph(file):\n",
    "    data = file.values\n",
    "    G = nx.Graph()\n",
    "    \n",
    "    for i in range(len(data)):\n",
    "        G.add_edge(data[i,1], data[i,2])\n",
    "    return G"
   ]
  },
  {
   "cell_type": "code",
   "execution_count": null,
   "id": "7d682db5",
   "metadata": {
    "ExecuteTime": {
     "end_time": "2023-03-09T18:56:50.396398Z",
     "start_time": "2023-03-09T18:56:50.383957Z"
    }
   },
   "outputs": [],
   "source": [
    "hospital = pd.read_csv('../Data/hospital.csv')"
   ]
  },
  {
   "cell_type": "code",
   "execution_count": null,
   "id": "c6c53e03",
   "metadata": {
    "ExecuteTime": {
     "end_time": "2023-03-09T18:56:51.011742Z",
     "start_time": "2023-03-09T18:56:51.001239Z"
    },
    "scrolled": true
   },
   "outputs": [],
   "source": [
    "hospital.head()"
   ]
  },
  {
   "cell_type": "code",
   "execution_count": null,
   "id": "dccf4642",
   "metadata": {
    "ExecuteTime": {
     "end_time": "2023-03-09T18:56:52.541027Z",
     "start_time": "2023-03-09T18:56:52.445751Z"
    }
   },
   "outputs": [],
   "source": [
    "Ghosp = load_graph(hospital)"
   ]
  },
  {
   "cell_type": "code",
   "execution_count": null,
   "id": "8bd72043",
   "metadata": {
    "ExecuteTime": {
     "end_time": "2023-03-09T18:56:52.919997Z",
     "start_time": "2023-03-09T18:56:52.917217Z"
    }
   },
   "outputs": [],
   "source": [
    "Ghosp"
   ]
  },
  {
   "cell_type": "code",
   "execution_count": null,
   "id": "3864b973",
   "metadata": {
    "ExecuteTime": {
     "end_time": "2023-03-09T18:56:53.774117Z",
     "start_time": "2023-03-09T18:56:53.767460Z"
    }
   },
   "outputs": [],
   "source": [
    "GM = iso.GraphMatcher(Ghosp, Ghosp)"
   ]
  },
  {
   "cell_type": "code",
   "execution_count": null,
   "id": "553711cc",
   "metadata": {
    "ExecuteTime": {
     "end_time": "2023-03-09T18:57:22.585344Z",
     "start_time": "2023-03-09T18:56:54.583759Z"
    },
    "scrolled": false
   },
   "outputs": [],
   "source": [
    "list(GM.isomorphisms_iter())"
   ]
  }
 ],
 "metadata": {
  "kernelspec": {
   "display_name": "Python 3 (ipykernel)",
   "language": "python",
   "name": "python3"
  },
  "language_info": {
   "codemirror_mode": {
    "name": "ipython",
    "version": 3
   },
   "file_extension": ".py",
   "mimetype": "text/x-python",
   "name": "python",
   "nbconvert_exporter": "python",
   "pygments_lexer": "ipython3",
   "version": "3.9.12"
  }
 },
 "nbformat": 4,
 "nbformat_minor": 5
}
