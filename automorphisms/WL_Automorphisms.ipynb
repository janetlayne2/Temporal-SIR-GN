{
 "cells": [
  {
   "cell_type": "markdown",
   "id": "3270e235",
   "metadata": {},
   "source": [
    "## Frequency Distribution of Node Colors by Weisfeiler Lehman\n"
   ]
  },
  {
   "cell_type": "code",
   "execution_count": 1,
   "id": "80ec1728",
   "metadata": {
    "ExecuteTime": {
     "end_time": "2023-03-09T19:02:24.310147Z",
     "start_time": "2023-03-09T19:02:23.715254Z"
    }
   },
   "outputs": [],
   "source": [
    "import pandas as pd\n",
    "import numpy as np\n",
    "import scipy as sp\n",
    "import networkx as nx"
   ]
  },
  {
   "cell_type": "code",
   "execution_count": 2,
   "id": "8eae9575",
   "metadata": {
    "ExecuteTime": {
     "end_time": "2023-03-09T19:02:24.323440Z",
     "start_time": "2023-03-09T19:02:24.317618Z"
    }
   },
   "outputs": [],
   "source": [
    "def load_graph(file):\n",
    "    data = file.values\n",
    "    G = nx.Graph()\n",
    "    \n",
    "    for i in range(len(data)):\n",
    "        G.add_edge(data[i,0], data[i,1])\n",
    "    return G"
   ]
  },
  {
   "cell_type": "code",
   "execution_count": 3,
   "id": "5561b6dd",
   "metadata": {
    "ExecuteTime": {
     "end_time": "2023-03-09T19:02:24.390218Z",
     "start_time": "2023-03-09T19:02:24.324734Z"
    }
   },
   "outputs": [],
   "source": [
    "dppin=pd.read_csv('../Data/dppintarrasov.txt')"
   ]
  },
  {
   "cell_type": "code",
   "execution_count": 4,
   "id": "468b8a5e",
   "metadata": {
    "ExecuteTime": {
     "end_time": "2023-03-09T19:02:24.488144Z",
     "start_time": "2023-03-09T19:02:24.393766Z"
    },
    "scrolled": true
   },
   "outputs": [
    {
     "data": {
      "text/html": [
       "<div>\n",
       "<style scoped>\n",
       "    .dataframe tbody tr th:only-of-type {\n",
       "        vertical-align: middle;\n",
       "    }\n",
       "\n",
       "    .dataframe tbody tr th {\n",
       "        vertical-align: top;\n",
       "    }\n",
       "\n",
       "    .dataframe thead th {\n",
       "        text-align: right;\n",
       "    }\n",
       "</style>\n",
       "<table border=\"1\" class=\"dataframe\">\n",
       "  <thead>\n",
       "    <tr style=\"text-align: right;\">\n",
       "      <th></th>\n",
       "      <th>src</th>\n",
       "      <th>trg</th>\n",
       "      <th>time</th>\n",
       "      <th>exp</th>\n",
       "    </tr>\n",
       "  </thead>\n",
       "  <tbody>\n",
       "    <tr>\n",
       "      <th>0</th>\n",
       "      <td>14</td>\n",
       "      <td>600</td>\n",
       "      <td>0</td>\n",
       "      <td>0.9801</td>\n",
       "    </tr>\n",
       "    <tr>\n",
       "      <th>1</th>\n",
       "      <td>22</td>\n",
       "      <td>465</td>\n",
       "      <td>0</td>\n",
       "      <td>0.6732</td>\n",
       "    </tr>\n",
       "    <tr>\n",
       "      <th>2</th>\n",
       "      <td>22</td>\n",
       "      <td>651</td>\n",
       "      <td>0</td>\n",
       "      <td>0.6732</td>\n",
       "    </tr>\n",
       "    <tr>\n",
       "      <th>3</th>\n",
       "      <td>28</td>\n",
       "      <td>211</td>\n",
       "      <td>0</td>\n",
       "      <td>0.9405</td>\n",
       "    </tr>\n",
       "    <tr>\n",
       "      <th>4</th>\n",
       "      <td>41</td>\n",
       "      <td>695</td>\n",
       "      <td>0</td>\n",
       "      <td>0.4624</td>\n",
       "    </tr>\n",
       "  </tbody>\n",
       "</table>\n",
       "</div>"
      ],
      "text/plain": [
       "   src  trg  time     exp\n",
       "0   14  600     0  0.9801\n",
       "1   22  465     0  0.6732\n",
       "2   22  651     0  0.6732\n",
       "3   28  211     0  0.9405\n",
       "4   41  695     0  0.4624"
      ]
     },
     "execution_count": 4,
     "metadata": {},
     "output_type": "execute_result"
    }
   ],
   "source": [
    "dppin.head()"
   ]
  },
  {
   "cell_type": "code",
   "execution_count": 5,
   "id": "f3fbffc6",
   "metadata": {
    "ExecuteTime": {
     "end_time": "2023-03-09T19:02:24.682021Z",
     "start_time": "2023-03-09T19:02:24.489834Z"
    }
   },
   "outputs": [],
   "source": [
    "G = load_graph(dppin)"
   ]
  },
  {
   "cell_type": "code",
   "execution_count": 6,
   "id": "d45c745c",
   "metadata": {
    "ExecuteTime": {
     "end_time": "2023-03-09T19:02:24.874633Z",
     "start_time": "2023-03-09T19:02:24.683707Z"
    }
   },
   "outputs": [],
   "source": [
    "# G_hashes gets WL \"colors\"\n",
    "G_hashes = nx.weisfeiler_lehman_subgraph_hashes(G, iterations=20, digest_size=16)"
   ]
  },
  {
   "cell_type": "code",
   "execution_count": 7,
   "id": "f4e05270",
   "metadata": {
    "ExecuteTime": {
     "end_time": "2023-03-09T19:02:24.946837Z",
     "start_time": "2023-03-09T19:02:24.876092Z"
    }
   },
   "outputs": [],
   "source": [
    "dppinwldf = pd.DataFrame.from_dict(G_hashes, orient='index')"
   ]
  },
  {
   "cell_type": "code",
   "execution_count": 8,
   "id": "68b0f730",
   "metadata": {
    "ExecuteTime": {
     "end_time": "2023-03-09T19:02:25.078226Z",
     "start_time": "2023-03-09T19:02:24.949317Z"
    }
   },
   "outputs": [],
   "source": [
    "#size of each automorphic group (as determined by WL colors)\n",
    "countswl = np.array(dppinwldf.value_counts())"
   ]
  },
  {
   "cell_type": "code",
   "execution_count": 9,
   "id": "8f1051e7",
   "metadata": {
    "ExecuteTime": {
     "end_time": "2023-03-09T19:02:25.197442Z",
     "start_time": "2023-03-09T19:02:25.079724Z"
    },
    "scrolled": true
   },
   "outputs": [
    {
     "data": {
      "text/plain": [
       "array([114,  22,  11,   7,   6,   6,   5,   4,   4,   3,   3,   3,   3,\n",
       "         3,   3,   3,   3,   3,   3,   3,   3,   3,   3,   3,   2,   2,\n",
       "         2,   2,   2,   2,   2,   2,   2,   2,   2,   2,   2,   2,   2,\n",
       "         2,   2,   2,   2,   2,   2,   2,   2,   2,   2,   2,   2,   2,\n",
       "         2,   2,   2,   2,   2,   2,   2,   2,   2,   2,   2,   2,   2,\n",
       "         2,   2,   2,   2,   2,   2,   2,   2,   2,   2,   2,   2,   2,\n",
       "         2,   2,   2,   1,   1,   1,   1,   1,   1,   1,   1,   1,   1,\n",
       "         1,   1,   1,   1,   1,   1,   1,   1,   1,   1,   1,   1,   1,\n",
       "         1,   1,   1,   1,   1,   1,   1,   1,   1,   1,   1,   1,   1,\n",
       "         1,   1,   1,   1,   1,   1,   1,   1,   1,   1,   1,   1,   1,\n",
       "         1,   1,   1,   1,   1,   1,   1,   1,   1,   1,   1,   1,   1,\n",
       "         1,   1,   1,   1,   1,   1,   1,   1,   1,   1,   1,   1,   1,\n",
       "         1,   1,   1,   1,   1,   1,   1,   1,   1,   1,   1,   1,   1,\n",
       "         1,   1,   1,   1,   1,   1,   1,   1,   1,   1,   1,   1,   1,\n",
       "         1,   1,   1,   1,   1,   1,   1,   1,   1,   1,   1,   1,   1,\n",
       "         1,   1,   1,   1,   1,   1,   1,   1,   1,   1,   1,   1,   1,\n",
       "         1,   1,   1,   1,   1,   1,   1,   1,   1,   1,   1,   1,   1,\n",
       "         1,   1,   1,   1,   1,   1,   1,   1,   1,   1,   1,   1,   1,\n",
       "         1,   1,   1,   1,   1,   1,   1,   1,   1,   1,   1,   1,   1,\n",
       "         1,   1,   1,   1,   1,   1,   1,   1,   1,   1,   1,   1,   1,\n",
       "         1,   1,   1,   1,   1,   1,   1,   1,   1,   1,   1,   1,   1,\n",
       "         1,   1,   1,   1,   1,   1,   1,   1,   1,   1,   1,   1,   1,\n",
       "         1,   1,   1,   1,   1,   1,   1,   1,   1,   1,   1,   1,   1,\n",
       "         1,   1,   1,   1,   1,   1,   1,   1,   1,   1,   1,   1,   1,\n",
       "         1,   1,   1,   1,   1,   1,   1,   1,   1,   1,   1,   1,   1,\n",
       "         1,   1,   1,   1,   1,   1,   1,   1,   1,   1,   1,   1,   1,\n",
       "         1,   1,   1,   1,   1,   1,   1,   1,   1,   1,   1,   1,   1,\n",
       "         1,   1,   1,   1,   1,   1,   1,   1,   1,   1,   1,   1,   1,\n",
       "         1,   1,   1,   1,   1,   1,   1,   1,   1,   1,   1,   1,   1,\n",
       "         1,   1,   1,   1,   1,   1,   1,   1,   1,   1,   1,   1,   1,\n",
       "         1,   1,   1,   1,   1,   1,   1,   1,   1,   1,   1,   1,   1,\n",
       "         1,   1,   1,   1,   1,   1,   1,   1,   1,   1,   1,   1,   1,\n",
       "         1,   1,   1,   1,   1,   1,   1,   1,   1,   1,   1,   1,   1,\n",
       "         1,   1,   1,   1,   1,   1,   1,   1,   1,   1,   1,   1,   1,\n",
       "         1,   1,   1,   1,   1,   1,   1,   1,   1,   1,   1,   1,   1,\n",
       "         1,   1,   1,   1,   1,   1,   1,   1,   1,   1,   1,   1,   1,\n",
       "         1,   1,   1,   1,   1,   1,   1,   1,   1,   1,   1,   1,   1,\n",
       "         1,   1,   1,   1,   1,   1,   1,   1,   1,   1,   1,   1,   1,\n",
       "         1,   1,   1,   1,   1,   1,   1,   1,   1,   1,   1,   1,   1,\n",
       "         1,   1,   1,   1,   1,   1,   1,   1,   1,   1,   1,   1,   1,\n",
       "         1,   1,   1,   1,   1,   1,   1,   1,   1,   1,   1,   1,   1,\n",
       "         1,   1,   1,   1,   1,   1,   1,   1,   1,   1,   1,   1,   1,\n",
       "         1,   1,   1,   1,   1,   1,   1,   1,   1,   1,   1,   1,   1,\n",
       "         1,   1,   1,   1,   1,   1,   1,   1,   1,   1,   1,   1,   1,\n",
       "         1,   1,   1,   1,   1,   1,   1,   1,   1,   1,   1,   1,   1,\n",
       "         1,   1,   1,   1,   1,   1,   1,   1,   1,   1,   1,   1,   1,\n",
       "         1,   1,   1,   1,   1,   1,   1,   1,   1,   1,   1,   1,   1,\n",
       "         1,   1,   1,   1,   1,   1,   1,   1,   1,   1,   1,   1,   1,\n",
       "         1,   1,   1,   1,   1,   1,   1,   1,   1,   1,   1,   1,   1,\n",
       "         1,   1,   1,   1,   1,   1,   1,   1,   1,   1,   1])"
      ]
     },
     "execution_count": 9,
     "metadata": {},
     "output_type": "execute_result"
    }
   ],
   "source": [
    "countswl"
   ]
  },
  {
   "cell_type": "code",
   "execution_count": 10,
   "id": "791caffe",
   "metadata": {
    "ExecuteTime": {
     "end_time": "2023-03-09T19:02:25.354610Z",
     "start_time": "2023-03-09T19:02:25.200087Z"
    }
   },
   "outputs": [
    {
     "data": {
      "text/plain": [
       "567"
      ]
     },
     "execution_count": 10,
     "metadata": {},
     "output_type": "execute_result"
    }
   ],
   "source": [
    "# number of unique colors\n",
    "list(countswl).count(1)"
   ]
  },
  {
   "cell_type": "code",
   "execution_count": 11,
   "id": "68ef88ca",
   "metadata": {
    "ExecuteTime": {
     "end_time": "2023-03-09T19:02:25.585012Z",
     "start_time": "2023-03-09T19:02:25.356321Z"
    },
    "scrolled": true
   },
   "outputs": [
    {
     "data": {
      "text/plain": [
       "648"
      ]
     },
     "execution_count": 11,
     "metadata": {},
     "output_type": "execute_result"
    }
   ],
   "source": [
    "# number of different automorphic groups (as determined by WL colors)\n",
    "len(countswl)"
   ]
  },
  {
   "cell_type": "code",
   "execution_count": 12,
   "id": "b476fdd0",
   "metadata": {
    "ExecuteTime": {
     "end_time": "2023-03-09T19:02:27.041813Z",
     "start_time": "2023-03-09T19:02:25.588040Z"
    }
   },
   "outputs": [
    {
     "data": {
      "image/png": "[encoded data removed]",
      "text/plain": [
       "<Figure size 432x288 with 2 Axes>"
      ]
     },
     "metadata": {
      "needs_background": "light"
     },
     "output_type": "display_data"
    }
   ],
   "source": [
    "import matplotlib.pyplot as plt\n",
    "import numpy as np\n",
    "\n",
    "\n",
    "f, (ax, ax2) = plt.subplots(2, 1, sharex=True)\n",
    "\n",
    "# plot the same data on both axes\n",
    "ax.hist(countswl, bins=18, edgecolor='black')\n",
    "ax2.hist(countswl, bins=18, edgecolor='black')\n",
    "\n",
    "# zoom-in / limit the view to different portions of the data\n",
    "ax.set_ylim(10, 700)  # outliers only\n",
    "ax2.set_ylim(0, 5)  # most of the data\n",
    "\n",
    "# hide the spines between ax and ax2\n",
    "ax.spines['bottom'].set_visible(False)\n",
    "ax2.spines['top'].set_visible(False)\n",
    "ax.xaxis.tick_top()\n",
    "ax.tick_params(labeltop=False)  # don't put tick labels at the top\n",
    "ax2.xaxis.tick_bottom()\n",
    "\n",
    "\n",
    "d = .015  # how big to make the diagonal lines in axes coordinates\n",
    "kwargs = dict(transform=ax.transAxes, color='k', clip_on=False)\n",
    "ax.plot((-d, +d), (-d, +d), **kwargs)        # top-left diagonal\n",
    "ax.plot((1 - d, 1 + d), (-d, +d), **kwargs)  # top-right diagonal\n",
    "\n",
    "kwargs.update(transform=ax2.transAxes)  # switch to the bottom axes\n",
    "ax2.plot((-d, +d), (1 - d, 1 + d), **kwargs)  # bottom-left diagonal\n",
    "ax2.plot((1 - d, 1 + d), (1 - d, 1 + d), **kwargs)  # bottom-right diagonal\n",
    "\n",
    "#ax.set_title('Distribution of Sizes of Automorphic Groups')\n",
    "plt.xlabel('Size of Automorphic Group (# nodes)')\n",
    "plt.ylabel('Count')\n",
    "plt.show()\n",
    "#plt.savefig('DPPINDistWL.pdf', bbox_inches='tight')"
   ]
  },
  {
   "cell_type": "markdown",
   "id": "6f0f10ed",
   "metadata": {},
   "source": [
    "## Facebook"
   ]
  },
  {
   "cell_type": "code",
   "execution_count": 13,
   "id": "ac7fc2ed",
   "metadata": {
    "ExecuteTime": {
     "end_time": "2023-03-09T19:02:27.049737Z",
     "start_time": "2023-03-09T19:02:27.043078Z"
    }
   },
   "outputs": [],
   "source": [
    "facebook = pd.read_csv('../Data/facebook.csv')"
   ]
  },
  {
   "cell_type": "code",
   "execution_count": 14,
   "id": "8e912a9b",
   "metadata": {
    "ExecuteTime": {
     "end_time": "2023-03-09T19:02:27.458485Z",
     "start_time": "2023-03-09T19:02:27.050892Z"
    },
    "scrolled": true
   },
   "outputs": [
    {
     "data": {
      "text/html": [
       "<div>\n",
       "<style scoped>\n",
       "    .dataframe tbody tr th:only-of-type {\n",
       "        vertical-align: middle;\n",
       "    }\n",
       "\n",
       "    .dataframe tbody tr th {\n",
       "        vertical-align: top;\n",
       "    }\n",
       "\n",
       "    .dataframe thead th {\n",
       "        text-align: right;\n",
       "    }\n",
       "</style>\n",
       "<table border=\"1\" class=\"dataframe\">\n",
       "  <thead>\n",
       "    <tr style=\"text-align: right;\">\n",
       "      <th></th>\n",
       "      <th>src</th>\n",
       "      <th>trg</th>\n",
       "      <th>time</th>\n",
       "    </tr>\n",
       "  </thead>\n",
       "  <tbody>\n",
       "    <tr>\n",
       "      <th>0</th>\n",
       "      <td>12830</td>\n",
       "      <td>14791</td>\n",
       "      <td>1.147169e+09</td>\n",
       "    </tr>\n",
       "    <tr>\n",
       "      <th>1</th>\n",
       "      <td>11072</td>\n",
       "      <td>21587</td>\n",
       "      <td>1.147170e+09</td>\n",
       "    </tr>\n",
       "    <tr>\n",
       "      <th>2</th>\n",
       "      <td>12830</td>\n",
       "      <td>14797</td>\n",
       "      <td>1.147170e+09</td>\n",
       "    </tr>\n",
       "    <tr>\n",
       "      <th>3</th>\n",
       "      <td>1084</td>\n",
       "      <td>6297</td>\n",
       "      <td>1.147170e+09</td>\n",
       "    </tr>\n",
       "    <tr>\n",
       "      <th>4</th>\n",
       "      <td>9089</td>\n",
       "      <td>2304</td>\n",
       "      <td>1.147171e+09</td>\n",
       "    </tr>\n",
       "  </tbody>\n",
       "</table>\n",
       "</div>"
      ],
      "text/plain": [
       "     src    trg          time\n",
       "0  12830  14791  1.147169e+09\n",
       "1  11072  21587  1.147170e+09\n",
       "2  12830  14797  1.147170e+09\n",
       "3   1084   6297  1.147170e+09\n",
       "4   9089   2304  1.147171e+09"
      ]
     },
     "execution_count": 14,
     "metadata": {},
     "output_type": "execute_result"
    }
   ],
   "source": [
    "facebook.head()"
   ]
  },
  {
   "cell_type": "code",
   "execution_count": 15,
   "id": "6d66a23f",
   "metadata": {
    "ExecuteTime": {
     "end_time": "2023-03-09T19:02:27.810721Z",
     "start_time": "2023-03-09T19:02:27.460505Z"
    }
   },
   "outputs": [],
   "source": [
    "G = load_graph(facebook)"
   ]
  },
  {
   "cell_type": "code",
   "execution_count": 16,
   "id": "5eadde97",
   "metadata": {
    "ExecuteTime": {
     "end_time": "2023-03-09T19:02:28.403130Z",
     "start_time": "2023-03-09T19:02:27.813204Z"
    }
   },
   "outputs": [],
   "source": [
    "# G_hashes gets WL \"colors\"\n",
    "G_hashes = nx.weisfeiler_lehman_subgraph_hashes(G, iterations=20, digest_size=16)"
   ]
  },
  {
   "cell_type": "code",
   "execution_count": 17,
   "id": "9d2d7f29",
   "metadata": {
    "ExecuteTime": {
     "end_time": "2023-03-09T19:02:28.418624Z",
     "start_time": "2023-03-09T19:02:28.405069Z"
    }
   },
   "outputs": [],
   "source": [
    "fbwldf = pd.DataFrame.from_dict(G_hashes, orient='index')"
   ]
  },
  {
   "cell_type": "code",
   "execution_count": 18,
   "id": "70a1d012",
   "metadata": {
    "ExecuteTime": {
     "end_time": "2023-03-09T19:02:28.651447Z",
     "start_time": "2023-03-09T19:02:28.421568Z"
    }
   },
   "outputs": [],
   "source": [
    "#size of each automorphic group (as determined by WL colors)\n",
    "countswl = np.array(fbwldf.value_counts())"
   ]
  },
  {
   "cell_type": "code",
   "execution_count": 19,
   "id": "a91448c7",
   "metadata": {
    "ExecuteTime": {
     "end_time": "2023-03-09T19:02:28.774126Z",
     "start_time": "2023-03-09T19:02:28.653318Z"
    }
   },
   "outputs": [
    {
     "data": {
      "text/plain": [
       "array([492, 112,  56, ...,   1,   1,   1])"
      ]
     },
     "execution_count": 19,
     "metadata": {},
     "output_type": "execute_result"
    }
   ],
   "source": [
    "countswl"
   ]
  },
  {
   "cell_type": "code",
   "execution_count": 20,
   "id": "a1667a72",
   "metadata": {
    "ExecuteTime": {
     "end_time": "2023-03-09T19:02:28.881510Z",
     "start_time": "2023-03-09T19:02:28.775537Z"
    }
   },
   "outputs": [
    {
     "data": {
      "text/plain": [
       "2744"
      ]
     },
     "execution_count": 20,
     "metadata": {},
     "output_type": "execute_result"
    }
   ],
   "source": [
    "# number of unique colors\n",
    "list(countswl).count(1)"
   ]
  },
  {
   "cell_type": "code",
   "execution_count": 21,
   "id": "cd6fc6ce",
   "metadata": {
    "ExecuteTime": {
     "end_time": "2023-03-09T19:02:28.998655Z",
     "start_time": "2023-03-09T19:02:28.884035Z"
    }
   },
   "outputs": [
    {
     "data": {
      "text/plain": [
       "3030"
      ]
     },
     "execution_count": 21,
     "metadata": {},
     "output_type": "execute_result"
    }
   ],
   "source": [
    "# number of different automorphic groups (as determined by WL colors)\n",
    "len(countswl)"
   ]
  },
  {
   "cell_type": "code",
   "execution_count": 22,
   "id": "43e54527",
   "metadata": {
    "ExecuteTime": {
     "end_time": "2023-03-09T19:02:29.538940Z",
     "start_time": "2023-03-09T19:02:29.000981Z"
    }
   },
   "outputs": [
    {
     "data": {
      "image/png": "[encoded data removed]",
      "text/plain": [
       "<Figure size 432x288 with 2 Axes>"
      ]
     },
     "metadata": {
      "needs_background": "light"
     },
     "output_type": "display_data"
    }
   ],
   "source": [
    "import matplotlib.pyplot as plt\n",
    "import numpy as np\n",
    "\n",
    "\n",
    "# (ax2) for the details of the majority of our data\n",
    "f, (ax, ax2) = plt.subplots(2, 1, sharex=True)\n",
    "\n",
    "# plot the same data on both axes\n",
    "ax.hist(countswl, bins=50, edgecolor='black')\n",
    "ax2.hist(countswl, bins=50, edgecolor='black')\n",
    "\n",
    "# zoom-in / limit the view to different portions of the data\n",
    "ax.set_ylim(10, 4000)  # outliers only\n",
    "ax2.set_ylim(0, 5)  # most of the data\n",
    "\n",
    "# hide the spines between ax and ax2\n",
    "ax.spines['bottom'].set_visible(False)\n",
    "ax2.spines['top'].set_visible(False)\n",
    "ax.xaxis.tick_top()\n",
    "ax.tick_params(labeltop=False)  # don't put tick labels at the top\n",
    "ax2.xaxis.tick_bottom()\n",
    "\n",
    "d = .015  # how big to make the diagonal lines in axes coordinates\n",
    "kwargs = dict(transform=ax.transAxes, color='k', clip_on=False)\n",
    "ax.plot((-d, +d), (-d, +d), **kwargs)        # top-left diagonal\n",
    "ax.plot((1 - d, 1 + d), (-d, +d), **kwargs)  # top-right diagonal\n",
    "\n",
    "kwargs.update(transform=ax2.transAxes)  # switch to the bottom axes\n",
    "ax2.plot((-d, +d), (1 - d, 1 + d), **kwargs)  # bottom-left diagonal\n",
    "ax2.plot((1 - d, 1 + d), (1 - d, 1 + d), **kwargs)  # bottom-right diagonal\n",
    "\n",
    "#ax.set_title('Distribution of Sizes of Automorphic Groups')\n",
    "plt.xlabel('Size of Automorphic Group (# nodes)')\n",
    "plt.ylabel('Count')\n",
    "plt.show()\n",
    "#plt.savefig('FBDistWL.pdf', bbox_inches='tight')"
   ]
  },
  {
   "cell_type": "markdown",
   "id": "da833a42",
   "metadata": {},
   "source": [
    "## UCI"
   ]
  },
  {
   "cell_type": "code",
   "execution_count": 23,
   "id": "ee59fb33",
   "metadata": {
    "ExecuteTime": {
     "end_time": "2023-03-09T19:02:29.559152Z",
     "start_time": "2023-03-09T19:02:29.540385Z"
    },
    "scrolled": true
   },
   "outputs": [],
   "source": [
    "uci = pd.read_csv('../Data/uci_graph.csv')"
   ]
  },
  {
   "cell_type": "code",
   "execution_count": 24,
   "id": "293f798e",
   "metadata": {
    "ExecuteTime": {
     "end_time": "2023-03-09T19:02:29.692012Z",
     "start_time": "2023-03-09T19:02:29.560888Z"
    },
    "scrolled": true
   },
   "outputs": [
    {
     "data": {
      "text/html": [
       "<div>\n",
       "<style scoped>\n",
       "    .dataframe tbody tr th:only-of-type {\n",
       "        vertical-align: middle;\n",
       "    }\n",
       "\n",
       "    .dataframe tbody tr th {\n",
       "        vertical-align: top;\n",
       "    }\n",
       "\n",
       "    .dataframe thead th {\n",
       "        text-align: right;\n",
       "    }\n",
       "</style>\n",
       "<table border=\"1\" class=\"dataframe\">\n",
       "  <thead>\n",
       "    <tr style=\"text-align: right;\">\n",
       "      <th></th>\n",
       "      <th>src</th>\n",
       "      <th>trg</th>\n",
       "      <th>time</th>\n",
       "    </tr>\n",
       "  </thead>\n",
       "  <tbody>\n",
       "    <tr>\n",
       "      <th>0</th>\n",
       "      <td>1</td>\n",
       "      <td>2</td>\n",
       "      <td>1082008561</td>\n",
       "    </tr>\n",
       "    <tr>\n",
       "      <th>1</th>\n",
       "      <td>3</td>\n",
       "      <td>4</td>\n",
       "      <td>1082123439</td>\n",
       "    </tr>\n",
       "    <tr>\n",
       "      <th>2</th>\n",
       "      <td>5</td>\n",
       "      <td>2</td>\n",
       "      <td>1082381991</td>\n",
       "    </tr>\n",
       "    <tr>\n",
       "      <th>3</th>\n",
       "      <td>6</td>\n",
       "      <td>7</td>\n",
       "      <td>1082407219</td>\n",
       "    </tr>\n",
       "    <tr>\n",
       "      <th>4</th>\n",
       "      <td>8</td>\n",
       "      <td>7</td>\n",
       "      <td>1082407356</td>\n",
       "    </tr>\n",
       "  </tbody>\n",
       "</table>\n",
       "</div>"
      ],
      "text/plain": [
       "   src  trg        time\n",
       "0    1    2  1082008561\n",
       "1    3    4  1082123439\n",
       "2    5    2  1082381991\n",
       "3    6    7  1082407219\n",
       "4    8    7  1082407356"
      ]
     },
     "execution_count": 24,
     "metadata": {},
     "output_type": "execute_result"
    }
   ],
   "source": [
    "uci.head()"
   ]
  },
  {
   "cell_type": "code",
   "execution_count": 25,
   "id": "3a432db0",
   "metadata": {
    "ExecuteTime": {
     "end_time": "2023-03-09T19:02:29.975113Z",
     "start_time": "2023-03-09T19:02:29.694203Z"
    }
   },
   "outputs": [],
   "source": [
    "G = load_graph(uci)"
   ]
  },
  {
   "cell_type": "code",
   "execution_count": 26,
   "id": "9dbba281",
   "metadata": {
    "ExecuteTime": {
     "end_time": "2023-03-09T19:02:30.439465Z",
     "start_time": "2023-03-09T19:02:29.977506Z"
    }
   },
   "outputs": [],
   "source": [
    "# G_hashes gets WL \"colors\"\n",
    "G_hashes = nx.weisfeiler_lehman_subgraph_hashes(G, iterations=20, digest_size=16)"
   ]
  },
  {
   "cell_type": "code",
   "execution_count": 27,
   "id": "3ed77031",
   "metadata": {
    "ExecuteTime": {
     "end_time": "2023-03-09T19:02:30.450514Z",
     "start_time": "2023-03-09T19:02:30.442462Z"
    }
   },
   "outputs": [],
   "source": [
    "uciwldf = pd.DataFrame.from_dict(G_hashes, orient='index')"
   ]
  },
  {
   "cell_type": "code",
   "execution_count": 28,
   "id": "2889f8f7",
   "metadata": {
    "ExecuteTime": {
     "end_time": "2023-03-09T19:02:30.605569Z",
     "start_time": "2023-03-09T19:02:30.455878Z"
    }
   },
   "outputs": [],
   "source": [
    "#size of each automorphic group (as determined by WL colors)\n",
    "countswl = np.array(uciwldf.value_counts())"
   ]
  },
  {
   "cell_type": "code",
   "execution_count": 29,
   "id": "2a252401",
   "metadata": {
    "ExecuteTime": {
     "end_time": "2023-03-09T19:02:30.721290Z",
     "start_time": "2023-03-09T19:02:30.608901Z"
    }
   },
   "outputs": [
    {
     "data": {
      "text/plain": [
       "1664"
      ]
     },
     "execution_count": 29,
     "metadata": {},
     "output_type": "execute_result"
    }
   ],
   "source": [
    "# number of unique colors\n",
    "list(countswl).count(1)"
   ]
  },
  {
   "cell_type": "code",
   "execution_count": 30,
   "id": "7056ae7e",
   "metadata": {
    "ExecuteTime": {
     "end_time": "2023-03-09T19:02:30.856601Z",
     "start_time": "2023-03-09T19:02:30.722893Z"
    }
   },
   "outputs": [
    {
     "data": {
      "text/plain": [
       "array([14, 14, 12, ...,  1,  1,  1])"
      ]
     },
     "execution_count": 30,
     "metadata": {},
     "output_type": "execute_result"
    }
   ],
   "source": [
    "countswl"
   ]
  },
  {
   "cell_type": "code",
   "execution_count": 31,
   "id": "82e00a90",
   "metadata": {
    "ExecuteTime": {
     "end_time": "2023-03-09T19:02:31.015898Z",
     "start_time": "2023-03-09T19:02:30.858340Z"
    },
    "scrolled": true
   },
   "outputs": [
    {
     "data": {
      "text/plain": [
       "1721"
      ]
     },
     "execution_count": 31,
     "metadata": {},
     "output_type": "execute_result"
    }
   ],
   "source": [
    "# number of different automorphic groups (as determined by WL colors)\n",
    "len(countswl)"
   ]
  },
  {
   "cell_type": "code",
   "execution_count": 32,
   "id": "250f96f9",
   "metadata": {
    "ExecuteTime": {
     "end_time": "2023-03-09T19:02:31.518619Z",
     "start_time": "2023-03-09T19:02:31.019220Z"
    }
   },
   "outputs": [
    {
     "data": {
      "image/png": "[encoded data removed]",
      "text/plain": [
       "<Figure size 432x288 with 2 Axes>"
      ]
     },
     "metadata": {
      "needs_background": "light"
     },
     "output_type": "display_data"
    }
   ],
   "source": [
    "import matplotlib.pyplot as plt\n",
    "import numpy as np\n",
    "\n",
    "\n",
    "f, (ax, ax2) = plt.subplots(2, 1, sharex=True)\n",
    "\n",
    "# plot the same data on both axes\n",
    "ax.hist(countswl, bins=14, edgecolor='black')\n",
    "ax2.hist(countswl, bins=14, edgecolor='black')\n",
    "\n",
    "# zoom-in / limit the view to different portions of the data\n",
    "ax.set_ylim(30, 2000)  # outliers only\n",
    "ax2.set_ylim(0, 30)  # most of the data\n",
    "\n",
    "# hide the spines between ax and ax2\n",
    "ax.spines['bottom'].set_visible(False)\n",
    "ax2.spines['top'].set_visible(False)\n",
    "ax.xaxis.tick_top()\n",
    "ax.tick_params(labeltop=False)  # don't put tick labels at the top\n",
    "ax2.xaxis.tick_bottom()\n",
    "\n",
    "d = .015  # how big to make the diagonal lines in axes coordinates\n",
    "kwargs = dict(transform=ax.transAxes, color='k', clip_on=False)\n",
    "ax.plot((-d, +d), (-d, +d), **kwargs)        # top-left diagonal\n",
    "ax.plot((1 - d, 1 + d), (-d, +d), **kwargs)  # top-right diagonal\n",
    "\n",
    "kwargs.update(transform=ax2.transAxes)  # switch to the bottom axes\n",
    "ax2.plot((-d, +d), (1 - d, 1 + d), **kwargs)  # bottom-left diagonal\n",
    "ax2.plot((1 - d, 1 + d), (1 - d, 1 + d), **kwargs)  # bottom-right diagonal\n",
    "\n",
    "#ax.set_title('Distribution of Sizes of Automorphic Groups')\n",
    "plt.xlabel('Size of Automorphic Group (# nodes)')\n",
    "plt.ylabel('Count')\n",
    "plt.show()\n",
    "#plt.savefig('UCIDistWL.pdf', bbox_inches='tight')"
   ]
  },
  {
   "cell_type": "markdown",
   "id": "41df505b",
   "metadata": {},
   "source": [
    "## AS"
   ]
  },
  {
   "cell_type": "code",
   "execution_count": 33,
   "id": "aa467a38",
   "metadata": {
    "ExecuteTime": {
     "end_time": "2023-03-09T19:02:32.208172Z",
     "start_time": "2023-03-09T19:02:31.521529Z"
    }
   },
   "outputs": [],
   "source": [
    "asdata = pd.read_csv('../Data/AS_dataset.csv')"
   ]
  },
  {
   "cell_type": "code",
   "execution_count": 34,
   "id": "b2823b9f",
   "metadata": {
    "ExecuteTime": {
     "end_time": "2023-03-09T19:02:32.218242Z",
     "start_time": "2023-03-09T19:02:32.209991Z"
    },
    "scrolled": true
   },
   "outputs": [
    {
     "data": {
      "text/html": [
       "<div>\n",
       "<style scoped>\n",
       "    .dataframe tbody tr th:only-of-type {\n",
       "        vertical-align: middle;\n",
       "    }\n",
       "\n",
       "    .dataframe tbody tr th {\n",
       "        vertical-align: top;\n",
       "    }\n",
       "\n",
       "    .dataframe thead th {\n",
       "        text-align: right;\n",
       "    }\n",
       "</style>\n",
       "<table border=\"1\" class=\"dataframe\">\n",
       "  <thead>\n",
       "    <tr style=\"text-align: right;\">\n",
       "      <th></th>\n",
       "      <th>src</th>\n",
       "      <th>trg</th>\n",
       "      <th>time</th>\n",
       "    </tr>\n",
       "  </thead>\n",
       "  <tbody>\n",
       "    <tr>\n",
       "      <th>0</th>\n",
       "      <td>1</td>\n",
       "      <td>701</td>\n",
       "      <td>19990824</td>\n",
       "    </tr>\n",
       "    <tr>\n",
       "      <th>1</th>\n",
       "      <td>1</td>\n",
       "      <td>7018</td>\n",
       "      <td>19990824</td>\n",
       "    </tr>\n",
       "    <tr>\n",
       "      <th>2</th>\n",
       "      <td>1</td>\n",
       "      <td>1673</td>\n",
       "      <td>19990824</td>\n",
       "    </tr>\n",
       "    <tr>\n",
       "      <th>3</th>\n",
       "      <td>1</td>\n",
       "      <td>2914</td>\n",
       "      <td>19990824</td>\n",
       "    </tr>\n",
       "    <tr>\n",
       "      <th>4</th>\n",
       "      <td>1</td>\n",
       "      <td>1239</td>\n",
       "      <td>19990824</td>\n",
       "    </tr>\n",
       "  </tbody>\n",
       "</table>\n",
       "</div>"
      ],
      "text/plain": [
       "   src   trg      time\n",
       "0    1   701  19990824\n",
       "1    1  7018  19990824\n",
       "2    1  1673  19990824\n",
       "3    1  2914  19990824\n",
       "4    1  1239  19990824"
      ]
     },
     "execution_count": 34,
     "metadata": {},
     "output_type": "execute_result"
    }
   ],
   "source": [
    "asdata.head()"
   ]
  },
  {
   "cell_type": "code",
   "execution_count": 35,
   "id": "2a5024f8",
   "metadata": {
    "ExecuteTime": {
     "end_time": "2023-03-09T19:02:37.626744Z",
     "start_time": "2023-03-09T19:02:32.220672Z"
    }
   },
   "outputs": [],
   "source": [
    "G = load_graph(asdata)"
   ]
  },
  {
   "cell_type": "code",
   "execution_count": 36,
   "id": "add40a55",
   "metadata": {
    "ExecuteTime": {
     "end_time": "2023-03-09T19:02:38.622528Z",
     "start_time": "2023-03-09T19:02:37.628397Z"
    }
   },
   "outputs": [],
   "source": [
    "# G_hashes gets WL \"colors\"\n",
    "G_hashes = nx.weisfeiler_lehman_subgraph_hashes(G, iterations=20, digest_size=16)"
   ]
  },
  {
   "cell_type": "code",
   "execution_count": 37,
   "id": "59d6c422",
   "metadata": {
    "ExecuteTime": {
     "end_time": "2023-03-09T19:02:38.658567Z",
     "start_time": "2023-03-09T19:02:38.624650Z"
    }
   },
   "outputs": [],
   "source": [
    "aswldf = pd.DataFrame.from_dict(G_hashes, orient='index')"
   ]
  },
  {
   "cell_type": "code",
   "execution_count": 38,
   "id": "eaf0d8da",
   "metadata": {
    "ExecuteTime": {
     "end_time": "2023-03-09T19:02:38.870762Z",
     "start_time": "2023-03-09T19:02:38.660604Z"
    }
   },
   "outputs": [],
   "source": [
    "#size of each automorphic group (as determined by WL colors)\n",
    "countswl = np.array(aswldf.value_counts())"
   ]
  },
  {
   "cell_type": "code",
   "execution_count": 39,
   "id": "f425f194",
   "metadata": {
    "ExecuteTime": {
     "end_time": "2023-03-09T19:02:38.880812Z",
     "start_time": "2023-03-09T19:02:38.873962Z"
    }
   },
   "outputs": [
    {
     "data": {
      "text/plain": [
       "3744"
      ]
     },
     "execution_count": 39,
     "metadata": {},
     "output_type": "execute_result"
    }
   ],
   "source": [
    "# number of unique colors\n",
    "list(countswl).count(1)"
   ]
  },
  {
   "cell_type": "code",
   "execution_count": 40,
   "id": "5de016b2",
   "metadata": {
    "ExecuteTime": {
     "end_time": "2023-03-09T19:02:38.979387Z",
     "start_time": "2023-03-09T19:02:38.882951Z"
    }
   },
   "outputs": [
    {
     "data": {
      "text/plain": [
       "array([217,  78,  74, ...,   1,   1,   1])"
      ]
     },
     "execution_count": 40,
     "metadata": {},
     "output_type": "execute_result"
    }
   ],
   "source": [
    "countswl"
   ]
  },
  {
   "cell_type": "code",
   "execution_count": 41,
   "id": "4160864c",
   "metadata": {
    "ExecuteTime": {
     "end_time": "2023-03-09T19:02:39.072780Z",
     "start_time": "2023-03-09T19:02:38.981915Z"
    }
   },
   "outputs": [
    {
     "data": {
      "text/plain": [
       "4355"
      ]
     },
     "execution_count": 41,
     "metadata": {},
     "output_type": "execute_result"
    }
   ],
   "source": [
    "# number of different automorphic groups (as determined by WL colors)\n",
    "len(countswl)"
   ]
  },
  {
   "cell_type": "code",
   "execution_count": 42,
   "id": "bb1d3bed",
   "metadata": {
    "ExecuteTime": {
     "end_time": "2023-03-09T19:02:39.552866Z",
     "start_time": "2023-03-09T19:02:39.085502Z"
    },
    "scrolled": true
   },
   "outputs": [
    {
     "data": {
      "image/png": "[encoded data removed]",
      "text/plain": [
       "<Figure size 432x288 with 2 Axes>"
      ]
     },
     "metadata": {
      "needs_background": "light"
     },
     "output_type": "display_data"
    }
   ],
   "source": [
    "import matplotlib.pyplot as plt\n",
    "import numpy as np\n",
    "\n",
    "\n",
    "f, (ax, ax2) = plt.subplots(2, 1, sharex=True)\n",
    "\n",
    "# plot the same data on both axes\n",
    "ax.hist(countswl, bins=25, edgecolor='black')\n",
    "ax2.hist(countswl, bins=25, edgecolor='black')\n",
    "\n",
    "# zoom-in / limit the view to different portions of the data\n",
    "ax.set_ylim(50, 5000)  # outliers only\n",
    "ax2.set_ylim(0, 30)  # most of the data\n",
    "\n",
    "# hide the spines between ax and ax2\n",
    "ax.spines['bottom'].set_visible(False)\n",
    "ax2.spines['top'].set_visible(False)\n",
    "ax.xaxis.tick_top()\n",
    "ax.tick_params(labeltop=False)  # don't put tick labels at the top\n",
    "ax2.xaxis.tick_bottom()\n",
    "\n",
    "d = .015  # how big to make the diagonal lines in axes coordinates\n",
    "kwargs = dict(transform=ax.transAxes, color='k', clip_on=False)\n",
    "ax.plot((-d, +d), (-d, +d), **kwargs)        # top-left diagonal\n",
    "ax.plot((1 - d, 1 + d), (-d, +d), **kwargs)  # top-right diagonal\n",
    "\n",
    "kwargs.update(transform=ax2.transAxes)  # switch to the bottom axes\n",
    "ax2.plot((-d, +d), (1 - d, 1 + d), **kwargs)  # bottom-left diagonal\n",
    "ax2.plot((1 - d, 1 + d), (1 - d, 1 + d), **kwargs)  # bottom-right diagonal\n",
    "\n",
    "#ax.set_title('Distribution of Sizes of Automorphic Groups')\n",
    "plt.xlabel('Size of Automorphic Group (# nodes)')\n",
    "plt.ylabel('Count')\n",
    "plt.show()\n",
    "#plt.savefig('ASDistWL.pdf', bbox_inches='tight')"
   ]
  },
  {
   "cell_type": "markdown",
   "id": "0f69f954",
   "metadata": {},
   "source": [
    "## Bitcoin"
   ]
  },
  {
   "cell_type": "code",
   "execution_count": 43,
   "id": "76e17db4",
   "metadata": {
    "ExecuteTime": {
     "end_time": "2023-03-09T19:02:39.578102Z",
     "start_time": "2023-03-09T19:02:39.555483Z"
    }
   },
   "outputs": [],
   "source": [
    "otc = pd.read_csv('../Data/bitcoin_otc_graph.csv')"
   ]
  },
  {
   "cell_type": "code",
   "execution_count": 44,
   "id": "fcf3a643",
   "metadata": {
    "ExecuteTime": {
     "end_time": "2023-03-09T19:02:39.652386Z",
     "start_time": "2023-03-09T19:02:39.581080Z"
    },
    "scrolled": true
   },
   "outputs": [
    {
     "data": {
      "text/html": [
       "<div>\n",
       "<style scoped>\n",
       "    .dataframe tbody tr th:only-of-type {\n",
       "        vertical-align: middle;\n",
       "    }\n",
       "\n",
       "    .dataframe tbody tr th {\n",
       "        vertical-align: top;\n",
       "    }\n",
       "\n",
       "    .dataframe thead th {\n",
       "        text-align: right;\n",
       "    }\n",
       "</style>\n",
       "<table border=\"1\" class=\"dataframe\">\n",
       "  <thead>\n",
       "    <tr style=\"text-align: right;\">\n",
       "      <th></th>\n",
       "      <th>src</th>\n",
       "      <th>trg</th>\n",
       "      <th>time</th>\n",
       "      <th>edgelab</th>\n",
       "    </tr>\n",
       "  </thead>\n",
       "  <tbody>\n",
       "    <tr>\n",
       "      <th>0</th>\n",
       "      <td>6</td>\n",
       "      <td>2</td>\n",
       "      <td>1.289242e+09</td>\n",
       "      <td>4</td>\n",
       "    </tr>\n",
       "    <tr>\n",
       "      <th>1</th>\n",
       "      <td>6</td>\n",
       "      <td>5</td>\n",
       "      <td>1.289242e+09</td>\n",
       "      <td>2</td>\n",
       "    </tr>\n",
       "    <tr>\n",
       "      <th>2</th>\n",
       "      <td>1</td>\n",
       "      <td>15</td>\n",
       "      <td>1.289243e+09</td>\n",
       "      <td>1</td>\n",
       "    </tr>\n",
       "    <tr>\n",
       "      <th>3</th>\n",
       "      <td>4</td>\n",
       "      <td>3</td>\n",
       "      <td>1.289245e+09</td>\n",
       "      <td>7</td>\n",
       "    </tr>\n",
       "    <tr>\n",
       "      <th>4</th>\n",
       "      <td>13</td>\n",
       "      <td>16</td>\n",
       "      <td>1.289254e+09</td>\n",
       "      <td>8</td>\n",
       "    </tr>\n",
       "  </tbody>\n",
       "</table>\n",
       "</div>"
      ],
      "text/plain": [
       "   src  trg          time  edgelab\n",
       "0    6    2  1.289242e+09        4\n",
       "1    6    5  1.289242e+09        2\n",
       "2    1   15  1.289243e+09        1\n",
       "3    4    3  1.289245e+09        7\n",
       "4   13   16  1.289254e+09        8"
      ]
     },
     "execution_count": 44,
     "metadata": {},
     "output_type": "execute_result"
    }
   ],
   "source": [
    "otc.head()"
   ]
  },
  {
   "cell_type": "code",
   "execution_count": 45,
   "id": "484a96ec",
   "metadata": {
    "ExecuteTime": {
     "end_time": "2023-03-09T19:02:39.795132Z",
     "start_time": "2023-03-09T19:02:39.653943Z"
    }
   },
   "outputs": [],
   "source": [
    "G = load_graph(otc)"
   ]
  },
  {
   "cell_type": "code",
   "execution_count": 46,
   "id": "14b25767",
   "metadata": {
    "ExecuteTime": {
     "end_time": "2023-03-09T19:02:40.673669Z",
     "start_time": "2023-03-09T19:02:39.797109Z"
    }
   },
   "outputs": [],
   "source": [
    "# G_hashes gets WL \"colors\"\n",
    "G_hashes = nx.weisfeiler_lehman_subgraph_hashes(G, iterations=20, digest_size=16)"
   ]
  },
  {
   "cell_type": "code",
   "execution_count": 47,
   "id": "635b73fc",
   "metadata": {
    "ExecuteTime": {
     "end_time": "2023-03-09T19:02:40.694293Z",
     "start_time": "2023-03-09T19:02:40.675011Z"
    }
   },
   "outputs": [],
   "source": [
    "otcwldf = pd.DataFrame.from_dict(G_hashes, orient='index')"
   ]
  },
  {
   "cell_type": "code",
   "execution_count": 48,
   "id": "975045d3",
   "metadata": {
    "ExecuteTime": {
     "end_time": "2023-03-09T19:02:40.996380Z",
     "start_time": "2023-03-09T19:02:40.696339Z"
    }
   },
   "outputs": [],
   "source": [
    "#size of each automorphic group (as determined by WL colors)\n",
    "countswl = np.array(otcwldf.value_counts())"
   ]
  },
  {
   "cell_type": "code",
   "execution_count": 49,
   "id": "b38099fb",
   "metadata": {
    "ExecuteTime": {
     "end_time": "2023-03-09T19:02:41.116170Z",
     "start_time": "2023-03-09T19:02:40.998124Z"
    }
   },
   "outputs": [
    {
     "data": {
      "text/plain": [
       "3801"
      ]
     },
     "execution_count": 49,
     "metadata": {},
     "output_type": "execute_result"
    }
   ],
   "source": [
    "# number of unique colors\n",
    "list(countswl).count(1)"
   ]
  },
  {
   "cell_type": "code",
   "execution_count": 50,
   "id": "ebea3d8a",
   "metadata": {
    "ExecuteTime": {
     "end_time": "2023-03-09T19:02:41.213075Z",
     "start_time": "2023-03-09T19:02:41.117798Z"
    }
   },
   "outputs": [
    {
     "data": {
      "text/plain": [
       "array([299, 115,  70, ...,   1,   1,   1])"
      ]
     },
     "execution_count": 50,
     "metadata": {},
     "output_type": "execute_result"
    }
   ],
   "source": [
    "countswl"
   ]
  },
  {
   "cell_type": "code",
   "execution_count": 51,
   "id": "3a4c2426",
   "metadata": {
    "ExecuteTime": {
     "end_time": "2023-03-09T19:02:41.337462Z",
     "start_time": "2023-03-09T19:02:41.214587Z"
    }
   },
   "outputs": [
    {
     "data": {
      "text/plain": [
       "4170"
      ]
     },
     "execution_count": 51,
     "metadata": {},
     "output_type": "execute_result"
    }
   ],
   "source": [
    "# number of different automorphic groups (as determined by WL colors)\n",
    "len(countswl)"
   ]
  },
  {
   "cell_type": "code",
   "execution_count": 52,
   "id": "ed9e4ef1",
   "metadata": {
    "ExecuteTime": {
     "end_time": "2023-03-09T19:02:41.983627Z",
     "start_time": "2023-03-09T19:02:41.338925Z"
    }
   },
   "outputs": [
    {
     "data": {
      "text/plain": [
       "<function matplotlib.pyplot.show(close=None, block=None)>"
      ]
     },
     "execution_count": 52,
     "metadata": {},
     "output_type": "execute_result"
    },
    {
     "data": {
      "image/png": "[encoded data removed]",
      "text/plain": [
       "<Figure size 432x288 with 2 Axes>"
      ]
     },
     "metadata": {
      "needs_background": "light"
     },
     "output_type": "display_data"
    }
   ],
   "source": [
    "import matplotlib.pyplot as plt\n",
    "import numpy as np\n",
    "\n",
    "\n",
    "# (ax2) for the details of the majority of our data\n",
    "f, (ax, ax2) = plt.subplots(2, 1, sharex=True)\n",
    "\n",
    "# plot the same data on both axes\n",
    "ax.hist(countswl, bins=50, edgecolor='black')\n",
    "ax2.hist(countswl, bins=50, edgecolor='black')\n",
    "\n",
    "# zoom-in / limit the view to different portions of the data\n",
    "ax.set_ylim(50, 5000)  # outliers only\n",
    "ax2.set_ylim(0, 40)  # most of the data\n",
    "\n",
    "# hide the spines between ax and ax2\n",
    "ax.spines['bottom'].set_visible(False)\n",
    "ax2.spines['top'].set_visible(False)\n",
    "ax.xaxis.tick_top()\n",
    "ax.tick_params(labeltop=False)  # don't put tick labels at the top\n",
    "ax2.xaxis.tick_bottom()\n",
    "\n",
    "d = .015  # how big to make the diagonal lines in axes coordinates\n",
    "# arguments to pass to plot, just so we don't keep repeating them\n",
    "kwargs = dict(transform=ax.transAxes, color='k', clip_on=False)\n",
    "ax.plot((-d, +d), (-d, +d), **kwargs)        # top-left diagonal\n",
    "ax.plot((1 - d, 1 + d), (-d, +d), **kwargs)  # top-right diagonal\n",
    "\n",
    "kwargs.update(transform=ax2.transAxes)  # switch to the bottom axes\n",
    "ax2.plot((-d, +d), (1 - d, 1 + d), **kwargs)  # bottom-left diagonal\n",
    "ax2.plot((1 - d, 1 + d), (1 - d, 1 + d), **kwargs)  # bottom-right diagonal\n",
    "\n",
    "#ax.set_title('Distribution of Sizes of Automorphic Groups')\n",
    "plt.xlabel('Size of Automorphic Group (# nodes)')\n",
    "plt.ylabel('Count')\n",
    "plt.show\n",
    "#plt.savefig('OTCDistWL.pdf', bbox_inches='tight')"
   ]
  },
  {
   "cell_type": "markdown",
   "id": "13440dc2",
   "metadata": {},
   "source": [
    "## Hospital"
   ]
  },
  {
   "cell_type": "code",
   "execution_count": 53,
   "id": "5b85321b",
   "metadata": {
    "ExecuteTime": {
     "end_time": "2023-03-09T19:02:41.998059Z",
     "start_time": "2023-03-09T19:02:41.985626Z"
    }
   },
   "outputs": [],
   "source": [
    "hospital = pd.read_csv('../Data/hospital.csv')"
   ]
  },
  {
   "cell_type": "code",
   "execution_count": 54,
   "id": "782d59ce",
   "metadata": {
    "ExecuteTime": {
     "end_time": "2023-03-09T19:02:42.132692Z",
     "start_time": "2023-03-09T19:02:41.999980Z"
    },
    "scrolled": false
   },
   "outputs": [
    {
     "data": {
      "text/html": [
       "<div>\n",
       "<style scoped>\n",
       "    .dataframe tbody tr th:only-of-type {\n",
       "        vertical-align: middle;\n",
       "    }\n",
       "\n",
       "    .dataframe tbody tr th {\n",
       "        vertical-align: top;\n",
       "    }\n",
       "\n",
       "    .dataframe thead th {\n",
       "        text-align: right;\n",
       "    }\n",
       "</style>\n",
       "<table border=\"1\" class=\"dataframe\">\n",
       "  <thead>\n",
       "    <tr style=\"text-align: right;\">\n",
       "      <th></th>\n",
       "      <th>src</th>\n",
       "      <th>trg</th>\n",
       "      <th>time</th>\n",
       "    </tr>\n",
       "  </thead>\n",
       "  <tbody>\n",
       "    <tr>\n",
       "      <th>0</th>\n",
       "      <td>1157</td>\n",
       "      <td>1232</td>\n",
       "      <td>140</td>\n",
       "    </tr>\n",
       "    <tr>\n",
       "      <th>1</th>\n",
       "      <td>1157</td>\n",
       "      <td>1191</td>\n",
       "      <td>160</td>\n",
       "    </tr>\n",
       "    <tr>\n",
       "      <th>2</th>\n",
       "      <td>1157</td>\n",
       "      <td>1159</td>\n",
       "      <td>500</td>\n",
       "    </tr>\n",
       "    <tr>\n",
       "      <th>3</th>\n",
       "      <td>1157</td>\n",
       "      <td>1159</td>\n",
       "      <td>520</td>\n",
       "    </tr>\n",
       "    <tr>\n",
       "      <th>4</th>\n",
       "      <td>1159</td>\n",
       "      <td>1191</td>\n",
       "      <td>560</td>\n",
       "    </tr>\n",
       "  </tbody>\n",
       "</table>\n",
       "</div>"
      ],
      "text/plain": [
       "    src   trg  time\n",
       "0  1157  1232   140\n",
       "1  1157  1191   160\n",
       "2  1157  1159   500\n",
       "3  1157  1159   520\n",
       "4  1159  1191   560"
      ]
     },
     "execution_count": 54,
     "metadata": {},
     "output_type": "execute_result"
    }
   ],
   "source": [
    "hospital.head()"
   ]
  },
  {
   "cell_type": "code",
   "execution_count": 55,
   "id": "0cb28e6a",
   "metadata": {
    "ExecuteTime": {
     "end_time": "2023-03-09T19:02:42.300333Z",
     "start_time": "2023-03-09T19:02:42.134938Z"
    }
   },
   "outputs": [],
   "source": [
    "G = load_graph(hospital)"
   ]
  },
  {
   "cell_type": "code",
   "execution_count": 56,
   "id": "bd8819cc",
   "metadata": {
    "ExecuteTime": {
     "end_time": "2023-03-09T19:02:42.427220Z",
     "start_time": "2023-03-09T19:02:42.302455Z"
    }
   },
   "outputs": [],
   "source": [
    "# G_hashes gets WL \"colors\"\n",
    "G_hashes = nx.weisfeiler_lehman_subgraph_hashes(G, iterations=20, digest_size=16)"
   ]
  },
  {
   "cell_type": "code",
   "execution_count": 57,
   "id": "1ee4717f",
   "metadata": {
    "ExecuteTime": {
     "end_time": "2023-03-09T19:02:42.567920Z",
     "start_time": "2023-03-09T19:02:42.428861Z"
    }
   },
   "outputs": [],
   "source": [
    "hospwldf = pd.DataFrame.from_dict(G_hashes, orient='index')"
   ]
  },
  {
   "cell_type": "code",
   "execution_count": 58,
   "id": "ead15109",
   "metadata": {
    "ExecuteTime": {
     "end_time": "2023-03-09T19:02:42.673585Z",
     "start_time": "2023-03-09T19:02:42.569526Z"
    }
   },
   "outputs": [],
   "source": [
    "#size of each automorphic group (as determined by WL colors)\n",
    "countswl = np.array(hospwldf.value_counts())"
   ]
  },
  {
   "cell_type": "code",
   "execution_count": 59,
   "id": "21976d20",
   "metadata": {
    "ExecuteTime": {
     "end_time": "2023-03-09T19:02:42.751407Z",
     "start_time": "2023-03-09T19:02:42.675314Z"
    }
   },
   "outputs": [
    {
     "data": {
      "text/plain": [
       "75"
      ]
     },
     "execution_count": 59,
     "metadata": {},
     "output_type": "execute_result"
    }
   ],
   "source": [
    "# number of unique colors\n",
    "list(countswl).count(1)"
   ]
  },
  {
   "cell_type": "code",
   "execution_count": 60,
   "id": "68cfe42f",
   "metadata": {
    "ExecuteTime": {
     "end_time": "2023-03-09T19:02:42.871100Z",
     "start_time": "2023-03-09T19:02:42.753104Z"
    }
   },
   "outputs": [
    {
     "data": {
      "text/plain": [
       "array([1, 1, 1, 1, 1, 1, 1, 1, 1, 1, 1, 1, 1, 1, 1, 1, 1, 1, 1, 1, 1, 1,\n",
       "       1, 1, 1, 1, 1, 1, 1, 1, 1, 1, 1, 1, 1, 1, 1, 1, 1, 1, 1, 1, 1, 1,\n",
       "       1, 1, 1, 1, 1, 1, 1, 1, 1, 1, 1, 1, 1, 1, 1, 1, 1, 1, 1, 1, 1, 1,\n",
       "       1, 1, 1, 1, 1, 1, 1, 1, 1])"
      ]
     },
     "execution_count": 60,
     "metadata": {},
     "output_type": "execute_result"
    }
   ],
   "source": [
    "countswl"
   ]
  },
  {
   "cell_type": "code",
   "execution_count": 61,
   "id": "23eb925e",
   "metadata": {
    "ExecuteTime": {
     "end_time": "2023-03-09T19:02:43.091387Z",
     "start_time": "2023-03-09T19:02:42.873553Z"
    }
   },
   "outputs": [
    {
     "data": {
      "text/plain": [
       "75"
      ]
     },
     "execution_count": 61,
     "metadata": {},
     "output_type": "execute_result"
    }
   ],
   "source": [
    "# number of different automorphic groups (as determined by WL colors)\n",
    "len(countswl)"
   ]
  },
  {
   "cell_type": "markdown",
   "id": "42142066",
   "metadata": {},
   "source": [
    "## High School"
   ]
  },
  {
   "cell_type": "code",
   "execution_count": 62,
   "id": "7e8b5feb",
   "metadata": {
    "ExecuteTime": {
     "end_time": "2023-03-09T19:02:43.260897Z",
     "start_time": "2023-03-09T19:02:43.094002Z"
    }
   },
   "outputs": [],
   "source": [
    "high = pd.read_csv('../Data/highschool.csv')"
   ]
  },
  {
   "cell_type": "code",
   "execution_count": 63,
   "id": "c911d502",
   "metadata": {
    "ExecuteTime": {
     "end_time": "2023-03-09T19:02:43.358108Z",
     "start_time": "2023-03-09T19:02:43.262306Z"
    }
   },
   "outputs": [
    {
     "data": {
      "text/html": [
       "<div>\n",
       "<style scoped>\n",
       "    .dataframe tbody tr th:only-of-type {\n",
       "        vertical-align: middle;\n",
       "    }\n",
       "\n",
       "    .dataframe tbody tr th {\n",
       "        vertical-align: top;\n",
       "    }\n",
       "\n",
       "    .dataframe thead th {\n",
       "        text-align: right;\n",
       "    }\n",
       "</style>\n",
       "<table border=\"1\" class=\"dataframe\">\n",
       "  <thead>\n",
       "    <tr style=\"text-align: right;\">\n",
       "      <th></th>\n",
       "      <th>src</th>\n",
       "      <th>trg</th>\n",
       "      <th>time</th>\n",
       "    </tr>\n",
       "  </thead>\n",
       "  <tbody>\n",
       "    <tr>\n",
       "      <th>0</th>\n",
       "      <td>1170</td>\n",
       "      <td>1644</td>\n",
       "      <td>1353303380</td>\n",
       "    </tr>\n",
       "    <tr>\n",
       "      <th>1</th>\n",
       "      <td>1170</td>\n",
       "      <td>1613</td>\n",
       "      <td>1353303400</td>\n",
       "    </tr>\n",
       "    <tr>\n",
       "      <th>2</th>\n",
       "      <td>1170</td>\n",
       "      <td>1644</td>\n",
       "      <td>1353303640</td>\n",
       "    </tr>\n",
       "    <tr>\n",
       "      <th>3</th>\n",
       "      <td>1181</td>\n",
       "      <td>1651</td>\n",
       "      <td>1353303760</td>\n",
       "    </tr>\n",
       "    <tr>\n",
       "      <th>4</th>\n",
       "      <td>1108</td>\n",
       "      <td>1190</td>\n",
       "      <td>1353303840</td>\n",
       "    </tr>\n",
       "  </tbody>\n",
       "</table>\n",
       "</div>"
      ],
      "text/plain": [
       "    src   trg        time\n",
       "0  1170  1644  1353303380\n",
       "1  1170  1613  1353303400\n",
       "2  1170  1644  1353303640\n",
       "3  1181  1651  1353303760\n",
       "4  1108  1190  1353303840"
      ]
     },
     "execution_count": 63,
     "metadata": {},
     "output_type": "execute_result"
    }
   ],
   "source": [
    "high.head()"
   ]
  },
  {
   "cell_type": "code",
   "execution_count": 64,
   "id": "d2405888",
   "metadata": {
    "ExecuteTime": {
     "end_time": "2023-03-09T19:02:43.534472Z",
     "start_time": "2023-03-09T19:02:43.359745Z"
    }
   },
   "outputs": [],
   "source": [
    "G = load_graph(high)"
   ]
  },
  {
   "cell_type": "code",
   "execution_count": 65,
   "id": "93dae3d3",
   "metadata": {
    "ExecuteTime": {
     "end_time": "2023-03-09T19:02:43.663218Z",
     "start_time": "2023-03-09T19:02:43.536102Z"
    }
   },
   "outputs": [],
   "source": [
    "# G_hashes gets WL \"colors\"\n",
    "G_hashes = nx.weisfeiler_lehman_subgraph_hashes(G, iterations=20, digest_size=16)"
   ]
  },
  {
   "cell_type": "code",
   "execution_count": 66,
   "id": "706e0cb3",
   "metadata": {
    "ExecuteTime": {
     "end_time": "2023-03-09T19:02:43.770440Z",
     "start_time": "2023-03-09T19:02:43.664749Z"
    }
   },
   "outputs": [],
   "source": [
    "highwldf = pd.DataFrame.from_dict(G_hashes, orient='index')"
   ]
  },
  {
   "cell_type": "code",
   "execution_count": 67,
   "id": "bfb36aac",
   "metadata": {
    "ExecuteTime": {
     "end_time": "2023-03-09T19:02:43.889137Z",
     "start_time": "2023-03-09T19:02:43.772079Z"
    }
   },
   "outputs": [],
   "source": [
    "#size of each automorphic group (as determined by WL colors)\n",
    "countswl = np.array(highwldf.value_counts())"
   ]
  },
  {
   "cell_type": "code",
   "execution_count": 68,
   "id": "27f5874f",
   "metadata": {
    "ExecuteTime": {
     "end_time": "2023-03-09T19:02:44.041127Z",
     "start_time": "2023-03-09T19:02:43.890564Z"
    }
   },
   "outputs": [
    {
     "data": {
      "text/plain": [
       "180"
      ]
     },
     "execution_count": 68,
     "metadata": {},
     "output_type": "execute_result"
    }
   ],
   "source": [
    "# number of unique colors\n",
    "list(countswl).count(1)"
   ]
  },
  {
   "cell_type": "code",
   "execution_count": 69,
   "id": "cd6922ff",
   "metadata": {
    "ExecuteTime": {
     "end_time": "2023-03-09T19:02:44.146118Z",
     "start_time": "2023-03-09T19:02:44.049402Z"
    }
   },
   "outputs": [
    {
     "data": {
      "text/plain": [
       "array([1, 1, 1, 1, 1, 1, 1, 1, 1, 1, 1, 1, 1, 1, 1, 1, 1, 1, 1, 1, 1, 1,\n",
       "       1, 1, 1, 1, 1, 1, 1, 1, 1, 1, 1, 1, 1, 1, 1, 1, 1, 1, 1, 1, 1, 1,\n",
       "       1, 1, 1, 1, 1, 1, 1, 1, 1, 1, 1, 1, 1, 1, 1, 1, 1, 1, 1, 1, 1, 1,\n",
       "       1, 1, 1, 1, 1, 1, 1, 1, 1, 1, 1, 1, 1, 1, 1, 1, 1, 1, 1, 1, 1, 1,\n",
       "       1, 1, 1, 1, 1, 1, 1, 1, 1, 1, 1, 1, 1, 1, 1, 1, 1, 1, 1, 1, 1, 1,\n",
       "       1, 1, 1, 1, 1, 1, 1, 1, 1, 1, 1, 1, 1, 1, 1, 1, 1, 1, 1, 1, 1, 1,\n",
       "       1, 1, 1, 1, 1, 1, 1, 1, 1, 1, 1, 1, 1, 1, 1, 1, 1, 1, 1, 1, 1, 1,\n",
       "       1, 1, 1, 1, 1, 1, 1, 1, 1, 1, 1, 1, 1, 1, 1, 1, 1, 1, 1, 1, 1, 1,\n",
       "       1, 1, 1, 1])"
      ]
     },
     "execution_count": 69,
     "metadata": {},
     "output_type": "execute_result"
    }
   ],
   "source": [
    "countswl"
   ]
  },
  {
   "cell_type": "code",
   "execution_count": 70,
   "id": "9e296bfc",
   "metadata": {
    "ExecuteTime": {
     "end_time": "2023-03-09T19:02:44.262781Z",
     "start_time": "2023-03-09T19:02:44.147536Z"
    }
   },
   "outputs": [
    {
     "data": {
      "text/plain": [
       "180"
      ]
     },
     "execution_count": 70,
     "metadata": {},
     "output_type": "execute_result"
    }
   ],
   "source": [
    "# number of different automorphic groups (as determined by WL colors)\n",
    "len(countswl)"
   ]
  }
 ],
 "metadata": {
  "kernelspec": {
   "display_name": "Python 3 (ipykernel)",
   "language": "python",
   "name": "python3"
  },
  "language_info": {
   "codemirror_mode": {
    "name": "ipython",
    "version": 3
   },
   "file_extension": ".py",
   "mimetype": "text/x-python",
   "name": "python",
   "nbconvert_exporter": "python",
   "pygments_lexer": "ipython3",
   "version": "3.9.12"
  }
 },
 "nbformat": 4,
 "nbformat_minor": 5
}
