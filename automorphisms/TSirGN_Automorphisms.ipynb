{
 "cells": [
  {
   "cell_type": "markdown",
   "id": "ccbcd05b",
   "metadata": {},
   "source": [
    "# Plot Automorphic Groups Temporal SIR-GN"
   ]
  },
  {
   "cell_type": "markdown",
   "id": "495f2b69",
   "metadata": {},
   "source": [
    "* This notebook plots the size of each automorphic group in datasets DPPIN Tarrasov, Facebook, UCIMsg, and AS.\n",
    "* Plots are generated for all datasets that have any automorphic groups greater than size 1. That is, any datasets not plotted have unique embeddings (unique temporal structures) for every node in the dataset. This includes datasets Hospital and High School (HS)."
   ]
  },
  {
   "cell_type": "markdown",
   "id": "54e88723",
   "metadata": {},
   "source": [
    "## Temporal SIR-GN Code"
   ]
  },
  {
   "cell_type": "code",
   "execution_count": 1,
   "id": "db8621c5",
   "metadata": {
    "ExecuteTime": {
     "end_time": "2023-01-24T20:27:30.091577Z",
     "start_time": "2023-01-24T20:27:30.070682Z"
    }
   },
   "outputs": [],
   "source": [
    "import pandas as pd \n",
    "import numpy as np\n",
    "class loader:\n",
    "    \n",
    "    def __init__(self):\n",
    "        self.countID=0\n",
    "        self.G={}\n",
    "        self.co={}\n",
    "        self.revco={}\n",
    "    \n",
    "    def nodeID(self,x):\n",
    "        if x not in self.co:\n",
    "            self.co[x]=self.countID\n",
    "            self.countID=self.countID+1\n",
    "            self.revco[self.co[x]]=x\n",
    "        return self.co[x]\n",
    "    \n",
    "    def read(self,file):\n",
    "        x=file.values\n",
    "        for a in range(x.shape[0]):\n",
    "            i=self.nodeID(x[a,0])\n",
    "            j=self.nodeID(x[a,1])\n",
    "            self.addEdge((i,j,float(x[a,2])))\n",
    "        self.fixG()\n",
    "        \n",
    "    def storeEmb(self,file,data):\n",
    "        file1 = open(file, 'w') \n",
    "        for a in range(data.shape[0]):\n",
    "            s=''+str(int(self.revco[a]))\n",
    "            for b in range(data.shape[1]):\n",
    "                s+=' '+str(data[a,b])\n",
    "            file1.write(s+\"\\n\")\n",
    "        file1.close()\n",
    "            \n",
    "    \n",
    "    def fixG(self):\n",
    "        for g in range(len(self.G)):\n",
    "            orderSet=[t for t in self.G[g]]\n",
    "            orderSet.sort(reverse=True)\n",
    "            self.G[g]=[(t,np.array([x for x in self.G[g][t]])) for t in orderSet]\n",
    "\n",
    "    def addEdge(self,s):\n",
    "        (l1,l2,t)=s\n",
    "        if l1 not in self.G:\n",
    "            self.G[l1]={}\n",
    "        if l2 not in self.G:\n",
    "            self.G[l2]={}\n",
    "        if t not in self.G[l1]:\n",
    "            self.G[l1][t]=set()\n",
    "        if t not in self.G[l2]:\n",
    "            self.G[l2][t]=set()   \n",
    "        self.G[l1][t].add(l2)\n",
    "        self.G[l2][t].add(l1)"
   ]
  },
  {
   "cell_type": "code",
   "execution_count": 2,
   "id": "939b1789",
   "metadata": {
    "ExecuteTime": {
     "end_time": "2023-01-24T20:27:30.326499Z",
     "start_time": "2023-01-24T20:27:30.311038Z"
    }
   },
   "outputs": [],
   "source": [
    "from sklearn.cluster import KMeans\n",
    "from sklearn.preprocessing import MinMaxScaler,StandardScaler\n",
    "from sklearn.metrics import silhouette_score,calinski_harabasz_score,davies_bouldin_score\n",
    "from sklearn.decomposition import PCA,IncrementalPCA,TruncatedSVD\n",
    "\n",
    "def temporalAggregation1(embd,G,v,alpha):\n",
    "    k=embd.shape[1]\n",
    "    h=np.zeros((k,k))\n",
    "    h1=np.zeros((1,k))\n",
    "    w=[]\n",
    "    for i in range(len(G[v])):\n",
    "        (ti,li)=G[v][i]\n",
    "        wi=np.zeros((k,))\n",
    "        for f in li:\n",
    "            wi+=embd[f,:]\n",
    "        h1+=wi #sum of all the neighbors reps at this timestamp?\n",
    "        w.append(wi.reshape((k,1)))\n",
    "    z=np.zeros((1,k))\n",
    "    for i in range(1,len(G[v])):\n",
    "        (tni,li)=G[v][i]\n",
    "        (tnim1,lim1)=G[v][i-1]\n",
    "        z=np.exp((tni-tnim1)/alpha)*(w[i-1].transpose()+z)\n",
    "        a=w[i]*z\n",
    "        h+=a\n",
    "    g=h.flatten()\n",
    "    return np.hstack([g.reshape((1,g.shape[0])),h1])\n",
    "\n",
    "\n",
    "def temporalAggregation(embd,G,alpha):\n",
    "    m=[]\n",
    "    nv=len(G)\n",
    "    for v in range(nv):\n",
    "        m.append(temporalAggregation1(embd,G,v,alpha))\n",
    "    return np.vstack(m)\n",
    "\n",
    "def getnumber(emb):\n",
    "    ss=set()\n",
    "    for x in range(emb.shape[0]):\n",
    "        sd=''\n",
    "        for y in range(emb.shape[1]):\n",
    "            sd+=','+str(emb[x,y])\n",
    "        ss.add(sd)\n",
    "    return len(ss)\n",
    "\n",
    "def temporalSirGN(G,n,alpha,iter=10):\n",
    "    nv=len(G) \n",
    "    embd=np.array([[1/n for i in range(n)] for x in range(nv)])\n",
    "    emb=temporalAggregation(embd,G,alpha)\n",
    "    for i in range(iter):\n",
    "        print(i)\n",
    "        scaler = MinMaxScaler()\n",
    "        emb1=scaler.fit_transform(emb)\n",
    "        kmeans = KMeans(n_clusters=n, random_state=1).fit(emb1)\n",
    "        val=kmeans.transform(emb1)\n",
    "        M=val.max(axis=1)\n",
    "        m=val.min(axis=1)\n",
    "        subx=(M.reshape(nv,1)-val)/(M-m).reshape(nv,1)\n",
    "        su=subx.sum(axis=1)\n",
    "        subx=subx/su.reshape(nv,1)\n",
    "        emb=temporalAggregation(subx,G,alpha)\n",
    "    return emb\n",
    "\n",
    "def temporalSirGNStop(G,n,alpha,iter=100):\n",
    "    nv=len(G) \n",
    "    embd=np.array([[1/n for i in range(n)] for x in range(nv)])\n",
    "    emb=temporalAggregation(embd,G,alpha)\n",
    "    count=getnumber(emb)\n",
    "    print('count',count)\n",
    "    for i in range(iter):\n",
    "        print(i)\n",
    "        scaler = MinMaxScaler()\n",
    "        emb1=scaler.fit_transform(emb)\n",
    "        kmeans = KMeans(n_clusters=n, random_state=1).fit(emb1)\n",
    "        val=kmeans.transform(emb1)\n",
    "        M=val.max(axis=1)\n",
    "        m=val.min(axis=1)\n",
    "        subx=(M.reshape(nv,1)-val)/(M-m).reshape(nv,1)\n",
    "        #print(subx.shape)\n",
    "        su=subx.sum(axis=1)\n",
    "        #print(su.shape)\n",
    "        subx=subx/su.reshape(nv,1)\n",
    "        emb2=temporalAggregation(subx,G,alpha)\n",
    "        count1=getnumber(emb2)\n",
    "        print('count',count1)\n",
    "        if count>=count1:\n",
    "            break\n",
    "        else:\n",
    "            emb=emb2\n",
    "            count=count1\n",
    "    return emb\n"
   ]
  },
  {
   "cell_type": "code",
   "execution_count": 3,
   "id": "694ea9af",
   "metadata": {
    "ExecuteTime": {
     "end_time": "2023-01-24T21:05:39.496388Z",
     "start_time": "2023-01-24T21:05:39.487284Z"
    }
   },
   "outputs": [],
   "source": [
    "import pandas as pd \n",
    "import numpy as np\n",
    "class directed_loader:\n",
    "    \n",
    "    def __init__(self):\n",
    "        self.countID=0\n",
    "        self.G={}\n",
    "        self.co={}\n",
    "        self.revco={}\n",
    "    \n",
    "    def nodeID(self,x):\n",
    "        if x not in self.co:\n",
    "            self.co[x]=self.countID\n",
    "            self.countID=self.countID+1\n",
    "            self.revco[self.co[x]]=x\n",
    "        return self.co[x]\n",
    "    \n",
    "    def read(self,file):\n",
    "        #x=pd.read_csv(file,sep=' ',header=None).values\n",
    "        x=file.values\n",
    "        for a in range(x.shape[0]):\n",
    "            i=self.nodeID(x[a,0])\n",
    "            j=self.nodeID(x[a,1])\n",
    "            self.addEdge((i,j,float(x[a,2])))\n",
    "        self.fixG()\n",
    "        \n",
    "    def storeEmb(self,file,data):\n",
    "        file1 = open(file, 'w') \n",
    "        for a in range(data.shape[0]):\n",
    "            s=''+str(int(self.revco[a]))\n",
    "            for b in range(data.shape[1]):\n",
    "                s+=' '+str(data[a,b])\n",
    "            file1.write(s+\"\\n\")\n",
    "        file1.close()\n",
    "            \n",
    "    \n",
    "    def fixG(self):\n",
    "        for g in range(len(self.G)):\n",
    "            orderSet=[t for t in self.G[g]]\n",
    "            orderSet.sort(reverse=True)\n",
    "            self.G[g]=[(t,np.array([x for x in self.G[g][t]['in']]),np.array([y for y in self.G[g][t]['out']])) for t in orderSet]\n",
    "\n",
    "            \n",
    "    def addEdge(self,s):\n",
    "        (l1,l2,t)=s\n",
    "        if l1 not in self.G:\n",
    "            self.G[l1]={}\n",
    "        if l2 not in self.G:\n",
    "            self.G[l2]={}\n",
    "        if t not in self.G[l1]:\n",
    "            self.G[l1][t]={}\n",
    "            self.G[l1][t]['out']=set()\n",
    "            self.G[l1][t]['in']=set()\n",
    "        if t not in self.G[l2]:\n",
    "            self.G[l2][t]={}\n",
    "            self.G[l2][t]['out']=set()\n",
    "            self.G[l2][t]['in']=set()\n",
    "        self.G[l1][t]['out'].add(l2)\n",
    "        self.G[l2][t]['in'].add(l1)"
   ]
  },
  {
   "cell_type": "code",
   "execution_count": 4,
   "id": "68d772ed",
   "metadata": {
    "ExecuteTime": {
     "end_time": "2023-01-24T21:05:39.872565Z",
     "start_time": "2023-01-24T21:05:39.843172Z"
    }
   },
   "outputs": [],
   "source": [
    "from sklearn.cluster import KMeans\n",
    "from sklearn.preprocessing import MinMaxScaler,StandardScaler\n",
    "from sklearn.metrics import silhouette_score,calinski_harabasz_score,davies_bouldin_score\n",
    "from sklearn.decomposition import PCA,IncrementalPCA,TruncatedSVD\n",
    "\n",
    "\n",
    "\n",
    "def dirtemporalAggregation1(embd,G,v,alpha):\n",
    "    k=embd.shape[1]\n",
    "    h=np.zeros((k*2,k*2))\n",
    "    h1=np.zeros((1,k*2))\n",
    "    w=[]\n",
    "    for i in range(len(G[v])):\n",
    "        #in is first in tuple, out is second\n",
    "        (ti,lii, lio)=G[v][i]\n",
    "        wiin=np.zeros((k,))\n",
    "        wiout=np.zeros((k,))\n",
    "        for f in lii:\n",
    "            wiin+=embd[f,:] #sum of all the neighbors at this timestamp\n",
    "        for g in lio:\n",
    "            wiout+=embd[g,:] #sum of all the neighbors at this timestamp\n",
    "        wiboth=np.hstack([wiin, wiout])\n",
    "        h1+=wiboth #sum of all the neighbors for all timestamps\n",
    "        w.append(wiboth.reshape((k*2,1)))\n",
    "    z=np.zeros((1,k*2))\n",
    "    for i in range(1,len(G[v])):\n",
    "        (tni,lii, lio)=G[v][i]\n",
    "        (tnim1,lim1i, lim1o)=G[v][i-1]\n",
    "        z=np.exp((tni-tnim1)/alpha)*(w[i-1].transpose()+z)\n",
    "        a=w[i]*z\n",
    "        h+=a\n",
    "    g=h.flatten()\n",
    "    return np.hstack([g.reshape((1,g.shape[0])),h1])\n",
    "\n",
    "def dirtemporalAggregation(embd,G,alpha):\n",
    "    m=[]\n",
    "    nv=len(G)\n",
    "    for v in range(nv):\n",
    "        m.append(dirtemporalAggregation1(embd,G,v,alpha))\n",
    "    return np.vstack(m)\n",
    "\n",
    "def getnumber(emb):\n",
    "    ss=set()\n",
    "    for x in range(emb.shape[0]):\n",
    "        sd=''\n",
    "        for y in range(emb.shape[1]):\n",
    "            sd+=','+str(emb[x,y])\n",
    "        ss.add(sd)\n",
    "    return len(ss)\n",
    "\n",
    "def dirtemporalSirGN(G,n,alpha,iter=10):\n",
    "    nv=len(G) \n",
    "    embd=np.array([[1/n for i in range(n)] for x in range(nv)])\n",
    "    emb=dirtemporalAggregation(embd,G,alpha)\n",
    "    for i in range(iter):\n",
    "        print(i)\n",
    "        scaler = MinMaxScaler()\n",
    "        emb1=scaler.fit_transform(emb)\n",
    "        kmeans = KMeans(n_clusters=n, random_state=1).fit(emb1)\n",
    "        val=kmeans.transform(emb1)\n",
    "        M=val.max(axis=1)\n",
    "        m=val.min(axis=1)\n",
    "        subx=(M.reshape(nv,1)-val)/(M-m).reshape(nv,1)\n",
    "        su=subx.sum(axis=1)\n",
    "        subx=subx/su.reshape(nv,1)\n",
    "        emb=dirtemporalAggregation(subx,G,alpha)\n",
    "    return emb\n",
    "\n",
    "def dirtemporalSirGNStop(G,n,alpha,iter=100):\n",
    "    nv=len(G) \n",
    "    embd=np.array([[1/n for i in range(n)] for x in range(nv)])\n",
    "    emb=dirtemporalAggregation(embd,G,alpha)\n",
    "    count=getnumber(emb)\n",
    "    print('count',count)\n",
    "    for i in range(iter):\n",
    "        print(i)\n",
    "        scaler = MinMaxScaler()\n",
    "        emb1=scaler.fit_transform(emb)\n",
    "        kmeans = KMeans(n_clusters=n, random_state=1).fit(emb1)\n",
    "        val=kmeans.transform(emb1)\n",
    "        M=val.max(axis=1)\n",
    "        m=val.min(axis=1)\n",
    "        subx=(M.reshape(nv,1)-val)/(M-m).reshape(nv,1)\n",
    "        #print(subx.shape)\n",
    "        su=subx.sum(axis=1)\n",
    "        #print(su.shape)\n",
    "        subx=subx/su.reshape(nv,1)\n",
    "        emb2=dirtemporalAggregation(subx,G,alpha)\n",
    "        count1=getnumber(emb2)\n",
    "        print('count',count1)\n",
    "        if count>=count1:\n",
    "            break\n",
    "        else:\n",
    "            emb=emb2\n",
    "            count=count1\n",
    "    return emb"
   ]
  },
  {
   "cell_type": "markdown",
   "id": "1bfdcca2",
   "metadata": {},
   "source": [
    "## DPPIN dataset"
   ]
  },
  {
   "cell_type": "code",
   "execution_count": 5,
   "id": "3627fce1",
   "metadata": {
    "ExecuteTime": {
     "end_time": "2023-01-24T21:03:35.453342Z",
     "start_time": "2023-01-24T21:03:35.447198Z"
    }
   },
   "outputs": [],
   "source": [
    "dppin=pd.read_csv('dppintarrasov.txt', names=['src', 'trg', 'time', 'exp'])"
   ]
  },
  {
   "cell_type": "code",
   "execution_count": 6,
   "id": "af1cfb3c",
   "metadata": {
    "ExecuteTime": {
     "end_time": "2023-01-24T21:03:35.994074Z",
     "start_time": "2023-01-24T21:03:35.988193Z"
    },
    "scrolled": true
   },
   "outputs": [
    {
     "data": {
      "text/html": [
       "<div>\n",
       "<style scoped>\n",
       "    .dataframe tbody tr th:only-of-type {\n",
       "        vertical-align: middle;\n",
       "    }\n",
       "\n",
       "    .dataframe tbody tr th {\n",
       "        vertical-align: top;\n",
       "    }\n",
       "\n",
       "    .dataframe thead th {\n",
       "        text-align: right;\n",
       "    }\n",
       "</style>\n",
       "<table border=\"1\" class=\"dataframe\">\n",
       "  <thead>\n",
       "    <tr style=\"text-align: right;\">\n",
       "      <th></th>\n",
       "      <th>src</th>\n",
       "      <th>trg</th>\n",
       "      <th>time</th>\n",
       "      <th>exp</th>\n",
       "    </tr>\n",
       "  </thead>\n",
       "  <tbody>\n",
       "    <tr>\n",
       "      <th>0</th>\n",
       "      <td>14</td>\n",
       "      <td>600</td>\n",
       "      <td>0</td>\n",
       "      <td>0.9801</td>\n",
       "    </tr>\n",
       "    <tr>\n",
       "      <th>1</th>\n",
       "      <td>22</td>\n",
       "      <td>465</td>\n",
       "      <td>0</td>\n",
       "      <td>0.6732</td>\n",
       "    </tr>\n",
       "    <tr>\n",
       "      <th>2</th>\n",
       "      <td>22</td>\n",
       "      <td>651</td>\n",
       "      <td>0</td>\n",
       "      <td>0.6732</td>\n",
       "    </tr>\n",
       "    <tr>\n",
       "      <th>3</th>\n",
       "      <td>28</td>\n",
       "      <td>211</td>\n",
       "      <td>0</td>\n",
       "      <td>0.9405</td>\n",
       "    </tr>\n",
       "    <tr>\n",
       "      <th>4</th>\n",
       "      <td>41</td>\n",
       "      <td>695</td>\n",
       "      <td>0</td>\n",
       "      <td>0.4624</td>\n",
       "    </tr>\n",
       "  </tbody>\n",
       "</table>\n",
       "</div>"
      ],
      "text/plain": [
       "   src  trg  time     exp\n",
       "0   14  600     0  0.9801\n",
       "1   22  465     0  0.6732\n",
       "2   22  651     0  0.6732\n",
       "3   28  211     0  0.9405\n",
       "4   41  695     0  0.4624"
      ]
     },
     "execution_count": 6,
     "metadata": {},
     "output_type": "execute_result"
    }
   ],
   "source": [
    "dppin.head()"
   ]
  },
  {
   "cell_type": "code",
   "execution_count": 7,
   "id": "abb175c8",
   "metadata": {
    "ExecuteTime": {
     "end_time": "2023-01-24T21:03:37.813005Z",
     "start_time": "2023-01-24T21:03:36.791813Z"
    },
    "scrolled": false
   },
   "outputs": [
    {
     "name": "stdout",
     "output_type": "stream",
     "text": [
      "count 626\n",
      "0\n",
      "count 803\n",
      "1\n",
      "count 806\n",
      "2\n",
      "count 806\n"
     ]
    }
   ],
   "source": [
    "l=loader()\n",
    "l.read(dppin)\n",
    "emb=temporalSirGNStop(l.G,10,10)"
   ]
  },
  {
   "cell_type": "code",
   "execution_count": 8,
   "id": "a2ba724a",
   "metadata": {},
   "outputs": [
    {
     "data": {
      "text/plain": [
       "(905, 110)"
      ]
     },
     "execution_count": 8,
     "metadata": {},
     "output_type": "execute_result"
    }
   ],
   "source": [
    "emb.shape"
   ]
  },
  {
   "cell_type": "code",
   "execution_count": 9,
   "id": "974ff8af",
   "metadata": {
    "ExecuteTime": {
     "end_time": "2023-01-24T21:03:39.259249Z",
     "start_time": "2023-01-24T21:03:39.255743Z"
    },
    "scrolled": true
   },
   "outputs": [
    {
     "data": {
      "text/plain": [
       "905"
      ]
     },
     "execution_count": 9,
     "metadata": {},
     "output_type": "execute_result"
    }
   ],
   "source": [
    "#905 nodes in the dataset\n",
    "len(l.G)"
   ]
  },
  {
   "cell_type": "code",
   "execution_count": 10,
   "id": "3f510c42",
   "metadata": {
    "ExecuteTime": {
     "end_time": "2023-01-24T21:03:39.851158Z",
     "start_time": "2023-01-24T21:03:39.848496Z"
    }
   },
   "outputs": [],
   "source": [
    "embdf = pd.DataFrame(emb)"
   ]
  },
  {
   "cell_type": "code",
   "execution_count": 11,
   "id": "6b4d8c48",
   "metadata": {
    "ExecuteTime": {
     "end_time": "2023-01-24T21:03:41.094809Z",
     "start_time": "2023-01-24T21:03:41.063868Z"
    }
   },
   "outputs": [],
   "source": [
    "counts = np.array(embdf.value_counts())"
   ]
  },
  {
   "cell_type": "code",
   "execution_count": 12,
   "id": "3b84f842",
   "metadata": {
    "ExecuteTime": {
     "end_time": "2023-01-24T21:03:41.988734Z",
     "start_time": "2023-01-24T21:03:41.983530Z"
    },
    "scrolled": true
   },
   "outputs": [
    {
     "data": {
      "text/plain": [
       "array([18, 10, 10,  4,  4,  3,  3,  3,  2,  2,  2,  2,  2,  2,  2,  2,  2,\n",
       "        2,  2,  2,  2,  2,  2,  2,  2,  2,  2,  2,  2,  2,  2,  2,  2,  2,\n",
       "        2,  2,  2,  2,  2,  2,  2,  2,  2,  2,  2,  2,  2,  2,  2,  2,  2,\n",
       "        2,  2,  2,  2,  2,  2,  2,  2,  2,  1,  1,  1,  1,  1,  1,  1,  1,\n",
       "        1,  1,  1,  1,  1,  1,  1,  1,  1,  1,  1,  1,  1,  1,  1,  1,  1,\n",
       "        1,  1,  1,  1,  1,  1,  1,  1,  1,  1,  1,  1,  1,  1,  1,  1,  1,\n",
       "        1,  1,  1,  1,  1,  1,  1,  1,  1,  1,  1,  1,  1,  1,  1,  1,  1,\n",
       "        1,  1,  1,  1,  1,  1,  1,  1,  1,  1,  1,  1,  1,  1,  1,  1,  1,\n",
       "        1,  1,  1,  1,  1,  1,  1,  1,  1,  1,  1,  1,  1,  1,  1,  1,  1,\n",
       "        1,  1,  1,  1,  1,  1,  1,  1,  1,  1,  1,  1,  1,  1,  1,  1,  1,\n",
       "        1,  1,  1,  1,  1,  1,  1,  1,  1,  1,  1,  1,  1,  1,  1,  1,  1,\n",
       "        1,  1,  1,  1,  1,  1,  1,  1,  1,  1,  1,  1,  1,  1,  1,  1,  1,\n",
       "        1,  1,  1,  1,  1,  1,  1,  1,  1,  1,  1,  1,  1,  1,  1,  1,  1,\n",
       "        1,  1,  1,  1,  1,  1,  1,  1,  1,  1,  1,  1,  1,  1,  1,  1,  1,\n",
       "        1,  1,  1,  1,  1,  1,  1,  1,  1,  1,  1,  1,  1,  1,  1,  1,  1,\n",
       "        1,  1,  1,  1,  1,  1,  1,  1,  1,  1,  1,  1,  1,  1,  1,  1,  1,\n",
       "        1,  1,  1,  1,  1,  1,  1,  1,  1,  1,  1,  1,  1,  1,  1,  1,  1,\n",
       "        1,  1,  1,  1,  1,  1,  1,  1,  1,  1,  1,  1,  1,  1,  1,  1,  1,\n",
       "        1,  1,  1,  1,  1,  1,  1,  1,  1,  1,  1,  1,  1,  1,  1,  1,  1,\n",
       "        1,  1,  1,  1,  1,  1,  1,  1,  1,  1,  1,  1,  1,  1,  1,  1,  1,\n",
       "        1,  1,  1,  1,  1,  1,  1,  1,  1,  1,  1,  1,  1,  1,  1,  1,  1,\n",
       "        1,  1,  1,  1,  1,  1,  1,  1,  1,  1,  1,  1,  1,  1,  1,  1,  1,\n",
       "        1,  1,  1,  1,  1,  1,  1,  1,  1,  1,  1,  1,  1,  1,  1,  1,  1,\n",
       "        1,  1,  1,  1,  1,  1,  1,  1,  1,  1,  1,  1,  1,  1,  1,  1,  1,\n",
       "        1,  1,  1,  1,  1,  1,  1,  1,  1,  1,  1,  1,  1,  1,  1,  1,  1,\n",
       "        1,  1,  1,  1,  1,  1,  1,  1,  1,  1,  1,  1,  1,  1,  1,  1,  1,\n",
       "        1,  1,  1,  1,  1,  1,  1,  1,  1,  1,  1,  1,  1,  1,  1,  1,  1,\n",
       "        1,  1,  1,  1,  1,  1,  1,  1,  1,  1,  1,  1,  1,  1,  1,  1,  1,\n",
       "        1,  1,  1,  1,  1,  1,  1,  1,  1,  1,  1,  1,  1,  1,  1,  1,  1,\n",
       "        1,  1,  1,  1,  1,  1,  1,  1,  1,  1,  1,  1,  1,  1,  1,  1,  1,\n",
       "        1,  1,  1,  1,  1,  1,  1,  1,  1,  1,  1,  1,  1,  1,  1,  1,  1,\n",
       "        1,  1,  1,  1,  1,  1,  1,  1,  1,  1,  1,  1,  1,  1,  1,  1,  1,\n",
       "        1,  1,  1,  1,  1,  1,  1,  1,  1,  1,  1,  1,  1,  1,  1,  1,  1,\n",
       "        1,  1,  1,  1,  1,  1,  1,  1,  1,  1,  1,  1,  1,  1,  1,  1,  1,\n",
       "        1,  1,  1,  1,  1,  1,  1,  1,  1,  1,  1,  1,  1,  1,  1,  1,  1,\n",
       "        1,  1,  1,  1,  1,  1,  1,  1,  1,  1,  1,  1,  1,  1,  1,  1,  1,\n",
       "        1,  1,  1,  1,  1,  1,  1,  1,  1,  1,  1,  1,  1,  1,  1,  1,  1,\n",
       "        1,  1,  1,  1,  1,  1,  1,  1,  1,  1,  1,  1,  1,  1,  1,  1,  1,\n",
       "        1,  1,  1,  1,  1,  1,  1,  1,  1,  1,  1,  1,  1,  1,  1,  1,  1,\n",
       "        1,  1,  1,  1,  1,  1,  1,  1,  1,  1,  1,  1,  1,  1,  1,  1,  1,\n",
       "        1,  1,  1,  1,  1,  1,  1,  1,  1,  1,  1,  1,  1,  1,  1,  1,  1,\n",
       "        1,  1,  1,  1,  1,  1,  1,  1,  1,  1,  1,  1,  1,  1,  1,  1,  1,\n",
       "        1,  1,  1,  1,  1,  1,  1,  1,  1,  1,  1,  1,  1,  1,  1,  1,  1,\n",
       "        1,  1,  1,  1,  1,  1,  1,  1,  1,  1,  1,  1,  1,  1,  1,  1,  1,\n",
       "        1,  1,  1,  1,  1,  1,  1,  1,  1,  1,  1,  1,  1,  1,  1,  1,  1,\n",
       "        1,  1,  1,  1,  1,  1,  1,  1,  1,  1,  1,  1,  1,  1,  1,  1,  1,\n",
       "        1,  1,  1,  1,  1,  1,  1,  1,  1,  1,  1,  1,  1,  1,  1,  1,  1,\n",
       "        1,  1,  1,  1,  1,  1,  1])"
      ]
     },
     "execution_count": 12,
     "metadata": {},
     "output_type": "execute_result"
    }
   ],
   "source": [
    "counts"
   ]
  },
  {
   "cell_type": "code",
   "execution_count": 13,
   "id": "5e949a50",
   "metadata": {},
   "outputs": [
    {
     "data": {
      "text/plain": [
       "6"
      ]
     },
     "execution_count": 13,
     "metadata": {},
     "output_type": "execute_result"
    }
   ],
   "source": [
    "len(pd.Series(counts).unique())"
   ]
  },
  {
   "cell_type": "code",
   "execution_count": 14,
   "id": "0e024fe7",
   "metadata": {},
   "outputs": [
    {
     "data": {
      "text/plain": [
       "806"
      ]
     },
     "execution_count": 14,
     "metadata": {},
     "output_type": "execute_result"
    }
   ],
   "source": [
    "len(counts)"
   ]
  },
  {
   "cell_type": "code",
   "execution_count": 15,
   "id": "b1657043",
   "metadata": {
    "ExecuteTime": {
     "end_time": "2023-01-24T21:03:42.755220Z",
     "start_time": "2023-01-24T21:03:42.751588Z"
    },
    "scrolled": true
   },
   "outputs": [
    {
     "data": {
      "text/plain": [
       "905"
      ]
     },
     "execution_count": 15,
     "metadata": {},
     "output_type": "execute_result"
    }
   ],
   "source": [
    "# should total to the number of nodes\n",
    "sum(counts)"
   ]
  },
  {
   "cell_type": "code",
   "execution_count": 16,
   "id": "59f18d09",
   "metadata": {
    "ExecuteTime": {
     "end_time": "2023-01-24T21:03:43.317904Z",
     "start_time": "2023-01-24T21:03:43.314417Z"
    }
   },
   "outputs": [
    {
     "data": {
      "text/plain": [
       "746"
      ]
     },
     "execution_count": 16,
     "metadata": {},
     "output_type": "execute_result"
    }
   ],
   "source": [
    "# number of nodes with unique temporal structure\n",
    "list(counts).count(1)"
   ]
  },
  {
   "cell_type": "code",
   "execution_count": 17,
   "id": "fd30ae7c",
   "metadata": {
    "scrolled": false
   },
   "outputs": [
    {
     "data": {
      "text/plain": [
       "0.8243093922651934"
      ]
     },
     "execution_count": 17,
     "metadata": {},
     "output_type": "execute_result"
    }
   ],
   "source": [
    "# percent of nodes with unique temporal structure\n",
    "746/905"
   ]
  },
  {
   "cell_type": "code",
   "execution_count": 18,
   "id": "75bb42d3",
   "metadata": {
    "ExecuteTime": {
     "end_time": "2023-01-24T21:03:45.359088Z",
     "start_time": "2023-01-24T21:03:45.151152Z"
    },
    "scrolled": false
   },
   "outputs": [
    {
     "data": {
      "text/plain": [
       "Text(0, 0.5, 'Count')"
      ]
     },
     "execution_count": 18,
     "metadata": {},
     "output_type": "execute_result"
    },
    {
     "data": {
      "image/png": "[encoded data removed]",
      "text/plain": [
       "<Figure size 432x288 with 2 Axes>"
      ]
     },
     "metadata": {
      "needs_background": "light"
     },
     "output_type": "display_data"
    }
   ],
   "source": [
    "import matplotlib.pyplot as plt\n",
    "import numpy as np\n",
    "\n",
    "\n",
    "\n",
    "f, (ax, ax2) = plt.subplots(2, 1, sharex=True)\n",
    "\n",
    "# plot the same data on both axes\n",
    "ax.hist(counts, bins=18, edgecolor='black')\n",
    "ax2.hist(counts, bins=18, edgecolor='black')\n",
    "\n",
    "# zoom-in / limit the view to different portions of the data\n",
    "ax.set_ylim(30, 800)  \n",
    "ax2.set_ylim(0, 10)  \n",
    "\n",
    "# hide the spines between ax and ax2\n",
    "ax.spines['bottom'].set_visible(False)\n",
    "ax2.spines['top'].set_visible(False)\n",
    "ax.xaxis.tick_top()\n",
    "ax.tick_params(labeltop=False)  # don't put tick labels at the top\n",
    "ax2.xaxis.tick_bottom()\n",
    "\n",
    "\n",
    "d = .015  \n",
    "\n",
    "kwargs = dict(transform=ax.transAxes, color='k', clip_on=False)\n",
    "ax.plot((-d, +d), (-d, +d), **kwargs)        # top-left diagonal\n",
    "ax.plot((1 - d, 1 + d), (-d, +d), **kwargs)  # top-right diagonal\n",
    "\n",
    "kwargs.update(transform=ax2.transAxes)  # switch to the bottom axes\n",
    "ax2.plot((-d, +d), (1 - d, 1 + d), **kwargs)  # bottom-left diagonal\n",
    "ax2.plot((1 - d, 1 + d), (1 - d, 1 + d), **kwargs)  # bottom-right diagonal\n",
    "\n",
    "\n",
    "#ax.set_title('Distribution of Sizes of Automorphic Groups')\n",
    "plt.xlabel('Size of Automorphic Group (# nodes)')\n",
    "plt.ylabel('Count')\n",
    "#plt.savefig('DPPINDist.pdf', bbox_inches='tight')"
   ]
  },
  {
   "cell_type": "markdown",
   "id": "752e66ce",
   "metadata": {},
   "source": [
    "## Facebook"
   ]
  },
  {
   "cell_type": "code",
   "execution_count": 19,
   "id": "3bb1a865",
   "metadata": {
    "ExecuteTime": {
     "end_time": "2023-01-24T21:03:54.477406Z",
     "start_time": "2023-01-24T21:03:54.454791Z"
    }
   },
   "outputs": [],
   "source": [
    "facebook = pd.read_csv('facebook.txt', sep=' ', names=['time', 'source', 'target'], header=None)"
   ]
  },
  {
   "cell_type": "code",
   "execution_count": 20,
   "id": "5fdc881d",
   "metadata": {
    "ExecuteTime": {
     "end_time": "2023-01-24T21:03:54.821282Z",
     "start_time": "2023-01-24T21:03:54.814297Z"
    },
    "scrolled": true
   },
   "outputs": [
    {
     "data": {
      "text/html": [
       "<div>\n",
       "<style scoped>\n",
       "    .dataframe tbody tr th:only-of-type {\n",
       "        vertical-align: middle;\n",
       "    }\n",
       "\n",
       "    .dataframe tbody tr th {\n",
       "        vertical-align: top;\n",
       "    }\n",
       "\n",
       "    .dataframe thead th {\n",
       "        text-align: right;\n",
       "    }\n",
       "</style>\n",
       "<table border=\"1\" class=\"dataframe\">\n",
       "  <thead>\n",
       "    <tr style=\"text-align: right;\">\n",
       "      <th></th>\n",
       "      <th>time</th>\n",
       "      <th>source</th>\n",
       "      <th>target</th>\n",
       "    </tr>\n",
       "  </thead>\n",
       "  <tbody>\n",
       "    <tr>\n",
       "      <th>0</th>\n",
       "      <td>2006-05-09 04:10:57</td>\n",
       "      <td>12830</td>\n",
       "      <td>14791</td>\n",
       "    </tr>\n",
       "    <tr>\n",
       "      <th>1</th>\n",
       "      <td>2006-05-09 04:11:43</td>\n",
       "      <td>11072</td>\n",
       "      <td>21587</td>\n",
       "    </tr>\n",
       "    <tr>\n",
       "      <th>2</th>\n",
       "      <td>2006-05-09 04:20:43</td>\n",
       "      <td>12830</td>\n",
       "      <td>14797</td>\n",
       "    </tr>\n",
       "    <tr>\n",
       "      <th>3</th>\n",
       "      <td>2006-05-09 04:27:05</td>\n",
       "      <td>1084</td>\n",
       "      <td>6297</td>\n",
       "    </tr>\n",
       "    <tr>\n",
       "      <th>4</th>\n",
       "      <td>2006-05-09 04:28:42</td>\n",
       "      <td>9089</td>\n",
       "      <td>2304</td>\n",
       "    </tr>\n",
       "  </tbody>\n",
       "</table>\n",
       "</div>"
      ],
      "text/plain": [
       "                  time  source  target\n",
       "0  2006-05-09 04:10:57   12830   14791\n",
       "1  2006-05-09 04:11:43   11072   21587\n",
       "2  2006-05-09 04:20:43   12830   14797\n",
       "3  2006-05-09 04:27:05    1084    6297\n",
       "4  2006-05-09 04:28:42    9089    2304"
      ]
     },
     "execution_count": 20,
     "metadata": {},
     "output_type": "execute_result"
    }
   ],
   "source": [
    "facebook.head()"
   ]
  },
  {
   "cell_type": "code",
   "execution_count": 21,
   "id": "0ec0267b",
   "metadata": {
    "ExecuteTime": {
     "end_time": "2023-01-24T21:03:56.226955Z",
     "start_time": "2023-01-24T21:03:55.591313Z"
    }
   },
   "outputs": [],
   "source": [
    "from dateutil import parser\n",
    "from datetime import datetime\n",
    "facebook['newtime'] = facebook[['time']].apply(lambda x: datetime.timestamp(parser.parse(x[0])), axis=1)"
   ]
  },
  {
   "cell_type": "code",
   "execution_count": 22,
   "id": "17a0db79",
   "metadata": {
    "ExecuteTime": {
     "end_time": "2023-01-24T21:03:56.600059Z",
     "start_time": "2023-01-24T21:03:56.597013Z"
    }
   },
   "outputs": [],
   "source": [
    "facebook.drop(columns=['time'], inplace=True)"
   ]
  },
  {
   "cell_type": "code",
   "execution_count": 23,
   "id": "ca77b313",
   "metadata": {
    "ExecuteTime": {
     "end_time": "2023-01-24T21:04:01.363155Z",
     "start_time": "2023-01-24T21:03:57.359313Z"
    },
    "scrolled": true
   },
   "outputs": [
    {
     "name": "stdout",
     "output_type": "stream",
     "text": [
      "count 1082\n",
      "0\n",
      "count 2526\n",
      "1\n",
      "count 3245\n",
      "2\n",
      "count 3348\n",
      "3\n",
      "count 3347\n"
     ]
    }
   ],
   "source": [
    "l=loader()\n",
    "l.read(facebook)\n",
    "emb=temporalSirGNStop(l.G,10,10)"
   ]
  },
  {
   "cell_type": "code",
   "execution_count": 24,
   "id": "b947092c",
   "metadata": {},
   "outputs": [
    {
     "data": {
      "text/plain": [
       "4117"
      ]
     },
     "execution_count": 24,
     "metadata": {},
     "output_type": "execute_result"
    }
   ],
   "source": [
    "len(l.G)"
   ]
  },
  {
   "cell_type": "code",
   "execution_count": 25,
   "id": "ba5ee5f8",
   "metadata": {
    "ExecuteTime": {
     "end_time": "2023-01-24T21:04:01.368125Z",
     "start_time": "2023-01-24T21:04:01.365235Z"
    }
   },
   "outputs": [],
   "source": [
    "embdf = pd.DataFrame(emb)"
   ]
  },
  {
   "cell_type": "code",
   "execution_count": 26,
   "id": "210f45b7",
   "metadata": {
    "ExecuteTime": {
     "end_time": "2023-01-24T21:04:01.469523Z",
     "start_time": "2023-01-24T21:04:01.369883Z"
    }
   },
   "outputs": [],
   "source": [
    "counts = np.array(embdf.value_counts())"
   ]
  },
  {
   "cell_type": "code",
   "execution_count": 27,
   "id": "86007ffc",
   "metadata": {
    "ExecuteTime": {
     "end_time": "2023-01-24T21:04:01.502637Z",
     "start_time": "2023-01-24T21:04:01.471343Z"
    },
    "scrolled": true
   },
   "outputs": [
    {
     "data": {
      "text/plain": [
       "array([328,  74,  52, ...,   1,   1,   1])"
      ]
     },
     "execution_count": 27,
     "metadata": {},
     "output_type": "execute_result"
    }
   ],
   "source": [
    "counts"
   ]
  },
  {
   "cell_type": "code",
   "execution_count": 28,
   "id": "a4f2d8cf",
   "metadata": {},
   "outputs": [
    {
     "data": {
      "text/plain": [
       "3348"
      ]
     },
     "execution_count": 28,
     "metadata": {},
     "output_type": "execute_result"
    }
   ],
   "source": [
    "len(counts)"
   ]
  },
  {
   "cell_type": "code",
   "execution_count": 29,
   "id": "eab29c81",
   "metadata": {
    "ExecuteTime": {
     "end_time": "2023-01-24T21:04:01.561349Z",
     "start_time": "2023-01-24T21:04:01.503913Z"
    },
    "scrolled": true
   },
   "outputs": [
    {
     "data": {
      "text/plain": [
       "3162"
      ]
     },
     "execution_count": 29,
     "metadata": {},
     "output_type": "execute_result"
    }
   ],
   "source": [
    "list(counts).count(1)"
   ]
  },
  {
   "cell_type": "code",
   "execution_count": 30,
   "id": "d28e2a44",
   "metadata": {},
   "outputs": [
    {
     "data": {
      "text/plain": [
       "0.7685207675491863"
      ]
     },
     "execution_count": 30,
     "metadata": {},
     "output_type": "execute_result"
    }
   ],
   "source": [
    "3164/4117"
   ]
  },
  {
   "cell_type": "code",
   "execution_count": 31,
   "id": "e8c41f11",
   "metadata": {
    "ExecuteTime": {
     "end_time": "2023-01-24T21:04:01.789998Z",
     "start_time": "2023-01-24T21:04:01.562667Z"
    }
   },
   "outputs": [
    {
     "data": {
      "text/plain": [
       "Text(0, 0.5, 'Count')"
      ]
     },
     "execution_count": 31,
     "metadata": {},
     "output_type": "execute_result"
    },
    {
     "data": {
      "image/png": "[encoded data removed]",
      "text/plain": [
       "<Figure size 432x288 with 2 Axes>"
      ]
     },
     "metadata": {
      "needs_background": "light"
     },
     "output_type": "display_data"
    }
   ],
   "source": [
    "\n",
    "\n",
    "f, (ax, ax2) = plt.subplots(2, 1, sharex=True)\n",
    "\n",
    "# plot the same data on both axes\n",
    "ax.hist(counts, bins=15, edgecolor='black')\n",
    "ax2.hist(counts, bins=15, edgecolor='black')\n",
    "\n",
    "# zoom-in / limit the view to different portions of the data\n",
    "ax.set_ylim(300, 3500)  \n",
    "ax2.set_ylim(0, 5)  \n",
    "\n",
    "# hide the spines between ax and ax2\n",
    "ax.spines['bottom'].set_visible(False)\n",
    "ax2.spines['top'].set_visible(False)\n",
    "ax.xaxis.tick_top()\n",
    "ax.tick_params(labeltop=False)  # don't put tick labels at the top\n",
    "ax2.xaxis.tick_bottom()\n",
    "\n",
    "\n",
    "d = .015  \n",
    "\n",
    "kwargs = dict(transform=ax.transAxes, color='k', clip_on=False)\n",
    "ax.plot((-d, +d), (-d, +d), **kwargs)        # top-left diagonal\n",
    "ax.plot((1 - d, 1 + d), (-d, +d), **kwargs)  # top-right diagonal\n",
    "\n",
    "kwargs.update(transform=ax2.transAxes)  # switch to the bottom axes\n",
    "ax2.plot((-d, +d), (1 - d, 1 + d), **kwargs)  # bottom-left diagonal\n",
    "ax2.plot((1 - d, 1 + d), (1 - d, 1 + d), **kwargs)  # bottom-right diagonal\n",
    "\n",
    "\n",
    "#ax.set_title('Distribution of Sizes of Automorphic Groups')\n",
    "plt.xlabel('Size of Automorphic Group (# nodes)')\n",
    "plt.ylabel('Count')\n",
    "#plt.savefig('FacebookDist.pdf', bbox_inches='tight')"
   ]
  },
  {
   "cell_type": "markdown",
   "id": "6f0424c8",
   "metadata": {},
   "source": [
    "## UCI Messages"
   ]
  },
  {
   "cell_type": "code",
   "execution_count": 32,
   "id": "310e662d",
   "metadata": {
    "ExecuteTime": {
     "end_time": "2023-01-24T21:04:07.659007Z",
     "start_time": "2023-01-24T21:04:07.646562Z"
    },
    "scrolled": true
   },
   "outputs": [],
   "source": [
    "uci = pd.read_csv('ucigraph.txt', sep=' ', header=None, names=['src', 'trg', 'weight', 'time'])"
   ]
  },
  {
   "cell_type": "code",
   "execution_count": 33,
   "id": "17703514",
   "metadata": {
    "ExecuteTime": {
     "end_time": "2023-01-24T21:04:08.035730Z",
     "start_time": "2023-01-24T21:04:08.030541Z"
    },
    "scrolled": false
   },
   "outputs": [
    {
     "data": {
      "text/html": [
       "<div>\n",
       "<style scoped>\n",
       "    .dataframe tbody tr th:only-of-type {\n",
       "        vertical-align: middle;\n",
       "    }\n",
       "\n",
       "    .dataframe tbody tr th {\n",
       "        vertical-align: top;\n",
       "    }\n",
       "\n",
       "    .dataframe thead th {\n",
       "        text-align: right;\n",
       "    }\n",
       "</style>\n",
       "<table border=\"1\" class=\"dataframe\">\n",
       "  <thead>\n",
       "    <tr style=\"text-align: right;\">\n",
       "      <th></th>\n",
       "      <th>src</th>\n",
       "      <th>trg</th>\n",
       "      <th>weight</th>\n",
       "      <th>time</th>\n",
       "    </tr>\n",
       "  </thead>\n",
       "  <tbody>\n",
       "    <tr>\n",
       "      <th>0</th>\n",
       "      <td>1</td>\n",
       "      <td>2</td>\n",
       "      <td>1</td>\n",
       "      <td>1082008561</td>\n",
       "    </tr>\n",
       "    <tr>\n",
       "      <th>1</th>\n",
       "      <td>3</td>\n",
       "      <td>4</td>\n",
       "      <td>1</td>\n",
       "      <td>1082123439</td>\n",
       "    </tr>\n",
       "    <tr>\n",
       "      <th>2</th>\n",
       "      <td>5</td>\n",
       "      <td>2</td>\n",
       "      <td>1</td>\n",
       "      <td>1082381991</td>\n",
       "    </tr>\n",
       "    <tr>\n",
       "      <th>3</th>\n",
       "      <td>6</td>\n",
       "      <td>7</td>\n",
       "      <td>1</td>\n",
       "      <td>1082407219</td>\n",
       "    </tr>\n",
       "    <tr>\n",
       "      <th>4</th>\n",
       "      <td>8</td>\n",
       "      <td>7</td>\n",
       "      <td>1</td>\n",
       "      <td>1082407356</td>\n",
       "    </tr>\n",
       "  </tbody>\n",
       "</table>\n",
       "</div>"
      ],
      "text/plain": [
       "   src  trg  weight        time\n",
       "0    1    2       1  1082008561\n",
       "1    3    4       1  1082123439\n",
       "2    5    2       1  1082381991\n",
       "3    6    7       1  1082407219\n",
       "4    8    7       1  1082407356"
      ]
     },
     "execution_count": 33,
     "metadata": {},
     "output_type": "execute_result"
    }
   ],
   "source": [
    "uci.head()"
   ]
  },
  {
   "cell_type": "code",
   "execution_count": 34,
   "id": "8ad0ff1b",
   "metadata": {},
   "outputs": [],
   "source": [
    "uci.drop(columns=['weight'], inplace=True)"
   ]
  },
  {
   "cell_type": "code",
   "execution_count": 35,
   "id": "664a96e3",
   "metadata": {
    "ExecuteTime": {
     "end_time": "2023-01-24T21:09:30.425553Z",
     "start_time": "2023-01-24T21:09:28.885895Z"
    }
   },
   "outputs": [
    {
     "name": "stdout",
     "output_type": "stream",
     "text": [
      "count 1362\n",
      "0\n",
      "count 1762\n",
      "1\n",
      "count 1762\n"
     ]
    }
   ],
   "source": [
    "l=loader()\n",
    "l.read(uci)\n",
    "emb=temporalSirGNStop(l.G,10,10)"
   ]
  },
  {
   "cell_type": "code",
   "execution_count": 36,
   "id": "f919e182",
   "metadata": {},
   "outputs": [
    {
     "data": {
      "text/plain": [
       "1899"
      ]
     },
     "execution_count": 36,
     "metadata": {},
     "output_type": "execute_result"
    }
   ],
   "source": [
    "len(l.G)"
   ]
  },
  {
   "cell_type": "code",
   "execution_count": 37,
   "id": "f690d181",
   "metadata": {
    "ExecuteTime": {
     "end_time": "2023-01-24T21:09:31.438920Z",
     "start_time": "2023-01-24T21:09:31.435631Z"
    }
   },
   "outputs": [],
   "source": [
    "embdf = pd.DataFrame(emb)"
   ]
  },
  {
   "cell_type": "code",
   "execution_count": 38,
   "id": "2972efe0",
   "metadata": {
    "ExecuteTime": {
     "end_time": "2023-01-24T21:09:31.971076Z",
     "start_time": "2023-01-24T21:09:31.922710Z"
    }
   },
   "outputs": [],
   "source": [
    "counts = np.array(embdf.value_counts())"
   ]
  },
  {
   "cell_type": "code",
   "execution_count": 39,
   "id": "e57695c1",
   "metadata": {
    "ExecuteTime": {
     "end_time": "2023-01-24T21:09:32.397519Z",
     "start_time": "2023-01-24T21:09:32.393396Z"
    },
    "scrolled": true
   },
   "outputs": [
    {
     "data": {
      "text/plain": [
       "array([13, 11, 11, ...,  1,  1,  1])"
      ]
     },
     "execution_count": 39,
     "metadata": {},
     "output_type": "execute_result"
    }
   ],
   "source": [
    "counts"
   ]
  },
  {
   "cell_type": "code",
   "execution_count": 40,
   "id": "64baae2f",
   "metadata": {},
   "outputs": [
    {
     "data": {
      "text/plain": [
       "1762"
      ]
     },
     "execution_count": 40,
     "metadata": {},
     "output_type": "execute_result"
    }
   ],
   "source": [
    "len(counts)"
   ]
  },
  {
   "cell_type": "code",
   "execution_count": 41,
   "id": "ba2e0ff9",
   "metadata": {
    "ExecuteTime": {
     "end_time": "2023-01-24T21:09:32.963302Z",
     "start_time": "2023-01-24T21:09:32.959833Z"
    },
    "scrolled": true
   },
   "outputs": [
    {
     "data": {
      "text/plain": [
       "1716"
      ]
     },
     "execution_count": 41,
     "metadata": {},
     "output_type": "execute_result"
    }
   ],
   "source": [
    "list(counts).count(1)"
   ]
  },
  {
   "cell_type": "code",
   "execution_count": 42,
   "id": "5dba44df",
   "metadata": {},
   "outputs": [
    {
     "data": {
      "text/plain": [
       "0.9036334913112164"
      ]
     },
     "execution_count": 42,
     "metadata": {},
     "output_type": "execute_result"
    }
   ],
   "source": [
    "1716/1899"
   ]
  },
  {
   "cell_type": "code",
   "execution_count": 43,
   "id": "f3b32f0a",
   "metadata": {
    "ExecuteTime": {
     "end_time": "2023-01-24T21:12:01.765583Z",
     "start_time": "2023-01-24T21:12:01.574157Z"
    }
   },
   "outputs": [
    {
     "data": {
      "text/plain": [
       "Text(0, 0.5, 'Count')"
      ]
     },
     "execution_count": 43,
     "metadata": {},
     "output_type": "execute_result"
    },
    {
     "data": {
      "image/png": "[encoded data removed]",
      "text/plain": [
       "<Figure size 432x288 with 2 Axes>"
      ]
     },
     "metadata": {
      "needs_background": "light"
     },
     "output_type": "display_data"
    }
   ],
   "source": [
    "\n",
    "\n",
    "\n",
    "f, (ax, ax2) = plt.subplots(2, 1, sharex=True)\n",
    "\n",
    "# plot the same data on both axes\n",
    "ax.hist(counts, bins=14, edgecolor='black')\n",
    "ax2.hist(counts, bins=14, edgecolor='black')\n",
    "\n",
    "# zoom-in / limit the view to different portions of the data\n",
    "ax.set_ylim(100, 1750)  \n",
    "ax2.set_ylim(0, 30)  \n",
    "\n",
    "# hide the spines between ax and ax2\n",
    "ax.spines['bottom'].set_visible(False)\n",
    "ax2.spines['top'].set_visible(False)\n",
    "ax.xaxis.tick_top()\n",
    "ax.tick_params(labeltop=False)  # don't put tick labels at the top\n",
    "ax2.xaxis.tick_bottom()\n",
    "\n",
    "\n",
    "d = .015  \n",
    "\n",
    "kwargs = dict(transform=ax.transAxes, color='k', clip_on=False)\n",
    "ax.plot((-d, +d), (-d, +d), **kwargs)        # top-left diagonal\n",
    "ax.plot((1 - d, 1 + d), (-d, +d), **kwargs)  # top-right diagonal\n",
    "\n",
    "kwargs.update(transform=ax2.transAxes)  # switch to the bottom axes\n",
    "ax2.plot((-d, +d), (1 - d, 1 + d), **kwargs)  # bottom-left diagonal\n",
    "ax2.plot((1 - d, 1 + d), (1 - d, 1 + d), **kwargs)  # bottom-right diagonal\n",
    "\n",
    "\n",
    "#ax.set_title('Distribution of Sizes of Automorphic Groups')\n",
    "plt.xlabel('Size of Automorphic Group (# nodes)')\n",
    "plt.ylabel('Count')\n",
    "#plt.savefig('UCIDist.pdf', bbox_inches='tight')"
   ]
  },
  {
   "cell_type": "markdown",
   "id": "0abf8c1e",
   "metadata": {},
   "source": [
    "## AS dataset"
   ]
  },
  {
   "cell_type": "code",
   "execution_count": 44,
   "id": "4c8e62e8",
   "metadata": {
    "ExecuteTime": {
     "end_time": "2023-01-24T20:50:20.548185Z",
     "start_time": "2023-01-24T20:50:20.097999Z"
    }
   },
   "outputs": [],
   "source": [
    "asdata = pd.read_csv('janet_as.csv', sep=',')"
   ]
  },
  {
   "cell_type": "code",
   "execution_count": 45,
   "id": "2d7b08fe",
   "metadata": {
    "ExecuteTime": {
     "end_time": "2023-01-24T20:50:20.555061Z",
     "start_time": "2023-01-24T20:50:20.549826Z"
    }
   },
   "outputs": [
    {
     "data": {
      "text/html": [
       "<div>\n",
       "<style scoped>\n",
       "    .dataframe tbody tr th:only-of-type {\n",
       "        vertical-align: middle;\n",
       "    }\n",
       "\n",
       "    .dataframe tbody tr th {\n",
       "        vertical-align: top;\n",
       "    }\n",
       "\n",
       "    .dataframe thead th {\n",
       "        text-align: right;\n",
       "    }\n",
       "</style>\n",
       "<table border=\"1\" class=\"dataframe\">\n",
       "  <thead>\n",
       "    <tr style=\"text-align: right;\">\n",
       "      <th></th>\n",
       "      <th>from_id</th>\n",
       "      <th>to_id</th>\n",
       "      <th>time</th>\n",
       "    </tr>\n",
       "  </thead>\n",
       "  <tbody>\n",
       "    <tr>\n",
       "      <th>0</th>\n",
       "      <td>1</td>\n",
       "      <td>701</td>\n",
       "      <td>19990824</td>\n",
       "    </tr>\n",
       "    <tr>\n",
       "      <th>1</th>\n",
       "      <td>1</td>\n",
       "      <td>7018</td>\n",
       "      <td>19990824</td>\n",
       "    </tr>\n",
       "    <tr>\n",
       "      <th>2</th>\n",
       "      <td>1</td>\n",
       "      <td>1673</td>\n",
       "      <td>19990824</td>\n",
       "    </tr>\n",
       "    <tr>\n",
       "      <th>3</th>\n",
       "      <td>1</td>\n",
       "      <td>2914</td>\n",
       "      <td>19990824</td>\n",
       "    </tr>\n",
       "    <tr>\n",
       "      <th>4</th>\n",
       "      <td>1</td>\n",
       "      <td>1239</td>\n",
       "      <td>19990824</td>\n",
       "    </tr>\n",
       "  </tbody>\n",
       "</table>\n",
       "</div>"
      ],
      "text/plain": [
       "   from_id  to_id      time\n",
       "0        1    701  19990824\n",
       "1        1   7018  19990824\n",
       "2        1   1673  19990824\n",
       "3        1   2914  19990824\n",
       "4        1   1239  19990824"
      ]
     },
     "execution_count": 45,
     "metadata": {},
     "output_type": "execute_result"
    }
   ],
   "source": [
    "asdata.head()"
   ]
  },
  {
   "cell_type": "code",
   "execution_count": 46,
   "id": "0f75b733",
   "metadata": {
    "ExecuteTime": {
     "end_time": "2023-01-24T20:50:53.746145Z",
     "start_time": "2023-01-24T20:50:22.002547Z"
    }
   },
   "outputs": [
    {
     "name": "stdout",
     "output_type": "stream",
     "text": [
      "count 4433\n",
      "0\n",
      "count 6067\n",
      "1\n",
      "count 6067\n"
     ]
    }
   ],
   "source": [
    "l=loader()\n",
    "l.read(asdata)\n",
    "emb=temporalSirGNStop(l.G,10,10)"
   ]
  },
  {
   "cell_type": "code",
   "execution_count": 47,
   "id": "951eb4bf",
   "metadata": {
    "ExecuteTime": {
     "end_time": "2023-01-24T20:50:53.751168Z",
     "start_time": "2023-01-24T20:50:53.748255Z"
    }
   },
   "outputs": [],
   "source": [
    "embdf = pd.DataFrame(emb)"
   ]
  },
  {
   "cell_type": "code",
   "execution_count": 48,
   "id": "85ae5ea4",
   "metadata": {},
   "outputs": [
    {
     "data": {
      "text/plain": [
       "6828"
      ]
     },
     "execution_count": 48,
     "metadata": {},
     "output_type": "execute_result"
    }
   ],
   "source": [
    "len(l.G)"
   ]
  },
  {
   "cell_type": "code",
   "execution_count": 49,
   "id": "35832a03",
   "metadata": {
    "ExecuteTime": {
     "end_time": "2023-01-24T20:50:53.944657Z",
     "start_time": "2023-01-24T20:50:53.752756Z"
    }
   },
   "outputs": [],
   "source": [
    "counts = np.array(embdf.value_counts())"
   ]
  },
  {
   "cell_type": "code",
   "execution_count": 50,
   "id": "84a23a78",
   "metadata": {
    "ExecuteTime": {
     "end_time": "2023-01-24T20:50:53.949686Z",
     "start_time": "2023-01-24T20:50:53.946685Z"
    }
   },
   "outputs": [
    {
     "data": {
      "text/plain": [
       "array([53, 25, 23, ...,  1,  1,  1])"
      ]
     },
     "execution_count": 50,
     "metadata": {},
     "output_type": "execute_result"
    }
   ],
   "source": [
    "counts"
   ]
  },
  {
   "cell_type": "code",
   "execution_count": 51,
   "id": "04d3757f",
   "metadata": {},
   "outputs": [
    {
     "data": {
      "text/plain": [
       "6067"
      ]
     },
     "execution_count": 51,
     "metadata": {},
     "output_type": "execute_result"
    }
   ],
   "source": [
    "len(counts)"
   ]
  },
  {
   "cell_type": "code",
   "execution_count": 52,
   "id": "c7eb211a",
   "metadata": {
    "ExecuteTime": {
     "end_time": "2023-01-24T20:50:54.029824Z",
     "start_time": "2023-01-24T20:50:53.951197Z"
    }
   },
   "outputs": [
    {
     "data": {
      "text/plain": [
       "5813"
      ]
     },
     "execution_count": 52,
     "metadata": {},
     "output_type": "execute_result"
    }
   ],
   "source": [
    "list(counts).count(1)"
   ]
  },
  {
   "cell_type": "code",
   "execution_count": 53,
   "id": "509edcf6",
   "metadata": {},
   "outputs": [
    {
     "data": {
      "text/plain": [
       "0.8513473930872877"
      ]
     },
     "execution_count": 53,
     "metadata": {},
     "output_type": "execute_result"
    }
   ],
   "source": [
    "5813/6828"
   ]
  },
  {
   "cell_type": "code",
   "execution_count": 54,
   "id": "20ed2ab5",
   "metadata": {
    "ExecuteTime": {
     "end_time": "2023-01-24T20:52:58.876850Z",
     "start_time": "2023-01-24T20:52:58.681944Z"
    }
   },
   "outputs": [
    {
     "data": {
      "text/plain": [
       "Text(0, 0.5, 'Count')"
      ]
     },
     "execution_count": 54,
     "metadata": {},
     "output_type": "execute_result"
    },
    {
     "data": {
      "image/png": "[encoded data removed]",
      "text/plain": [
       "<Figure size 432x288 with 2 Axes>"
      ]
     },
     "metadata": {
      "needs_background": "light"
     },
     "output_type": "display_data"
    }
   ],
   "source": [
    "\n",
    "\n",
    "f, (ax, ax2) = plt.subplots(2, 1, sharex=True)\n",
    "\n",
    "# plot the same data on both axes\n",
    "ax.hist(counts, bins=14, edgecolor='black')\n",
    "ax2.hist(counts, bins=14, edgecolor='black')\n",
    "\n",
    "# zoom-in / limit the view to different portions of the data\n",
    "ax.set_ylim(30, 8000)  \n",
    "ax2.set_ylim(0, 30)  \n",
    "\n",
    "# hide the spines between ax and ax2\n",
    "ax.spines['bottom'].set_visible(False)\n",
    "ax2.spines['top'].set_visible(False)\n",
    "ax.xaxis.tick_top()\n",
    "ax.tick_params(labeltop=False)  # don't put tick labels at the top\n",
    "ax2.xaxis.tick_bottom()\n",
    "\n",
    "\n",
    "d = .015  \n",
    "\n",
    "kwargs = dict(transform=ax.transAxes, color='k', clip_on=False)\n",
    "ax.plot((-d, +d), (-d, +d), **kwargs)        # top-left diagonal\n",
    "ax.plot((1 - d, 1 + d), (-d, +d), **kwargs)  # top-right diagonal\n",
    "\n",
    "kwargs.update(transform=ax2.transAxes)  # switch to the bottom axes\n",
    "ax2.plot((-d, +d), (1 - d, 1 + d), **kwargs)  # bottom-left diagonal\n",
    "ax2.plot((1 - d, 1 + d), (1 - d, 1 + d), **kwargs)  # bottom-right diagonal\n",
    "\n",
    "\n",
    "#ax.set_title('Distribution of Sizes of Automorphic Groups')\n",
    "plt.xlabel('Size of Automorphic Group (# nodes)')\n",
    "plt.ylabel('Count')\n",
    "#plt.savefig('ASDist.pdf', bbox_inches='tight')"
   ]
  },
  {
   "cell_type": "markdown",
   "id": "775df3a4",
   "metadata": {},
   "source": [
    "## Bitcoin"
   ]
  },
  {
   "cell_type": "code",
   "execution_count": 55,
   "id": "d5dafce2",
   "metadata": {
    "ExecuteTime": {
     "end_time": "2023-01-24T21:13:51.562407Z",
     "start_time": "2023-01-24T21:13:51.518524Z"
    }
   },
   "outputs": [],
   "source": [
    "otc = pd.read_csv('otc_network.csv', header=None, names=['src', 'trg', 'edgelab', 'time'])"
   ]
  },
  {
   "cell_type": "code",
   "execution_count": 56,
   "id": "3a562e16",
   "metadata": {
    "ExecuteTime": {
     "end_time": "2023-01-24T21:14:30.895912Z",
     "start_time": "2023-01-24T21:14:30.886630Z"
    },
    "scrolled": true
   },
   "outputs": [
    {
     "data": {
      "text/html": [
       "<div>\n",
       "<style scoped>\n",
       "    .dataframe tbody tr th:only-of-type {\n",
       "        vertical-align: middle;\n",
       "    }\n",
       "\n",
       "    .dataframe tbody tr th {\n",
       "        vertical-align: top;\n",
       "    }\n",
       "\n",
       "    .dataframe thead th {\n",
       "        text-align: right;\n",
       "    }\n",
       "</style>\n",
       "<table border=\"1\" class=\"dataframe\">\n",
       "  <thead>\n",
       "    <tr style=\"text-align: right;\">\n",
       "      <th></th>\n",
       "      <th>src</th>\n",
       "      <th>trg</th>\n",
       "      <th>edgelab</th>\n",
       "      <th>time</th>\n",
       "    </tr>\n",
       "  </thead>\n",
       "  <tbody>\n",
       "    <tr>\n",
       "      <th>0</th>\n",
       "      <td>6</td>\n",
       "      <td>2</td>\n",
       "      <td>4</td>\n",
       "      <td>1.289242e+09</td>\n",
       "    </tr>\n",
       "    <tr>\n",
       "      <th>1</th>\n",
       "      <td>6</td>\n",
       "      <td>5</td>\n",
       "      <td>2</td>\n",
       "      <td>1.289242e+09</td>\n",
       "    </tr>\n",
       "    <tr>\n",
       "      <th>2</th>\n",
       "      <td>1</td>\n",
       "      <td>15</td>\n",
       "      <td>1</td>\n",
       "      <td>1.289243e+09</td>\n",
       "    </tr>\n",
       "    <tr>\n",
       "      <th>3</th>\n",
       "      <td>4</td>\n",
       "      <td>3</td>\n",
       "      <td>7</td>\n",
       "      <td>1.289245e+09</td>\n",
       "    </tr>\n",
       "    <tr>\n",
       "      <th>4</th>\n",
       "      <td>13</td>\n",
       "      <td>16</td>\n",
       "      <td>8</td>\n",
       "      <td>1.289254e+09</td>\n",
       "    </tr>\n",
       "  </tbody>\n",
       "</table>\n",
       "</div>"
      ],
      "text/plain": [
       "   src  trg  edgelab          time\n",
       "0    6    2        4  1.289242e+09\n",
       "1    6    5        2  1.289242e+09\n",
       "2    1   15        1  1.289243e+09\n",
       "3    4    3        7  1.289245e+09\n",
       "4   13   16        8  1.289254e+09"
      ]
     },
     "execution_count": 56,
     "metadata": {},
     "output_type": "execute_result"
    }
   ],
   "source": [
    "otc.head()"
   ]
  },
  {
   "cell_type": "code",
   "execution_count": 57,
   "id": "24ec1f00",
   "metadata": {
    "ExecuteTime": {
     "end_time": "2023-01-24T21:14:41.209398Z",
     "start_time": "2023-01-24T21:14:41.205683Z"
    }
   },
   "outputs": [],
   "source": [
    "otc.drop(columns=['edgelab'], inplace=True)"
   ]
  },
  {
   "cell_type": "code",
   "execution_count": 58,
   "id": "97a3747e",
   "metadata": {
    "ExecuteTime": {
     "end_time": "2023-01-24T21:17:33.080089Z",
     "start_time": "2023-01-24T21:17:27.236388Z"
    },
    "scrolled": true
   },
   "outputs": [
    {
     "name": "stdout",
     "output_type": "stream",
     "text": [
      "count 4421\n",
      "0\n",
      "count 5131\n",
      "1\n",
      "count 5137\n",
      "2\n",
      "count 5137\n"
     ]
    }
   ],
   "source": [
    "l=directed_loader()\n",
    "l.read(otc)\n",
    "emb=dirtemporalSirGNStop(l.G,10,10)"
   ]
  },
  {
   "cell_type": "code",
   "execution_count": 59,
   "id": "d56f2b5d",
   "metadata": {},
   "outputs": [
    {
     "data": {
      "text/plain": [
       "5881"
      ]
     },
     "execution_count": 59,
     "metadata": {},
     "output_type": "execute_result"
    }
   ],
   "source": [
    "len(l.G)"
   ]
  },
  {
   "cell_type": "code",
   "execution_count": 60,
   "id": "16fc8b24",
   "metadata": {
    "ExecuteTime": {
     "end_time": "2023-01-24T21:17:33.087255Z",
     "start_time": "2023-01-24T21:17:33.082090Z"
    }
   },
   "outputs": [],
   "source": [
    "embdf = pd.DataFrame(emb)"
   ]
  },
  {
   "cell_type": "code",
   "execution_count": 61,
   "id": "1c4eab94",
   "metadata": {
    "ExecuteTime": {
     "end_time": "2023-01-24T23:59:39.853796Z",
     "start_time": "2023-01-24T23:59:39.475244Z"
    },
    "scrolled": true
   },
   "outputs": [
    {
     "data": {
      "text/plain": [
       "0         1         2         3         4         5    6         7        8         9         10            11            12            13            14            15   16            17            18            19            20        21        22        23        24        25   26        27        28        29        30            31            32            33            34            35   36            37            38            39            40        41        42        43        44        45   46        47        48        49        50            51            52            53            54            55   56            57            58            59            60        61        62        63        64        65   66        67        68        69        70            71            72            73            74            75   76            77            78            79            80        81        82        83        84        85   86        87        88        89        90            91            92            93            94            95   96            97            98            99            100  101  102  103  104  105  106  107  108  109  110  111  112  113  114  115  116  117  118  119  120       121      122       123       124       125  126       127       128       129       130           131           132           133           134           135  136           137           138           139           140       141       142       143       144       145  146       147       148      149       150           151           152           153           154           155  156           157           158           159           160       161       162       163       164       165  166       167       168      169      170           171           172           173           174           175  176           177           178           179           180       181      182       183       184       185  186       187       188       189       190           191           192           193           194           195  196           197           198           199           200           201           202           203           204           205  206           207           208           209           210       211      212      213       214       215  216       217       218       219       220           221           222           223           224           225  226           227           228           229           230       231       232       233       234      235  236       237      238       239      240           241           242           243           244           245  246           247           248           249           250       251       252       253      254       255  256       257       258      259       260           261           262           263           264           265  266           267           268           269           270       271       272       273       274       275  276      277       278       279       280           281           282           283           284           285  286           287           288           289           290       291       292       293       294      295  296       297       298       299       300  301  302  303  304  305  306  307  308  309  310  311  312  313  314  315  316  317  318  319  320           321           322           323           324           325  326           327           328           329           330       331       332       333      334       335  336       337       338       339       340           341           342           343           344           345  346           347           348           349           350       351       352       353       354       355  356       357       358       359       360           361           362           363           364           365  366           367           368           369           370       371       372       373       374       375  376       377       378      379       380           381           382           383           384           385  386           387           388           389           390       391       392       393       394       395  396       397       398       399       400        401        402       403       404        405       406       407       408        409       410       411       412       413       414       415  416       417       418       419     \n",
       "0.000000  0.000000  0.000000  0.000000  0.000000  0.0  0.000000  0.00000  0.000000  0.000000  0.000000e+00  0.000000e+00  0.000000e+00  0.000000e+00  0.000000e+00  0.0  0.000000e+00  0.000000e+00  0.000000e+00  0.000000e+00  0.000000  0.000000  0.000000  0.000000  0.000000  0.0  0.000000  0.000000  0.000000  0.000000  0.000000e+00  0.000000e+00  0.000000e+00  0.000000e+00  0.000000e+00  0.0  0.000000e+00  0.000000e+00  0.000000e+00  0.000000e+00  0.000000  0.000000  0.000000  0.000000  0.000000  0.0  0.000000  0.000000  0.000000  0.000000  0.000000e+00  0.000000e+00  0.000000e+00  0.000000e+00  0.000000e+00  0.0  0.000000e+00  0.000000e+00  0.000000e+00  0.000000e+00  0.000000  0.000000  0.000000  0.000000  0.000000  0.0  0.000000  0.000000  0.000000  0.000000  0.000000e+00  0.000000e+00  0.000000e+00  0.000000e+00  0.000000e+00  0.0  0.000000e+00  0.000000e+00  0.000000e+00  0.000000e+00  0.000000  0.000000  0.000000  0.000000  0.000000  0.0  0.000000  0.000000  0.000000  0.000000  0.000000e+00  0.000000e+00  0.000000e+00  0.000000e+00  0.000000e+00  0.0  0.000000e+00  0.000000e+00  0.000000e+00  0.000000e+00  0.0  0.0  0.0  0.0  0.0  0.0  0.0  0.0  0.0  0.0  0.0  0.0  0.0  0.0  0.0  0.0  0.0  0.0  0.0  0.0  0.000000  0.00000  0.000000  0.000000  0.000000  0.0  0.000000  0.000000  0.000000  0.000000  0.000000e+00  0.000000e+00  0.000000e+00  0.000000e+00  0.000000e+00  0.0  0.000000e+00  0.000000e+00  0.000000e+00  0.000000e+00  0.000000  0.000000  0.000000  0.000000  0.000000  0.0  0.000000  0.000000  0.00000  0.000000  0.000000e+00  0.000000e+00  0.000000e+00  0.000000e+00  0.000000e+00  0.0  0.000000e+00  0.000000e+00  0.000000e+00  0.000000e+00  0.000000  0.000000  0.000000  0.000000  0.000000  0.0  0.000000  0.000000  0.00000  0.00000  0.000000e+00  0.000000e+00  0.000000e+00  0.000000e+00  0.000000e+00  0.0  0.000000e+00  0.000000e+00  0.000000e+00  0.000000e+00  0.000000  0.00000  0.000000  0.000000  0.000000  0.0  0.000000  0.000000  0.000000  0.000000  0.000000e+00  0.000000e+00  0.000000e+00  0.000000e+00  0.000000e+00  0.0  0.000000e+00  0.000000e+00  0.000000e+00  0.000000e+00  0.000000e+00  0.000000e+00  0.000000e+00  0.000000e+00  0.000000e+00  0.0  0.000000e+00  0.000000e+00  0.000000e+00  0.000000e+00  0.000000  0.00000  0.00000  0.000000  0.000000  0.0  0.000000  0.000000  0.000000  0.000000  0.000000e+00  0.000000e+00  0.000000e+00  0.000000e+00  0.000000e+00  0.0  0.000000e+00  0.000000e+00  0.000000e+00  0.000000e+00  0.000000  0.000000  0.000000  0.000000  0.00000  0.0  0.000000  0.00000  0.000000  0.00000  0.000000e+00  0.000000e+00  0.000000e+00  0.000000e+00  0.000000e+00  0.0  0.000000e+00  0.000000e+00  0.000000e+00  0.000000e+00  0.000000  0.000000  0.000000  0.00000  0.000000  0.0  0.000000  0.000000  0.00000  0.000000  0.000000e+00  0.000000e+00  0.000000e+00  0.000000e+00  0.000000e+00  0.0  0.000000e+00  0.000000e+00  0.000000e+00  0.000000e+00  0.000000  0.000000  0.000000  0.000000  0.000000  0.0  0.00000  0.000000  0.000000  0.000000  0.000000e+00  0.000000e+00  0.000000e+00  0.000000e+00  0.000000e+00  0.0  0.000000e+00  0.000000e+00  0.000000e+00  0.000000e+00  0.000000  0.000000  0.000000  0.000000  0.00000  0.0  0.000000  0.000000  0.000000  0.000000  0.0  0.0  0.0  0.0  0.0  0.0  0.0  0.0  0.0  0.0  0.0  0.0  0.0  0.0  0.0  0.0  0.0  0.0  0.0  0.0  0.000000e+00  0.000000e+00  0.000000e+00  0.000000e+00  0.000000e+00  0.0  0.000000e+00  0.000000e+00  0.000000e+00  0.000000e+00  0.000000  0.000000  0.000000  0.00000  0.000000  0.0  0.000000  0.000000  0.000000  0.000000  0.000000e+00  0.000000e+00  0.000000e+00  0.000000e+00  0.000000e+00  0.0  0.000000e+00  0.000000e+00  0.000000e+00  0.000000e+00  0.000000  0.000000  0.000000  0.000000  0.000000  0.0  0.000000  0.000000  0.000000  0.000000  0.000000e+00  0.000000e+00  0.000000e+00  0.000000e+00  0.000000e+00  0.0  0.000000e+00  0.000000e+00  0.000000e+00  0.000000e+00  0.000000  0.000000  0.000000  0.000000  0.000000  0.0  0.000000  0.000000  0.00000  0.000000  0.000000e+00  0.000000e+00  0.000000e+00  0.000000e+00  0.000000e+00  0.0  0.000000e+00  0.000000e+00  0.000000e+00  0.000000e+00  0.000000  0.000000  0.000000  0.000000  0.000000  0.0  0.000000  0.000000  0.000000  0.000000  0.075114   0.088821   0.201225  0.110127  0.075234   0.000000  0.090393  0.126152  0.093888   0.139045  0.000000  0.000000  0.000000  0.000000  0.000000  0.0  0.000000  0.000000  0.000000  0.000000    185\n",
       "                                                                                                                                                                                                                                                                                                                                                                                                                                                                                                                                                                                                                                                                                                                                                                                                                                                                                                                                                                                                                                                                                                                                                                                                                                                                                                                                                                                                                                                                                                                                                                                                                                                                                                                                                                                                                                                                                                                                                                                                                                                                                                                                                                                                                                                                                                                                                                                                                                                                                                                                                                                                                                                                                                                                                                                                                                                                                                                                                                                                                                                                                                                                                                                                                                                                                                                                                                                                                                                                                                                                                                                                                                                                                                                                                                                                                                                                                                                                                                                                                                                                                                                                                                                                                                                                                                                                                                                                                           0.013755   0.041779   0.053032  0.000000  0.013708   0.618955  0.058348  0.108762  0.024877   0.066783  0.000000  0.000000  0.000000  0.000000  0.000000  0.0  0.000000  0.000000  0.000000  0.000000    105\n",
       "                                                                                                                                                                                                                                                                                                                                                                                                                                                                                                                                                                                                                                                                                                                                                                                                                                                                                                                                                                                                                                                                                                                                                                                                                                                                                                                                                                                                                                                                                                                                                                                                                                                                                                                                                                                                                                                                                                                                                                                                                                                                                                                                                                                                                                                                                                                                                                                                                                                                                                                                                                                                                                                                                                                                                                                                                                                                                                                                                                                                                                                                                                                                                                                                                                                                                                                                                                                                                                                                                                                                                                                                                                                                                                                                                                                                                                                                                                                                                                                                                                                                                                                                                                                                                                                                                                                                                                                                                           0.075114   0.088821   0.201225  0.110127  0.075234   0.000000  0.090393  0.126152  0.093888   0.139045  0.075114  0.088821  0.201225  0.110127  0.075234  0.0  0.090393  0.126152  0.093888  0.139045     71\n",
       "                                                                                                                                                                                                                                                                                                                                                                                                                                                                                                                                                                                                                                                                                                                                                                                                                                                                                                                                                                                                                                                                                                                                                                                                                                                                                                                                                                                                                                                                                                                                                                                                                                                                                                                                                                                                                                                                                                                                                                                                                                                                                                                                                                                                                                                                                                                                                                                                                                                                                                                                                                                                                                                                                                                                                                                                                                                                                                                                                                                                                                                                                                                                                                                                                                                                                                                                                                                                                                                                                                                                                                                                                                                                                                                                                                                                                                                                                                                                                                                                                                                                                                                                                                                                                                                                                                                                                                                                                           0.141245   0.138588   0.024883  0.097306  0.139709   0.000000  0.125978  0.078302  0.139413   0.114576  0.000000  0.000000  0.000000  0.000000  0.000000  0.0  0.000000  0.000000  0.000000  0.000000     68\n",
       "                                                                                                                                                                                                                                                                                                                                                                                                                                                                                                                                                                                                                                                                                                                                                                                                                                                                                                                                                                                                                                                                                                                                                                                                                                                                                                                                                                                                                                                                                                                                                                                                                                                                                                                                                                                                                                                                                                                                                                                                                                                                                                                                                                                                                                                                                                                                                                                                                                                                                                                                                                                                                                                                                                                                                                                                                                                                                                                                                                                                                                                                                                                                                                                                                                                                                                                                                                                                                                                                                                                                                                                                                                                                                                                                                                                                                                                                                                                                                                                                                                                                                                                                                                                                                                                                                                                                                                                                                           0.140886   0.134534   0.048178  0.096800  0.134670   0.000000  0.119249  0.082714  0.135896   0.107073  0.000000  0.000000  0.000000  0.000000  0.000000  0.0  0.000000  0.000000  0.000000  0.000000     18\n",
       "                                                                                                                                                                                                                                                                                                                                                                                                                                                                                                                                                                                                                                                                                                                                                                                                                                                                                                                                                                                                                                                                                                                                                                                                                                                                                                                                                                                                                                                                                                                                                                                                                                                                                                                                                                                                                                                                                                                                                                                                                                                                                                                                                                                                                                                                                                                                                                                                                                                                                                                                                                                                                                                                                                                                                                                                                                                                                                                                                                                                                                                                                                                                                                                                                                                                                                                                                                                                                                                                                                                                                                                                                                                                                                                                                                                                                                                                                                                                                                                                                                                                                                                                                                                                                                                                                                                                                                                                                                                                                                                                                                                                                                   ... \n",
       "                                                                                              3.525130e-14  3.487589e-14  1.510721e-14  2.536441e-14  3.401285e-14  0.0  3.126511e-14  2.350065e-14  3.775470e-14  3.055969e-14  0.000000  0.000000  0.000000  0.000000  0.000000  0.0  0.000000  0.000000  0.000000  0.000000  3.487589e-14  3.450448e-14  1.494633e-14  2.509429e-14  3.365064e-14  0.0  3.093215e-14  2.325038e-14  3.735263e-14  3.023425e-14  0.000000  0.000000  0.000000  0.000000  0.000000  0.0  0.000000  0.000000  0.000000  0.000000  1.510721e-14  1.494633e-14  6.474311e-15  1.087011e-14  1.457647e-14  0.0  1.339890e-14  1.007138e-14  1.618006e-14  1.309659e-14  0.000000  0.000000  0.000000  0.000000  0.000000  0.0  0.000000  0.000000  0.000000  0.000000  2.536441e-14  2.509429e-14  1.087011e-14  1.825049e-14  2.447331e-14  0.0  2.249622e-14  1.690945e-14  2.716568e-14  2.198866e-14  0.000000  0.000000  0.000000  0.000000  0.000000  0.0  0.000000  0.000000  0.000000  0.000000  3.401285e-14  3.365064e-14  1.457647e-14  2.447331e-14  3.281792e-14  0.0  3.016671e-14  2.267503e-14  3.642830e-14  2.948607e-14  0.0  0.0  0.0  0.0  0.0  0.0  0.0  0.0  0.0  0.0  0.0  0.0  0.0  0.0  0.0  0.0  0.0  0.0  0.0  0.0  0.000000  0.00000  0.000000  0.000000  0.000000  0.0  0.000000  0.000000  0.000000  0.000000  3.126511e-14  3.093215e-14  1.339890e-14  2.249622e-14  3.016671e-14  0.0  2.772968e-14  2.084322e-14  3.348543e-14  2.710403e-14  0.000000  0.000000  0.000000  0.000000  0.000000  0.0  0.000000  0.000000  0.00000  0.000000  2.350065e-14  2.325038e-14  1.007138e-14  1.690945e-14  2.267503e-14  0.0  2.084322e-14  1.566695e-14  2.516957e-14  2.037294e-14  0.000000  0.000000  0.000000  0.000000  0.000000  0.0  0.000000  0.000000  0.00000  0.00000  3.775470e-14  3.735263e-14  1.618006e-14  2.716568e-14  3.642830e-14  0.0  3.348543e-14  2.516957e-14  4.043588e-14  3.272992e-14  0.000000  0.00000  0.000000  0.000000  0.000000  0.0  0.000000  0.000000  0.000000  0.000000  3.055969e-14  3.023425e-14  1.309659e-14  2.198866e-14  2.948607e-14  0.0  2.710403e-14  2.037294e-14  3.272992e-14  2.649250e-14  0.000000e+00  0.000000e+00  0.000000e+00  0.000000e+00  0.000000e+00  0.0  0.000000e+00  0.000000e+00  0.000000e+00  0.000000e+00  0.000000  0.00000  0.00000  0.000000  0.000000  0.0  0.000000  0.000000  0.000000  0.000000  0.000000e+00  0.000000e+00  0.000000e+00  0.000000e+00  0.000000e+00  0.0  0.000000e+00  0.000000e+00  0.000000e+00  0.000000e+00  0.000000  0.000000  0.000000  0.000000  0.00000  0.0  0.000000  0.00000  0.000000  0.00000  0.000000e+00  0.000000e+00  0.000000e+00  0.000000e+00  0.000000e+00  0.0  0.000000e+00  0.000000e+00  0.000000e+00  0.000000e+00  0.000000  0.000000  0.000000  0.00000  0.000000  0.0  0.000000  0.000000  0.00000  0.000000  0.000000e+00  0.000000e+00  0.000000e+00  0.000000e+00  0.000000e+00  0.0  0.000000e+00  0.000000e+00  0.000000e+00  0.000000e+00  0.000000  0.000000  0.000000  0.000000  0.000000  0.0  0.00000  0.000000  0.000000  0.000000  0.000000e+00  0.000000e+00  0.000000e+00  0.000000e+00  0.000000e+00  0.0  0.000000e+00  0.000000e+00  0.000000e+00  0.000000e+00  0.000000  0.000000  0.000000  0.000000  0.00000  0.0  0.000000  0.000000  0.000000  0.000000  0.0  0.0  0.0  0.0  0.0  0.0  0.0  0.0  0.0  0.0  0.0  0.0  0.0  0.0  0.0  0.0  0.0  0.0  0.0  0.0  0.000000e+00  0.000000e+00  0.000000e+00  0.000000e+00  0.000000e+00  0.0  0.000000e+00  0.000000e+00  0.000000e+00  0.000000e+00  0.000000  0.000000  0.000000  0.00000  0.000000  0.0  0.000000  0.000000  0.000000  0.000000  0.000000e+00  0.000000e+00  0.000000e+00  0.000000e+00  0.000000e+00  0.0  0.000000e+00  0.000000e+00  0.000000e+00  0.000000e+00  0.000000  0.000000  0.000000  0.000000  0.000000  0.0  0.000000  0.000000  0.000000  0.000000  0.000000e+00  0.000000e+00  0.000000e+00  0.000000e+00  0.000000e+00  0.0  0.000000e+00  0.000000e+00  0.000000e+00  0.000000e+00  0.000000  0.000000  0.000000  0.000000  0.000000  0.0  0.000000  0.000000  0.00000  0.000000  0.000000e+00  0.000000e+00  0.000000e+00  0.000000e+00  0.000000e+00  0.0  0.000000e+00  0.000000e+00  0.000000e+00  0.000000e+00  0.000000  0.000000  0.000000  0.000000  0.000000  0.0  0.000000  0.000000  0.000000  0.000000  0.131686   0.130284   0.056435  0.094752  0.127060   0.000000  0.116795  0.087790  0.141038   0.114160  0.131686  0.130284  0.056435  0.094752  0.127060  0.0  0.116795  0.087790  0.141038  0.114160      1\n",
       "                                                                                              3.337181e-14  3.915249e-14  2.330590e-14  2.714062e-14  3.410321e-14  0.0  4.299833e-14  4.928161e-14  3.528458e-14  4.120472e-14  0.000000  0.000000  0.000000  0.000000  0.000000  0.0  0.000000  0.000000  0.000000  0.000000  3.915249e-14  4.593450e-14  2.734296e-14  3.184193e-14  4.001058e-14  0.0  5.044651e-14  5.781819e-14  4.139658e-14  4.834222e-14  0.000000  0.000000  0.000000  0.000000  0.000000  0.0  0.000000  0.000000  0.000000  0.000000  2.330590e-14  2.734296e-14  1.627616e-14  1.895422e-14  2.381668e-14  0.0  3.002877e-14  3.441684e-14  2.464172e-14  2.877617e-14  0.000000  0.000000  0.000000  0.000000  0.000000  0.0  0.000000  0.000000  0.000000  0.000000  2.714062e-14  3.184193e-14  1.895422e-14  2.207292e-14  2.773545e-14  0.0  3.496967e-14  4.007974e-14  2.869624e-14  3.351097e-14  0.000000  0.000000  0.000000  0.000000  0.000000  0.0  0.000000  0.000000  0.000000  0.000000  3.410321e-14  4.001058e-14  2.381668e-14  2.773545e-14  3.485063e-14  0.0  4.394070e-14  5.036169e-14  3.605789e-14  4.210779e-14  0.0  0.0  0.0  0.0  0.0  0.0  0.0  0.0  0.0  0.0  0.0  0.0  0.0  0.0  0.0  0.0  0.0  0.0  0.0  0.0  0.000000  0.00000  0.000000  0.000000  0.000000  0.0  0.000000  0.000000  0.000000  0.000000  4.299833e-14  5.044651e-14  3.002877e-14  3.496967e-14  4.394070e-14  0.0  5.540173e-14  6.349751e-14  4.546285e-14  5.309073e-14  0.000000  0.000000  0.000000  0.000000  0.000000  0.0  0.000000  0.000000  0.00000  0.000000  4.928161e-14  5.781819e-14  3.441684e-14  4.007974e-14  5.036169e-14  0.0  6.349751e-14  7.277631e-14  5.210627e-14  6.084881e-14  0.000000  0.000000  0.000000  0.000000  0.000000  0.0  0.000000  0.000000  0.00000  0.00000  3.528458e-14  4.139658e-14  2.464172e-14  2.869624e-14  3.605789e-14  0.0  4.546285e-14  5.210627e-14  3.730697e-14  4.356644e-14  0.000000  0.00000  0.000000  0.000000  0.000000  0.0  0.000000  0.000000  0.000000  0.000000  4.120472e-14  4.834222e-14  2.877617e-14  3.351097e-14  4.210779e-14  0.0  5.309073e-14  6.084881e-14  4.356644e-14  5.087614e-14  0.000000e+00  0.000000e+00  0.000000e+00  0.000000e+00  0.000000e+00  0.0  0.000000e+00  0.000000e+00  0.000000e+00  0.000000e+00  0.000000  0.00000  0.00000  0.000000  0.000000  0.0  0.000000  0.000000  0.000000  0.000000  0.000000e+00  0.000000e+00  0.000000e+00  0.000000e+00  0.000000e+00  0.0  0.000000e+00  0.000000e+00  0.000000e+00  0.000000e+00  0.000000  0.000000  0.000000  0.000000  0.00000  0.0  0.000000  0.00000  0.000000  0.00000  0.000000e+00  0.000000e+00  0.000000e+00  0.000000e+00  0.000000e+00  0.0  0.000000e+00  0.000000e+00  0.000000e+00  0.000000e+00  0.000000  0.000000  0.000000  0.00000  0.000000  0.0  0.000000  0.000000  0.00000  0.000000  0.000000e+00  0.000000e+00  0.000000e+00  0.000000e+00  0.000000e+00  0.0  0.000000e+00  0.000000e+00  0.000000e+00  0.000000e+00  0.000000  0.000000  0.000000  0.000000  0.000000  0.0  0.00000  0.000000  0.000000  0.000000  0.000000e+00  0.000000e+00  0.000000e+00  0.000000e+00  0.000000e+00  0.0  0.000000e+00  0.000000e+00  0.000000e+00  0.000000e+00  0.000000  0.000000  0.000000  0.000000  0.00000  0.0  0.000000  0.000000  0.000000  0.000000  0.0  0.0  0.0  0.0  0.0  0.0  0.0  0.0  0.0  0.0  0.0  0.0  0.0  0.0  0.0  0.0  0.0  0.0  0.0  0.0  0.000000e+00  0.000000e+00  0.000000e+00  0.000000e+00  0.000000e+00  0.0  0.000000e+00  0.000000e+00  0.000000e+00  0.000000e+00  0.000000  0.000000  0.000000  0.00000  0.000000  0.0  0.000000  0.000000  0.000000  0.000000  0.000000e+00  0.000000e+00  0.000000e+00  0.000000e+00  0.000000e+00  0.0  0.000000e+00  0.000000e+00  0.000000e+00  0.000000e+00  0.000000  0.000000  0.000000  0.000000  0.000000  0.0  0.000000  0.000000  0.000000  0.000000  0.000000e+00  0.000000e+00  0.000000e+00  0.000000e+00  0.000000e+00  0.0  0.000000e+00  0.000000e+00  0.000000e+00  0.000000e+00  0.000000  0.000000  0.000000  0.000000  0.000000  0.0  0.000000  0.000000  0.00000  0.000000  0.000000e+00  0.000000e+00  0.000000e+00  0.000000e+00  0.000000e+00  0.0  0.000000e+00  0.000000e+00  0.000000e+00  0.000000e+00  0.000000  0.000000  0.000000  0.000000  0.000000  0.0  0.000000  0.000000  0.000000  0.000000  0.102417   0.120157   0.071525  0.083293  0.104661   0.000000  0.131960  0.151243  0.108287   0.126456  0.102417  0.120157  0.071525  0.083293  0.104661  0.0  0.131960  0.151243  0.108287  0.126456      1\n",
       "                                                                                              3.189839e-14  2.966600e-14  1.128776e-14  2.136673e-14  2.991413e-14  0.0  2.620618e-14  1.858363e-14  2.988109e-14  2.348179e-14  0.000000  0.000000  0.000000  0.000000  0.000000  0.0  0.000000  0.000000  0.000000  0.000000  2.966600e-14  2.758983e-14  1.049779e-14  1.987139e-14  2.782060e-14  0.0  2.437215e-14  1.728306e-14  2.778988e-14  2.183843e-14  0.000000  0.000000  0.000000  0.000000  0.000000  0.0  0.000000  0.000000  0.000000  0.000000  1.128776e-14  1.049779e-14  3.994359e-15  7.560964e-15  1.058560e-14  0.0  9.273481e-15  6.576118e-15  1.057391e-14  8.309414e-15  0.000000  0.000000  0.000000  0.000000  0.000000  0.0  0.000000  0.000000  0.000000  0.000000  2.136673e-14  1.987139e-14  7.560964e-15  1.431223e-14  2.003760e-14  0.0  1.755387e-14  1.244800e-14  2.001547e-14  1.572898e-14  0.000000  0.000000  0.000000  0.000000  0.000000  0.0  0.000000  0.000000  0.000000  0.000000  2.991413e-14  2.782060e-14  1.058560e-14  2.003760e-14  2.805330e-14  0.0  2.457600e-14  1.742762e-14  2.802232e-14  2.202109e-14  0.0  0.0  0.0  0.0  0.0  0.0  0.0  0.0  0.0  0.0  0.0  0.0  0.0  0.0  0.0  0.0  0.0  0.0  0.0  0.0  0.000000  0.00000  0.000000  0.000000  0.000000  0.0  0.000000  0.000000  0.000000  0.000000  2.620618e-14  2.437215e-14  9.273481e-15  1.755387e-14  2.457600e-14  0.0  2.152973e-14  1.526741e-14  2.454886e-14  1.929151e-14  0.000000  0.000000  0.000000  0.000000  0.000000  0.0  0.000000  0.000000  0.00000  0.000000  1.858363e-14  1.728306e-14  6.576118e-15  1.244800e-14  1.742762e-14  0.0  1.526741e-14  1.082660e-14  1.740837e-14  1.368022e-14  0.000000  0.000000  0.000000  0.000000  0.000000  0.0  0.000000  0.000000  0.00000  0.00000  2.988109e-14  2.778988e-14  1.057391e-14  2.001547e-14  2.802232e-14  0.0  2.454886e-14  1.740837e-14  2.799137e-14  2.199677e-14  0.000000  0.00000  0.000000  0.000000  0.000000  0.0  0.000000  0.000000  0.000000  0.000000  2.348179e-14  2.183843e-14  8.309414e-15  1.572898e-14  2.202109e-14  0.0  1.929151e-14  1.368022e-14  2.199677e-14  1.728597e-14  3.924159e-27  3.585397e-27  1.362124e-27  2.602559e-27  3.608621e-27  0.0  3.169451e-27  2.235979e-27  3.633241e-27  2.839046e-27  0.000000  0.00000  0.00000  0.000000  0.000000  0.0  0.000000  0.000000  0.000000  0.000000  3.585397e-27  3.275880e-27  1.244535e-27  2.377888e-27  3.297099e-27  0.0  2.895841e-27  2.042954e-27  3.319594e-27  2.593960e-27  0.000000  0.000000  0.000000  0.000000  0.00000  0.0  0.000000  0.00000  0.000000  0.00000  1.362124e-27  1.244535e-27  4.728099e-28  9.033804e-28  1.252597e-27  0.0  1.100155e-27  7.761360e-28  1.261143e-27  9.854679e-28  0.000000  0.000000  0.000000  0.00000  0.000000  0.0  0.000000  0.000000  0.00000  0.000000  2.602559e-27  2.377888e-27  9.033804e-28  1.726055e-27  2.393290e-27  0.0  2.102026e-27  1.482934e-27  2.409619e-27  1.882897e-27  0.000000  0.000000  0.000000  0.000000  0.000000  0.0  0.00000  0.000000  0.000000  0.000000  3.608621e-27  3.297099e-27  1.252597e-27  2.393290e-27  3.318456e-27  0.0  2.914599e-27  2.056187e-27  3.341096e-27  2.610762e-27  0.000000  0.000000  0.000000  0.000000  0.00000  0.0  0.000000  0.000000  0.000000  0.000000  0.0  0.0  0.0  0.0  0.0  0.0  0.0  0.0  0.0  0.0  0.0  0.0  0.0  0.0  0.0  0.0  0.0  0.0  0.0  0.0  3.169451e-27  2.895841e-27  1.100155e-27  2.102026e-27  2.914599e-27  0.0  2.559891e-27  1.805948e-27  2.934484e-27  2.293031e-27  0.000000  0.000000  0.000000  0.00000  0.000000  0.0  0.000000  0.000000  0.000000  0.000000  2.235979e-27  2.042954e-27  7.761360e-28  1.482934e-27  2.056187e-27  0.0  1.805948e-27  1.274058e-27  2.070215e-27  1.617684e-27  0.000000  0.000000  0.000000  0.000000  0.000000  0.0  0.000000  0.000000  0.000000  0.000000  3.633241e-27  3.319594e-27  1.261143e-27  2.409619e-27  3.341096e-27  0.0  2.934484e-27  2.070215e-27  3.363892e-27  2.628574e-27  0.000000  0.000000  0.000000  0.000000  0.000000  0.0  0.000000  0.000000  0.00000  0.000000  2.839046e-27  2.593960e-27  9.854679e-28  1.882897e-27  2.610762e-27  0.0  2.293031e-27  1.617684e-27  2.628574e-27  2.053990e-27  0.000000  0.000000  0.000000  0.000000  0.000000  0.0  0.000000  0.000000  0.000000  0.000000  0.524113   0.510681   0.244062  0.377969  0.499526   0.000000  0.483205  0.376952  0.515926   0.467564  0.524113  0.510681  0.244062  0.377969  0.499526  0.0  0.483205  0.376952  0.515926  0.467564      1\n",
       "                                                                                              3.061291e-14  3.017109e-14  1.218890e-14  2.133345e-14  2.916494e-14  0.0  2.661796e-14  1.956546e-14  3.126743e-14  2.487050e-14  0.000000  0.000000  0.000000  0.000000  0.000000  0.0  0.000000  0.000000  0.000000  0.000000  3.017109e-14  2.973565e-14  1.201298e-14  2.102556e-14  2.874402e-14  0.0  2.623380e-14  1.928309e-14  3.081617e-14  2.451156e-14  0.000000  0.000000  0.000000  0.000000  0.000000  0.0  0.000000  0.000000  0.000000  0.000000  1.218890e-14  1.201298e-14  4.853156e-15  8.494169e-15  1.161237e-14  0.0  1.059826e-14  7.790224e-15  1.244950e-14  9.902489e-15  0.000000  0.000000  0.000000  0.000000  0.000000  0.0  0.000000  0.000000  0.000000  0.000000  2.133345e-14  2.102556e-14  8.494169e-15  1.486680e-14  2.032439e-14  0.0  1.854946e-14  1.363473e-14  2.178957e-14  1.733169e-14  0.000000  0.000000  0.000000  0.000000  0.000000  0.0  0.000000  0.000000  0.000000  0.000000  2.916494e-14  2.874402e-14  1.161237e-14  2.032439e-14  2.778546e-14  0.0  2.535895e-14  1.864003e-14  2.978850e-14  2.369414e-14  0.0  0.0  0.0  0.0  0.0  0.0  0.0  0.0  0.0  0.0  0.0  0.0  0.0  0.0  0.0  0.0  0.0  0.0  0.0  0.0  0.000000  0.00000  0.000000  0.000000  0.000000  0.0  0.000000  0.000000  0.000000  0.000000  2.661796e-14  2.623380e-14  1.059826e-14  1.854946e-14  2.535895e-14  0.0  2.314435e-14  1.701219e-14  2.718707e-14  2.162493e-14  0.000000  0.000000  0.000000  0.000000  0.000000  0.0  0.000000  0.000000  0.00000  0.000000  1.956546e-14  1.928309e-14  7.790224e-15  1.363473e-14  1.864003e-14  0.0  1.701219e-14  1.250477e-14  1.998378e-14  1.589535e-14  0.000000  0.000000  0.000000  0.000000  0.000000  0.0  0.000000  0.000000  0.00000  0.00000  3.126743e-14  3.081617e-14  1.244950e-14  2.178957e-14  2.978850e-14  0.0  2.718707e-14  1.998378e-14  3.193594e-14  2.540224e-14  0.000000  0.00000  0.000000  0.000000  0.000000  0.0  0.000000  0.000000  0.000000  0.000000  2.487050e-14  2.451156e-14  9.902489e-15  1.733169e-14  2.369414e-14  0.0  2.162493e-14  1.589535e-14  2.540224e-14  2.020526e-14  0.000000e+00  0.000000e+00  0.000000e+00  0.000000e+00  0.000000e+00  0.0  0.000000e+00  0.000000e+00  0.000000e+00  0.000000e+00  0.000000  0.00000  0.00000  0.000000  0.000000  0.0  0.000000  0.000000  0.000000  0.000000  0.000000e+00  0.000000e+00  0.000000e+00  0.000000e+00  0.000000e+00  0.0  0.000000e+00  0.000000e+00  0.000000e+00  0.000000e+00  0.000000  0.000000  0.000000  0.000000  0.00000  0.0  0.000000  0.00000  0.000000  0.00000  0.000000e+00  0.000000e+00  0.000000e+00  0.000000e+00  0.000000e+00  0.0  0.000000e+00  0.000000e+00  0.000000e+00  0.000000e+00  0.000000  0.000000  0.000000  0.00000  0.000000  0.0  0.000000  0.000000  0.00000  0.000000  0.000000e+00  0.000000e+00  0.000000e+00  0.000000e+00  0.000000e+00  0.0  0.000000e+00  0.000000e+00  0.000000e+00  0.000000e+00  0.000000  0.000000  0.000000  0.000000  0.000000  0.0  0.00000  0.000000  0.000000  0.000000  0.000000e+00  0.000000e+00  0.000000e+00  0.000000e+00  0.000000e+00  0.0  0.000000e+00  0.000000e+00  0.000000e+00  0.000000e+00  0.000000  0.000000  0.000000  0.000000  0.00000  0.0  0.000000  0.000000  0.000000  0.000000  0.0  0.0  0.0  0.0  0.0  0.0  0.0  0.0  0.0  0.0  0.0  0.0  0.0  0.0  0.0  0.0  0.0  0.0  0.0  0.0  0.000000e+00  0.000000e+00  0.000000e+00  0.000000e+00  0.000000e+00  0.0  0.000000e+00  0.000000e+00  0.000000e+00  0.000000e+00  0.000000  0.000000  0.000000  0.00000  0.000000  0.0  0.000000  0.000000  0.000000  0.000000  0.000000e+00  0.000000e+00  0.000000e+00  0.000000e+00  0.000000e+00  0.0  0.000000e+00  0.000000e+00  0.000000e+00  0.000000e+00  0.000000  0.000000  0.000000  0.000000  0.000000  0.0  0.000000  0.000000  0.000000  0.000000  0.000000e+00  0.000000e+00  0.000000e+00  0.000000e+00  0.000000e+00  0.0  0.000000e+00  0.000000e+00  0.000000e+00  0.000000e+00  0.000000  0.000000  0.000000  0.000000  0.000000  0.0  0.000000  0.000000  0.00000  0.000000  0.000000e+00  0.000000e+00  0.000000e+00  0.000000e+00  0.000000e+00  0.0  0.000000e+00  0.000000e+00  0.000000e+00  0.000000e+00  0.000000  0.000000  0.000000  0.000000  0.000000  0.0  0.000000  0.000000  0.000000  0.000000  0.210693   0.222445   0.255208  0.204610  0.204400   0.000000  0.208280  0.212804  0.232367   0.249193  0.135580  0.133623  0.053983  0.094482  0.129167  0.0  0.117887  0.086652  0.138479  0.110148      1\n",
       "0.018377  0.016812  0.006438  0.012206  0.016909  0.0  0.014868  0.01053  0.017077  0.013362  2.339599e-03  2.161551e-03  8.328390e-04  1.570344e-03  2.187233e-03  0.0  1.914034e-03  1.357439e-03  2.200977e-03  1.727210e-03  0.016799  0.015369  0.005887  0.011158  0.015457  0.0  0.013592  0.009628  0.015611  0.012216  2.161538e-03  1.997199e-03  7.696758e-04  1.451018e-03  2.021012e-03  0.0  1.768595e-03  1.254397e-03  2.033683e-03  1.596124e-03  0.006414  0.005871  0.002253  0.004263  0.005903  0.0  0.005196  0.003685  0.005963  0.004673  8.328005e-04  7.696453e-04  2.967949e-04  5.592628e-04  7.789102e-04  0.0  6.816664e-04  4.836024e-04  7.837563e-04  6.153714e-04  0.012209  0.011171  0.004281  0.008111  0.011234  0.0  0.009882  0.007002  0.011347  0.008883  1.570337e-03  1.451021e-03  5.592859e-04  1.054255e-03  1.468362e-03  0.0  1.284993e-03  9.114575e-04  1.477548e-03  1.159770e-03  0.016907  0.015467  0.005926  0.011229  0.015556  0.0  0.013679  0.009691  0.015711  0.012295  2.187230e-03  2.021022e-03  7.789446e-04  1.468367e-03  2.045190e-03  0.0  1.789743e-03  1.269452e-03  2.057974e-03  1.615296e-03  0.0  0.0  0.0  0.0  0.0  0.0  0.0  0.0  0.0  0.0  0.0  0.0  0.0  0.0  0.0  0.0  0.0  0.0  0.0  0.0  0.014854  0.01359  0.005206  0.009866  0.013667  0.0  0.012019  0.008515  0.013804  0.010803  1.914022e-03  1.768596e-03  6.816936e-04  1.284992e-03  1.789735e-03  0.0  1.566231e-03  1.110943e-03  1.800930e-03  1.413602e-03  0.010491  0.009599  0.003679  0.006969  0.009654  0.0  0.008491  0.006017  0.00975  0.007632  1.357409e-03  1.254377e-03  4.836139e-04  9.114417e-04  1.269426e-03  0.0  1.110925e-03  7.880684e-04  1.277343e-03  1.002781e-03  0.017024  0.015575  0.005966  0.011307  0.015664  0.0  0.013774  0.009757  0.01582  0.01238  2.200894e-03  2.033619e-03  7.837630e-04  1.477499e-03  2.057900e-03  0.0  1.800873e-03  1.277323e-03  2.070798e-03  1.625308e-03  0.013312  0.01218  0.004667  0.008843  0.012249  0.0  0.010773  0.007633  0.012372  0.009684  1.727146e-03  1.596075e-03  6.153770e-04  1.159733e-03  1.615239e-03  0.0  1.413559e-03  1.002766e-03  1.625309e-03  1.275980e-03  2.271060e-02  2.344095e-02  9.320975e-03  1.637522e-02  2.193729e-02  0.0  2.203970e-02  1.635372e-02  2.249099e-02  1.941253e-02  0.002068  0.00189  0.00072  0.001373  0.001902  0.0  0.001671  0.001181  0.001915  0.001498  2.344095e-02  2.426909e-02  9.668778e-03  1.694333e-02  2.267038e-02  0.0  2.287010e-02  1.699577e-02  2.325208e-02  2.013597e-02  0.001891  0.001729  0.000659  0.001256  0.00174  0.0  0.001529  0.00108  0.001752  0.00137  9.320975e-03  9.668778e-03  3.858593e-03  6.748947e-03  9.021835e-03  0.0  9.128232e-03  6.791253e-03  9.256128e-03  8.035169e-03  0.000723  0.000662  0.000252  0.00048  0.000666  0.0  0.000585  0.000414  0.00067  0.000525  1.637522e-02  1.694333e-02  6.748947e-03  1.183131e-02  1.583337e-02  0.0  1.596239e-02  1.185953e-02  1.623851e-02  1.405514e-02  0.001373  0.001255  0.000479  0.000912  0.001263  0.0  0.00111  0.000784  0.001272  0.000995  2.193729e-02  2.267038e-02  9.021835e-03  1.583337e-02  2.120079e-02  0.0  2.133527e-02  1.584081e-02  2.173953e-02  1.878911e-02  0.001902  0.001739  0.000663  0.001263  0.00175  0.0  0.001538  0.001087  0.001762  0.001378  0.0  0.0  0.0  0.0  0.0  0.0  0.0  0.0  0.0  0.0  0.0  0.0  0.0  0.0  0.0  0.0  0.0  0.0  0.0  0.0  2.203970e-02  2.287010e-02  9.128232e-03  1.596239e-02  2.133527e-02  0.0  2.159746e-02  1.607031e-02  2.188951e-02  1.900928e-02  0.001672  0.001529  0.000583  0.00111  0.001538  0.0  0.001352  0.000956  0.001549  0.001212  1.635372e-02  1.699577e-02  6.791253e-03  1.185953e-02  1.584081e-02  0.0  1.607031e-02  1.196746e-02  1.625589e-02  1.414196e-02  0.001183  0.001082  0.000413  0.000786  0.001089  0.0  0.000957  0.000677  0.001096  0.000858  2.249099e-02  2.325208e-02  9.256128e-03  1.623851e-02  2.173953e-02  0.0  2.188951e-02  1.625589e-02  2.229366e-02  1.927664e-02  0.001921  0.001756  0.000669  0.001275  0.001767  0.0  0.001553  0.001097  0.00178  0.001392  1.941253e-02  2.013597e-02  8.035169e-03  1.405514e-02  1.878911e-02  0.0  1.900928e-02  1.414196e-02  1.927664e-02  1.673276e-02  0.001503  0.001374  0.000524  0.000998  0.001382  0.0  0.001215  0.000859  0.001392  0.001089  10.953447  10.607423  5.004178  7.873684  10.373615  0.000000  9.702704  7.725492  10.626152  9.133304  9.838632  9.535414  4.597475  7.162312  9.325554  0.0  8.727215  6.997375  9.559008  8.257014      1\n",
       "Length: 5137, dtype: int64"
      ]
     },
     "execution_count": 61,
     "metadata": {},
     "output_type": "execute_result"
    }
   ],
   "source": [
    "embdf.value_counts()"
   ]
  },
  {
   "cell_type": "code",
   "execution_count": 62,
   "id": "c52b6cc0",
   "metadata": {
    "ExecuteTime": {
     "end_time": "2023-01-25T00:02:11.039156Z",
     "start_time": "2023-01-25T00:02:10.723408Z"
    }
   },
   "outputs": [],
   "source": [
    "counts = np.array(embdf.value_counts())"
   ]
  },
  {
   "cell_type": "code",
   "execution_count": 63,
   "id": "1408c53a",
   "metadata": {
    "ExecuteTime": {
     "end_time": "2023-01-25T00:02:15.594240Z",
     "start_time": "2023-01-25T00:02:15.589886Z"
    }
   },
   "outputs": [
    {
     "data": {
      "text/plain": [
       "array([185, 105,  71, ...,   1,   1,   1])"
      ]
     },
     "execution_count": 63,
     "metadata": {},
     "output_type": "execute_result"
    }
   ],
   "source": [
    "counts"
   ]
  },
  {
   "cell_type": "code",
   "execution_count": 64,
   "id": "2aef4745",
   "metadata": {
    "ExecuteTime": {
     "end_time": "2023-01-24T21:18:52.953477Z",
     "start_time": "2023-01-24T21:18:52.949167Z"
    }
   },
   "outputs": [
    {
     "data": {
      "text/plain": [
       "5137"
      ]
     },
     "execution_count": 64,
     "metadata": {},
     "output_type": "execute_result"
    }
   ],
   "source": [
    "len(counts)"
   ]
  },
  {
   "cell_type": "code",
   "execution_count": 65,
   "id": "a288b7b2",
   "metadata": {
    "ExecuteTime": {
     "end_time": "2023-01-24T21:17:33.304765Z",
     "start_time": "2023-01-24T21:17:33.245936Z"
    }
   },
   "outputs": [
    {
     "data": {
      "text/plain": [
       "5005"
      ]
     },
     "execution_count": 65,
     "metadata": {},
     "output_type": "execute_result"
    }
   ],
   "source": [
    "list(counts).count(1)"
   ]
  },
  {
   "cell_type": "code",
   "execution_count": 66,
   "id": "050b398b",
   "metadata": {
    "ExecuteTime": {
     "end_time": "2023-01-24T21:23:36.474084Z",
     "start_time": "2023-01-24T21:23:36.276800Z"
    }
   },
   "outputs": [
    {
     "data": {
      "text/plain": [
       "Text(0, 0.5, 'Count')"
      ]
     },
     "execution_count": 66,
     "metadata": {},
     "output_type": "execute_result"
    },
    {
     "data": {
      "image/png": "[encoded data removed]",
      "text/plain": [
       "<Figure size 432x288 with 2 Axes>"
      ]
     },
     "metadata": {
      "needs_background": "light"
     },
     "output_type": "display_data"
    }
   ],
   "source": [
    "\n",
    "\n",
    "f, (ax, ax2) = plt.subplots(2, 1, sharex=True)\n",
    "\n",
    "# plot the same data on both axes\n",
    "ax.hist(counts, bins=15, edgecolor='black')\n",
    "ax2.hist(counts, bins=15, edgecolor='black')\n",
    "\n",
    "# zoom-in / limit the view to different portions of the data\n",
    "ax.set_ylim(100, 6000)  \n",
    "ax2.set_ylim(0, 10)  \n",
    "\n",
    "# hide the spines between ax and ax2\n",
    "ax.spines['bottom'].set_visible(False)\n",
    "ax2.spines['top'].set_visible(False)\n",
    "ax.xaxis.tick_top()\n",
    "ax.tick_params(labeltop=False)  # don't put tick labels at the top\n",
    "ax2.xaxis.tick_bottom()\n",
    "\n",
    "\n",
    "d = .015  \n",
    "\n",
    "kwargs = dict(transform=ax.transAxes, color='k', clip_on=False)\n",
    "ax.plot((-d, +d), (-d, +d), **kwargs)        # top-left diagonal\n",
    "ax.plot((1 - d, 1 + d), (-d, +d), **kwargs)  # top-right diagonal\n",
    "\n",
    "kwargs.update(transform=ax2.transAxes)  # switch to the bottom axes\n",
    "ax2.plot((-d, +d), (1 - d, 1 + d), **kwargs)  # bottom-left diagonal\n",
    "ax2.plot((1 - d, 1 + d), (1 - d, 1 + d), **kwargs)  # bottom-right diagonal\n",
    "\n",
    "\n",
    "#ax.set_title('Distribution of Sizes of Automorphic Groups')\n",
    "plt.xlabel('Size of Automorphic Group (# nodes)')\n",
    "plt.ylabel('Count')\n",
    "#plt.savefig('OTCDist.pdf', bbox_inches='tight')"
   ]
  },
  {
   "cell_type": "markdown",
   "id": "4bf7a3f1",
   "metadata": {},
   "source": [
    "## Hospital"
   ]
  },
  {
   "cell_type": "code",
   "execution_count": 67,
   "id": "9f3f7eb1",
   "metadata": {
    "ExecuteTime": {
     "end_time": "2023-01-24T23:02:47.385021Z",
     "start_time": "2023-01-24T23:02:47.329363Z"
    }
   },
   "outputs": [],
   "source": [
    "hospital = pd.read_csv('hospital.txt', sep='\\t', header=None, names=['time', 'src', 'trg', 'src_lab', 'trg_lab'])"
   ]
  },
  {
   "cell_type": "code",
   "execution_count": 68,
   "id": "17d15cc7",
   "metadata": {
    "ExecuteTime": {
     "end_time": "2023-01-24T23:02:58.592986Z",
     "start_time": "2023-01-24T23:02:58.585603Z"
    }
   },
   "outputs": [
    {
     "data": {
      "text/html": [
       "<div>\n",
       "<style scoped>\n",
       "    .dataframe tbody tr th:only-of-type {\n",
       "        vertical-align: middle;\n",
       "    }\n",
       "\n",
       "    .dataframe tbody tr th {\n",
       "        vertical-align: top;\n",
       "    }\n",
       "\n",
       "    .dataframe thead th {\n",
       "        text-align: right;\n",
       "    }\n",
       "</style>\n",
       "<table border=\"1\" class=\"dataframe\">\n",
       "  <thead>\n",
       "    <tr style=\"text-align: right;\">\n",
       "      <th></th>\n",
       "      <th>time</th>\n",
       "      <th>src</th>\n",
       "      <th>trg</th>\n",
       "      <th>src_lab</th>\n",
       "      <th>trg_lab</th>\n",
       "    </tr>\n",
       "  </thead>\n",
       "  <tbody>\n",
       "    <tr>\n",
       "      <th>0</th>\n",
       "      <td>140</td>\n",
       "      <td>1157</td>\n",
       "      <td>1232</td>\n",
       "      <td>MED</td>\n",
       "      <td>ADM</td>\n",
       "    </tr>\n",
       "    <tr>\n",
       "      <th>1</th>\n",
       "      <td>160</td>\n",
       "      <td>1157</td>\n",
       "      <td>1191</td>\n",
       "      <td>MED</td>\n",
       "      <td>MED</td>\n",
       "    </tr>\n",
       "    <tr>\n",
       "      <th>2</th>\n",
       "      <td>500</td>\n",
       "      <td>1157</td>\n",
       "      <td>1159</td>\n",
       "      <td>MED</td>\n",
       "      <td>MED</td>\n",
       "    </tr>\n",
       "    <tr>\n",
       "      <th>3</th>\n",
       "      <td>520</td>\n",
       "      <td>1157</td>\n",
       "      <td>1159</td>\n",
       "      <td>MED</td>\n",
       "      <td>MED</td>\n",
       "    </tr>\n",
       "    <tr>\n",
       "      <th>4</th>\n",
       "      <td>560</td>\n",
       "      <td>1159</td>\n",
       "      <td>1191</td>\n",
       "      <td>MED</td>\n",
       "      <td>MED</td>\n",
       "    </tr>\n",
       "  </tbody>\n",
       "</table>\n",
       "</div>"
      ],
      "text/plain": [
       "   time   src   trg src_lab trg_lab\n",
       "0   140  1157  1232     MED     ADM\n",
       "1   160  1157  1191     MED     MED\n",
       "2   500  1157  1159     MED     MED\n",
       "3   520  1157  1159     MED     MED\n",
       "4   560  1159  1191     MED     MED"
      ]
     },
     "execution_count": 68,
     "metadata": {},
     "output_type": "execute_result"
    }
   ],
   "source": [
    "hospital.head()"
   ]
  },
  {
   "cell_type": "code",
   "execution_count": 69,
   "id": "7c2bfedb",
   "metadata": {
    "ExecuteTime": {
     "end_time": "2023-01-24T23:25:25.567502Z",
     "start_time": "2023-01-24T23:25:25.541954Z"
    }
   },
   "outputs": [],
   "source": [
    "hosp = pd.DataFrame(hospital['src'])\n",
    "hosp['trg'] = hospital['trg']\n",
    "hosp['time'] = hospital['time']"
   ]
  },
  {
   "cell_type": "code",
   "execution_count": 70,
   "id": "ad5f5cdc",
   "metadata": {
    "ExecuteTime": {
     "end_time": "2023-01-24T23:25:30.583719Z",
     "start_time": "2023-01-24T23:25:30.575796Z"
    },
    "scrolled": true
   },
   "outputs": [
    {
     "data": {
      "text/html": [
       "<div>\n",
       "<style scoped>\n",
       "    .dataframe tbody tr th:only-of-type {\n",
       "        vertical-align: middle;\n",
       "    }\n",
       "\n",
       "    .dataframe tbody tr th {\n",
       "        vertical-align: top;\n",
       "    }\n",
       "\n",
       "    .dataframe thead th {\n",
       "        text-align: right;\n",
       "    }\n",
       "</style>\n",
       "<table border=\"1\" class=\"dataframe\">\n",
       "  <thead>\n",
       "    <tr style=\"text-align: right;\">\n",
       "      <th></th>\n",
       "      <th>src</th>\n",
       "      <th>trg</th>\n",
       "      <th>time</th>\n",
       "    </tr>\n",
       "  </thead>\n",
       "  <tbody>\n",
       "    <tr>\n",
       "      <th>0</th>\n",
       "      <td>1157</td>\n",
       "      <td>1232</td>\n",
       "      <td>140</td>\n",
       "    </tr>\n",
       "    <tr>\n",
       "      <th>1</th>\n",
       "      <td>1157</td>\n",
       "      <td>1191</td>\n",
       "      <td>160</td>\n",
       "    </tr>\n",
       "    <tr>\n",
       "      <th>2</th>\n",
       "      <td>1157</td>\n",
       "      <td>1159</td>\n",
       "      <td>500</td>\n",
       "    </tr>\n",
       "    <tr>\n",
       "      <th>3</th>\n",
       "      <td>1157</td>\n",
       "      <td>1159</td>\n",
       "      <td>520</td>\n",
       "    </tr>\n",
       "    <tr>\n",
       "      <th>4</th>\n",
       "      <td>1159</td>\n",
       "      <td>1191</td>\n",
       "      <td>560</td>\n",
       "    </tr>\n",
       "    <tr>\n",
       "      <th>...</th>\n",
       "      <td>...</td>\n",
       "      <td>...</td>\n",
       "      <td>...</td>\n",
       "    </tr>\n",
       "    <tr>\n",
       "      <th>32419</th>\n",
       "      <td>1295</td>\n",
       "      <td>1629</td>\n",
       "      <td>347600</td>\n",
       "    </tr>\n",
       "    <tr>\n",
       "      <th>32420</th>\n",
       "      <td>1383</td>\n",
       "      <td>1629</td>\n",
       "      <td>347600</td>\n",
       "    </tr>\n",
       "    <tr>\n",
       "      <th>32421</th>\n",
       "      <td>1232</td>\n",
       "      <td>1295</td>\n",
       "      <td>347620</td>\n",
       "    </tr>\n",
       "    <tr>\n",
       "      <th>32422</th>\n",
       "      <td>1383</td>\n",
       "      <td>1629</td>\n",
       "      <td>347620</td>\n",
       "    </tr>\n",
       "    <tr>\n",
       "      <th>32423</th>\n",
       "      <td>1295</td>\n",
       "      <td>1629</td>\n",
       "      <td>347640</td>\n",
       "    </tr>\n",
       "  </tbody>\n",
       "</table>\n",
       "<p>32424 rows × 3 columns</p>\n",
       "</div>"
      ],
      "text/plain": [
       "        src   trg    time\n",
       "0      1157  1232     140\n",
       "1      1157  1191     160\n",
       "2      1157  1159     500\n",
       "3      1157  1159     520\n",
       "4      1159  1191     560\n",
       "...     ...   ...     ...\n",
       "32419  1295  1629  347600\n",
       "32420  1383  1629  347600\n",
       "32421  1232  1295  347620\n",
       "32422  1383  1629  347620\n",
       "32423  1295  1629  347640\n",
       "\n",
       "[32424 rows x 3 columns]"
      ]
     },
     "execution_count": 70,
     "metadata": {},
     "output_type": "execute_result"
    }
   ],
   "source": [
    "hosp"
   ]
  },
  {
   "cell_type": "code",
   "execution_count": 71,
   "id": "f83c588d",
   "metadata": {
    "ExecuteTime": {
     "end_time": "2023-01-24T23:27:36.887602Z",
     "start_time": "2023-01-24T23:27:35.429578Z"
    },
    "scrolled": true
   },
   "outputs": [
    {
     "name": "stdout",
     "output_type": "stream",
     "text": [
      "count 75\n",
      "0\n",
      "count 75\n"
     ]
    }
   ],
   "source": [
    "l=loader()\n",
    "l.read(hosp)\n",
    "emb=temporalSirGNStop(l.G,10,10)"
   ]
  },
  {
   "cell_type": "code",
   "execution_count": 72,
   "id": "683a8565",
   "metadata": {},
   "outputs": [
    {
     "data": {
      "text/plain": [
       "75"
      ]
     },
     "execution_count": 72,
     "metadata": {},
     "output_type": "execute_result"
    }
   ],
   "source": [
    "len(l.G)"
   ]
  },
  {
   "cell_type": "code",
   "execution_count": 73,
   "id": "0f648637",
   "metadata": {
    "ExecuteTime": {
     "end_time": "2023-01-24T23:27:50.296462Z",
     "start_time": "2023-01-24T23:27:50.293104Z"
    }
   },
   "outputs": [],
   "source": [
    "embdf = pd.DataFrame(emb)"
   ]
  },
  {
   "cell_type": "code",
   "execution_count": 74,
   "id": "a356b603",
   "metadata": {
    "ExecuteTime": {
     "end_time": "2023-01-24T23:28:03.323004Z",
     "start_time": "2023-01-24T23:28:03.300774Z"
    }
   },
   "outputs": [],
   "source": [
    "counts = np.array(embdf.value_counts())"
   ]
  },
  {
   "cell_type": "code",
   "execution_count": 75,
   "id": "3a148610",
   "metadata": {
    "ExecuteTime": {
     "end_time": "2023-01-24T23:28:06.976116Z",
     "start_time": "2023-01-24T23:28:06.972365Z"
    },
    "scrolled": false
   },
   "outputs": [
    {
     "data": {
      "text/plain": [
       "array([1, 1, 1, 1, 1, 1, 1, 1, 1, 1, 1, 1, 1, 1, 1, 1, 1, 1, 1, 1, 1, 1,\n",
       "       1, 1, 1, 1, 1, 1, 1, 1, 1, 1, 1, 1, 1, 1, 1, 1, 1, 1, 1, 1, 1, 1,\n",
       "       1, 1, 1, 1, 1, 1, 1, 1, 1, 1, 1, 1, 1, 1, 1, 1, 1, 1, 1, 1, 1, 1,\n",
       "       1, 1, 1, 1, 1, 1, 1, 1, 1])"
      ]
     },
     "execution_count": 75,
     "metadata": {},
     "output_type": "execute_result"
    }
   ],
   "source": [
    "counts"
   ]
  },
  {
   "cell_type": "code",
   "execution_count": 76,
   "id": "dce25c59",
   "metadata": {},
   "outputs": [
    {
     "data": {
      "text/plain": [
       "75"
      ]
     },
     "execution_count": 76,
     "metadata": {},
     "output_type": "execute_result"
    }
   ],
   "source": [
    "list(counts).count(1)"
   ]
  },
  {
   "cell_type": "code",
   "execution_count": 77,
   "id": "78ecaf2e",
   "metadata": {},
   "outputs": [
    {
     "data": {
      "text/plain": [
       "75"
      ]
     },
     "execution_count": 77,
     "metadata": {},
     "output_type": "execute_result"
    }
   ],
   "source": [
    "len(counts)"
   ]
  },
  {
   "cell_type": "markdown",
   "id": "782f46e6",
   "metadata": {},
   "source": [
    "# High School"
   ]
  },
  {
   "cell_type": "code",
   "execution_count": 78,
   "id": "698a0f52",
   "metadata": {
    "ExecuteTime": {
     "end_time": "2023-01-24T23:32:39.759003Z",
     "start_time": "2023-01-24T23:32:39.587413Z"
    }
   },
   "outputs": [],
   "source": [
    "high = pd.read_csv('highschool_2012.csv', sep='\\t', header=None, names=['time', 'src', 'trg', 'src_lab', 'trg_lab'])"
   ]
  },
  {
   "cell_type": "code",
   "execution_count": 79,
   "id": "5dcc0682",
   "metadata": {
    "scrolled": true
   },
   "outputs": [
    {
     "data": {
      "text/html": [
       "<div>\n",
       "<style scoped>\n",
       "    .dataframe tbody tr th:only-of-type {\n",
       "        vertical-align: middle;\n",
       "    }\n",
       "\n",
       "    .dataframe tbody tr th {\n",
       "        vertical-align: top;\n",
       "    }\n",
       "\n",
       "    .dataframe thead th {\n",
       "        text-align: right;\n",
       "    }\n",
       "</style>\n",
       "<table border=\"1\" class=\"dataframe\">\n",
       "  <thead>\n",
       "    <tr style=\"text-align: right;\">\n",
       "      <th></th>\n",
       "      <th>time</th>\n",
       "      <th>src</th>\n",
       "      <th>trg</th>\n",
       "      <th>src_lab</th>\n",
       "      <th>trg_lab</th>\n",
       "    </tr>\n",
       "  </thead>\n",
       "  <tbody>\n",
       "    <tr>\n",
       "      <th>0</th>\n",
       "      <td>1353303380</td>\n",
       "      <td>1170</td>\n",
       "      <td>1644</td>\n",
       "      <td>MP*1</td>\n",
       "      <td>MP*1</td>\n",
       "    </tr>\n",
       "    <tr>\n",
       "      <th>1</th>\n",
       "      <td>1353303400</td>\n",
       "      <td>1170</td>\n",
       "      <td>1613</td>\n",
       "      <td>MP*1</td>\n",
       "      <td>MP*1</td>\n",
       "    </tr>\n",
       "    <tr>\n",
       "      <th>2</th>\n",
       "      <td>1353303640</td>\n",
       "      <td>1170</td>\n",
       "      <td>1644</td>\n",
       "      <td>MP*1</td>\n",
       "      <td>MP*1</td>\n",
       "    </tr>\n",
       "    <tr>\n",
       "      <th>3</th>\n",
       "      <td>1353303760</td>\n",
       "      <td>1181</td>\n",
       "      <td>1651</td>\n",
       "      <td>MP*1</td>\n",
       "      <td>MP*1</td>\n",
       "    </tr>\n",
       "    <tr>\n",
       "      <th>4</th>\n",
       "      <td>1353303840</td>\n",
       "      <td>1108</td>\n",
       "      <td>1190</td>\n",
       "      <td>MP*1</td>\n",
       "      <td>MP*1</td>\n",
       "    </tr>\n",
       "    <tr>\n",
       "      <th>...</th>\n",
       "      <td>...</td>\n",
       "      <td>...</td>\n",
       "      <td>...</td>\n",
       "      <td>...</td>\n",
       "      <td>...</td>\n",
       "    </tr>\n",
       "    <tr>\n",
       "      <th>45042</th>\n",
       "      <td>1354032580</td>\n",
       "      <td>880</td>\n",
       "      <td>887</td>\n",
       "      <td>PC*</td>\n",
       "      <td>PC*</td>\n",
       "    </tr>\n",
       "    <tr>\n",
       "      <th>45043</th>\n",
       "      <td>1354032580</td>\n",
       "      <td>854</td>\n",
       "      <td>869</td>\n",
       "      <td>PSI*</td>\n",
       "      <td>PSI*</td>\n",
       "    </tr>\n",
       "    <tr>\n",
       "      <th>45044</th>\n",
       "      <td>1354032600</td>\n",
       "      <td>880</td>\n",
       "      <td>887</td>\n",
       "      <td>PC*</td>\n",
       "      <td>PC*</td>\n",
       "    </tr>\n",
       "    <tr>\n",
       "      <th>45045</th>\n",
       "      <td>1354032760</td>\n",
       "      <td>620</td>\n",
       "      <td>669</td>\n",
       "      <td>MP*2</td>\n",
       "      <td>MP*2</td>\n",
       "    </tr>\n",
       "    <tr>\n",
       "      <th>45046</th>\n",
       "      <td>1354032880</td>\n",
       "      <td>669</td>\n",
       "      <td>677</td>\n",
       "      <td>MP*2</td>\n",
       "      <td>MP*2</td>\n",
       "    </tr>\n",
       "  </tbody>\n",
       "</table>\n",
       "<p>45047 rows × 5 columns</p>\n",
       "</div>"
      ],
      "text/plain": [
       "             time   src   trg src_lab trg_lab\n",
       "0      1353303380  1170  1644    MP*1    MP*1\n",
       "1      1353303400  1170  1613    MP*1    MP*1\n",
       "2      1353303640  1170  1644    MP*1    MP*1\n",
       "3      1353303760  1181  1651    MP*1    MP*1\n",
       "4      1353303840  1108  1190    MP*1    MP*1\n",
       "...           ...   ...   ...     ...     ...\n",
       "45042  1354032580   880   887     PC*     PC*\n",
       "45043  1354032580   854   869    PSI*    PSI*\n",
       "45044  1354032600   880   887     PC*     PC*\n",
       "45045  1354032760   620   669    MP*2    MP*2\n",
       "45046  1354032880   669   677    MP*2    MP*2\n",
       "\n",
       "[45047 rows x 5 columns]"
      ]
     },
     "execution_count": 79,
     "metadata": {},
     "output_type": "execute_result"
    }
   ],
   "source": [
    "high"
   ]
  },
  {
   "cell_type": "code",
   "execution_count": 80,
   "id": "980282e6",
   "metadata": {
    "ExecuteTime": {
     "end_time": "2023-01-24T23:33:22.367793Z",
     "start_time": "2023-01-24T23:33:22.363311Z"
    }
   },
   "outputs": [],
   "source": [
    "hschool = pd.DataFrame(high['src'])\n",
    "hschool['trg'] = high['trg']\n",
    "hschool['time'] = high['time']"
   ]
  },
  {
   "cell_type": "code",
   "execution_count": 81,
   "id": "b6b5ac87",
   "metadata": {
    "ExecuteTime": {
     "end_time": "2023-01-24T23:33:26.255350Z",
     "start_time": "2023-01-24T23:33:26.247540Z"
    },
    "scrolled": true
   },
   "outputs": [
    {
     "data": {
      "text/html": [
       "<div>\n",
       "<style scoped>\n",
       "    .dataframe tbody tr th:only-of-type {\n",
       "        vertical-align: middle;\n",
       "    }\n",
       "\n",
       "    .dataframe tbody tr th {\n",
       "        vertical-align: top;\n",
       "    }\n",
       "\n",
       "    .dataframe thead th {\n",
       "        text-align: right;\n",
       "    }\n",
       "</style>\n",
       "<table border=\"1\" class=\"dataframe\">\n",
       "  <thead>\n",
       "    <tr style=\"text-align: right;\">\n",
       "      <th></th>\n",
       "      <th>src</th>\n",
       "      <th>trg</th>\n",
       "      <th>time</th>\n",
       "    </tr>\n",
       "  </thead>\n",
       "  <tbody>\n",
       "    <tr>\n",
       "      <th>0</th>\n",
       "      <td>1170</td>\n",
       "      <td>1644</td>\n",
       "      <td>1353303380</td>\n",
       "    </tr>\n",
       "    <tr>\n",
       "      <th>1</th>\n",
       "      <td>1170</td>\n",
       "      <td>1613</td>\n",
       "      <td>1353303400</td>\n",
       "    </tr>\n",
       "    <tr>\n",
       "      <th>2</th>\n",
       "      <td>1170</td>\n",
       "      <td>1644</td>\n",
       "      <td>1353303640</td>\n",
       "    </tr>\n",
       "    <tr>\n",
       "      <th>3</th>\n",
       "      <td>1181</td>\n",
       "      <td>1651</td>\n",
       "      <td>1353303760</td>\n",
       "    </tr>\n",
       "    <tr>\n",
       "      <th>4</th>\n",
       "      <td>1108</td>\n",
       "      <td>1190</td>\n",
       "      <td>1353303840</td>\n",
       "    </tr>\n",
       "    <tr>\n",
       "      <th>...</th>\n",
       "      <td>...</td>\n",
       "      <td>...</td>\n",
       "      <td>...</td>\n",
       "    </tr>\n",
       "    <tr>\n",
       "      <th>45042</th>\n",
       "      <td>880</td>\n",
       "      <td>887</td>\n",
       "      <td>1354032580</td>\n",
       "    </tr>\n",
       "    <tr>\n",
       "      <th>45043</th>\n",
       "      <td>854</td>\n",
       "      <td>869</td>\n",
       "      <td>1354032580</td>\n",
       "    </tr>\n",
       "    <tr>\n",
       "      <th>45044</th>\n",
       "      <td>880</td>\n",
       "      <td>887</td>\n",
       "      <td>1354032600</td>\n",
       "    </tr>\n",
       "    <tr>\n",
       "      <th>45045</th>\n",
       "      <td>620</td>\n",
       "      <td>669</td>\n",
       "      <td>1354032760</td>\n",
       "    </tr>\n",
       "    <tr>\n",
       "      <th>45046</th>\n",
       "      <td>669</td>\n",
       "      <td>677</td>\n",
       "      <td>1354032880</td>\n",
       "    </tr>\n",
       "  </tbody>\n",
       "</table>\n",
       "<p>45047 rows × 3 columns</p>\n",
       "</div>"
      ],
      "text/plain": [
       "        src   trg        time\n",
       "0      1170  1644  1353303380\n",
       "1      1170  1613  1353303400\n",
       "2      1170  1644  1353303640\n",
       "3      1181  1651  1353303760\n",
       "4      1108  1190  1353303840\n",
       "...     ...   ...         ...\n",
       "45042   880   887  1354032580\n",
       "45043   854   869  1354032580\n",
       "45044   880   887  1354032600\n",
       "45045   620   669  1354032760\n",
       "45046   669   677  1354032880\n",
       "\n",
       "[45047 rows x 3 columns]"
      ]
     },
     "execution_count": 81,
     "metadata": {},
     "output_type": "execute_result"
    }
   ],
   "source": [
    "hschool"
   ]
  },
  {
   "cell_type": "code",
   "execution_count": 82,
   "id": "45c3e226",
   "metadata": {
    "ExecuteTime": {
     "end_time": "2023-01-24T23:33:59.118367Z",
     "start_time": "2023-01-24T23:33:50.587829Z"
    },
    "scrolled": true
   },
   "outputs": [],
   "source": [
    "l=loader()\n",
    "l.read(hschool)"
   ]
  },
  {
   "cell_type": "code",
   "execution_count": 83,
   "id": "af5b6c4b",
   "metadata": {
    "scrolled": true
   },
   "outputs": [
    {
     "name": "stdout",
     "output_type": "stream",
     "text": [
      "count 180\n",
      "0\n",
      "count 180\n"
     ]
    }
   ],
   "source": [
    "emb = temporalSirGNStop(l.G,10,10)"
   ]
  },
  {
   "cell_type": "code",
   "execution_count": 84,
   "id": "8ce7dd0e",
   "metadata": {
    "ExecuteTime": {
     "end_time": "2023-01-24T23:34:00.447385Z",
     "start_time": "2023-01-24T23:34:00.444361Z"
    }
   },
   "outputs": [],
   "source": [
    "embdf = pd.DataFrame(emb)"
   ]
  },
  {
   "cell_type": "code",
   "execution_count": 85,
   "id": "33ab3612",
   "metadata": {
    "ExecuteTime": {
     "end_time": "2023-01-24T23:34:09.870642Z",
     "start_time": "2023-01-24T23:34:09.697179Z"
    }
   },
   "outputs": [],
   "source": [
    "counts = np.array(embdf.value_counts())"
   ]
  },
  {
   "cell_type": "code",
   "execution_count": 86,
   "id": "dee0d90f",
   "metadata": {},
   "outputs": [
    {
     "data": {
      "text/plain": [
       "array([1, 1, 1, 1, 1, 1, 1, 1, 1, 1, 1, 1, 1, 1, 1, 1, 1, 1, 1, 1, 1, 1,\n",
       "       1, 1, 1, 1, 1, 1, 1, 1, 1, 1, 1, 1, 1, 1, 1, 1, 1, 1, 1, 1, 1, 1,\n",
       "       1, 1, 1, 1, 1, 1, 1, 1, 1, 1, 1, 1, 1, 1, 1, 1, 1, 1, 1, 1, 1, 1,\n",
       "       1, 1, 1, 1, 1, 1, 1, 1, 1, 1, 1, 1, 1, 1, 1, 1, 1, 1, 1, 1, 1, 1,\n",
       "       1, 1, 1, 1, 1, 1, 1, 1, 1, 1, 1, 1, 1, 1, 1, 1, 1, 1, 1, 1, 1, 1,\n",
       "       1, 1, 1, 1, 1, 1, 1, 1, 1, 1, 1, 1, 1, 1, 1, 1, 1, 1, 1, 1, 1, 1,\n",
       "       1, 1, 1, 1, 1, 1, 1, 1, 1, 1, 1, 1, 1, 1, 1, 1, 1, 1, 1, 1, 1, 1,\n",
       "       1, 1, 1, 1, 1, 1, 1, 1, 1, 1, 1, 1, 1, 1, 1, 1, 1, 1, 1, 1, 1, 1,\n",
       "       1, 1, 1, 1])"
      ]
     },
     "execution_count": 86,
     "metadata": {},
     "output_type": "execute_result"
    }
   ],
   "source": [
    "counts"
   ]
  },
  {
   "cell_type": "code",
   "execution_count": 87,
   "id": "f9aeef3d",
   "metadata": {
    "ExecuteTime": {
     "end_time": "2023-01-24T23:34:31.023795Z",
     "start_time": "2023-01-24T23:34:31.020178Z"
    }
   },
   "outputs": [
    {
     "data": {
      "text/plain": [
       "180"
      ]
     },
     "execution_count": 87,
     "metadata": {},
     "output_type": "execute_result"
    }
   ],
   "source": [
    "len(counts)"
   ]
  },
  {
   "cell_type": "code",
   "execution_count": 88,
   "id": "5b628c13",
   "metadata": {
    "ExecuteTime": {
     "end_time": "2023-01-24T23:40:45.202634Z",
     "start_time": "2023-01-24T23:40:45.198195Z"
    }
   },
   "outputs": [
    {
     "data": {
      "text/plain": [
       "180"
      ]
     },
     "execution_count": 88,
     "metadata": {},
     "output_type": "execute_result"
    }
   ],
   "source": [
    "list(counts).count(1)"
   ]
  }
 ],
 "metadata": {
  "kernelspec": {
   "display_name": "Python 3 (ipykernel)",
   "language": "python",
   "name": "python3"
  },
  "language_info": {
   "codemirror_mode": {
    "name": "ipython",
    "version": 3
   },
   "file_extension": ".py",
   "mimetype": "text/x-python",
   "name": "python",
   "nbconvert_exporter": "python",
   "pygments_lexer": "ipython3",
   "version": "3.8.12"
  }
 },
 "nbformat": 4,
 "nbformat_minor": 5
}
