{
 "cells": [
  {
   "cell_type": "markdown",
   "id": "af1e2380",
   "metadata": {},
   "source": [
    "# GDELT Automorphisms via TSIR-GN"
   ]
  },
  {
   "cell_type": "code",
   "execution_count": 1,
   "id": "62011f2f",
   "metadata": {},
   "outputs": [],
   "source": [
    "import pandas as pd \n",
    "import numpy as np\n",
    "class loader:\n",
    "    \n",
    "    def __init__(self):\n",
    "        self.countID=0\n",
    "        self.G={}\n",
    "        self.co={}\n",
    "        self.revco={}\n",
    "    \n",
    "    def nodeID(self,x):\n",
    "        if x not in self.co:\n",
    "            self.co[x]=self.countID\n",
    "            self.countID=self.countID+1\n",
    "            self.revco[self.co[x]]=x\n",
    "        return self.co[x]\n",
    "    \n",
    "    def read(self,file, mint,maxt):\n",
    "        #x=pd.read_csv(file,sep=' ',header=None).values\n",
    "        x=file.values\n",
    "        for a in range(x.shape[0]):\n",
    "            if float(x[a,2]) >mint and float(x[a,2])<=maxt:\n",
    "                i=self.nodeID(x[a,0])\n",
    "                j=self.nodeID(x[a,1])\n",
    "                self.addEdge((i,j,float(x[a,2])))\n",
    "        self.fixG()\n",
    "        \n",
    "    def storeEmb(self,file,data):\n",
    "        file1 = open(file, 'w') \n",
    "        for a in range(data.shape[0]):\n",
    "            s=''+str(int(self.revco[a]))\n",
    "            for b in range(data.shape[1]):\n",
    "                s+=' '+str(data[a,b])\n",
    "            file1.write(s+\"\\n\")\n",
    "        file1.close()\n",
    "            \n",
    "    \n",
    "    def fixG(self):\n",
    "        for g in range(len(self.G)):\n",
    "            orderSet=[t for t in self.G[g]]\n",
    "            orderSet.sort(reverse=True)\n",
    "            self.G[g]=[(t,np.array([x for x in self.G[g][t]['in']]),np.array([y for y in self.G[g][t]['out']])) for t in orderSet]\n",
    "\n",
    "            \n",
    "    def addEdge(self,s):\n",
    "        (l1,l2,t)=s\n",
    "        if l1 not in self.G:\n",
    "            self.G[l1]={}\n",
    "        if l2 not in self.G:\n",
    "            self.G[l2]={}\n",
    "        if t not in self.G[l1]:\n",
    "            self.G[l1][t]={}\n",
    "            self.G[l1][t]['out']=set()\n",
    "            self.G[l1][t]['in']=set()\n",
    "        if t not in self.G[l2]:\n",
    "            self.G[l2][t]={}\n",
    "            self.G[l2][t]['out']=set()\n",
    "            self.G[l2][t]['in']=set()\n",
    "        self.G[l1][t]['out'].add(l2)\n",
    "        self.G[l2][t]['in'].add(l1)"
   ]
  },
  {
   "cell_type": "code",
   "execution_count": 2,
   "id": "73535647",
   "metadata": {},
   "outputs": [],
   "source": [
    "from sklearn.cluster import KMeans\n",
    "from sklearn.preprocessing import MinMaxScaler,StandardScaler\n",
    "from sklearn.metrics import silhouette_score,calinski_harabasz_score,davies_bouldin_score\n",
    "from sklearn.decomposition import PCA,IncrementalPCA,TruncatedSVD\n",
    "\n",
    "\n",
    "\n",
    "def dirtemporalAggregation1(embd,G,v,alpha):\n",
    "    k=embd.shape[1]\n",
    "    h=np.zeros((k*2,k*2))\n",
    "    h1=np.zeros((1,k*2))\n",
    "    w=[]\n",
    "    for i in range(len(G[v])):\n",
    "        #in is first in tuple, out is second\n",
    "        (ti,lii, lio)=G[v][i]\n",
    "        wiin=np.zeros((k,))\n",
    "        wiout=np.zeros((k,))\n",
    "        for f in lii:\n",
    "            wiin+=embd[f,:] #sum of all the neighbors at this timestamp\n",
    "        for g in lio:\n",
    "            wiout+=embd[g,:] #sum of all the neighbors at this timestamp\n",
    "        wiboth=np.hstack([wiin, wiout])\n",
    "        h1+=wiboth #sum of all the neighbors for all timestamps\n",
    "        w.append(wiboth.reshape((k*2,1)))\n",
    "    z=np.zeros((1,k*2))\n",
    "    for i in range(1,len(G[v])):\n",
    "        (tni,lii, lio)=G[v][i]\n",
    "        (tnim1,lim1i, lim1o)=G[v][i-1]\n",
    "        z=np.exp((tni-tnim1)/alpha)*(w[i-1].transpose()+z)\n",
    "        a=w[i]*z\n",
    "        h+=a\n",
    "    g=h.flatten()\n",
    "    return np.hstack([g.reshape((1,g.shape[0])),h1])\n",
    "\n",
    "def temporalAggregation2(embd,G,v,alpha):\n",
    "    k=embd.shape[1]\n",
    "    h=np.zeros((1,k))\n",
    "    for i in range(len(G[v])):\n",
    "        (ti,li)=G[v][i]\n",
    "        for f in li:\n",
    "            h+=embd[f,:]\n",
    "    return h\n",
    "    \n",
    "def dirtemporalAggregation(embd,G,alpha):\n",
    "    m=[]\n",
    "    nv=len(G)\n",
    "    for v in range(nv):\n",
    "        m.append(dirtemporalAggregation1(embd,G,v,alpha))\n",
    "    return np.vstack(m)\n",
    "\n",
    "def getnumber(emb):\n",
    "    ss=set()\n",
    "    for x in range(emb.shape[0]):\n",
    "        sd=''\n",
    "        for y in range(emb.shape[1]):\n",
    "            sd+=','+str(emb[x,y])\n",
    "        ss.add(sd)\n",
    "    return len(ss)\n",
    "\n",
    "def dirtemporalSirGN(G,n,alpha,iter=10):\n",
    "    nv=len(G) \n",
    "    embd=np.array([[1/n for i in range(n)] for x in range(nv)])\n",
    "    emb=dirtemporalAggregation(embd,G,alpha)\n",
    "    for i in range(iter):\n",
    "        print(i)\n",
    "        scaler = MinMaxScaler()\n",
    "        emb1=scaler.fit_transform(emb)\n",
    "        kmeans = KMeans(n_clusters=n, random_state=1).fit(emb1)\n",
    "        val=kmeans.transform(emb1)\n",
    "        M=val.max(axis=1)\n",
    "        m=val.min(axis=1)\n",
    "        subx=(M.reshape(nv,1)-val)/(M-m).reshape(nv,1)\n",
    "        su=subx.sum(axis=1)\n",
    "        subx=subx/su.reshape(nv,1)\n",
    "        emb=dirtemporalAggregation(subx,G,alpha)\n",
    "    return emb\n",
    "\n",
    "def dirtemporalSirGNStop(G,n,alpha,iter=100):\n",
    "    nv=len(G) \n",
    "    embd=np.array([[1/n for i in range(n)] for x in range(nv)])\n",
    "    emb=dirtemporalAggregation(embd,G,alpha)\n",
    "    count=getnumber(emb)\n",
    "    print('count',count)\n",
    "    for i in range(iter):\n",
    "        print(i)\n",
    "        scaler = MinMaxScaler()\n",
    "        emb1=scaler.fit_transform(emb)\n",
    "        kmeans = KMeans(n_clusters=n, random_state=1).fit(emb1)\n",
    "        val=kmeans.transform(emb1)\n",
    "        M=val.max(axis=1)\n",
    "        m=val.min(axis=1)\n",
    "        subx=(M.reshape(nv,1)-val)/(M-m).reshape(nv,1)\n",
    "        su=subx.sum(axis=1)\n",
    "        subx=subx/su.reshape(nv,1)\n",
    "        emb2=dirtemporalAggregation(subx,G,alpha)\n",
    "        count1=getnumber(emb2)\n",
    "        print('count',count1)\n",
    "        if count>=count1:\n",
    "            break\n",
    "        else:\n",
    "            emb=emb2\n",
    "            count=count1\n",
    "    return emb\n"
   ]
  },
  {
   "cell_type": "code",
   "execution_count": 3,
   "id": "8cbe4ff2",
   "metadata": {},
   "outputs": [],
   "source": [
    "def load_graph(file):\n",
    "    data = file.values\n",
    "    G = nx.Graph()\n",
    "    \n",
    "    for i in range(len(data)):\n",
    "        if float(data[a,2]) >mint and float(data[a,2])<=maxt:\n",
    "            G.add_edge(data[i,0], data[i,1])\n",
    "    return G"
   ]
  },
  {
   "cell_type": "code",
   "execution_count": 4,
   "id": "860e829c",
   "metadata": {},
   "outputs": [
    {
     "ename": "FileNotFoundError",
     "evalue": "[Errno 2] No such file or directory: 'edges.csv'",
     "output_type": "error",
     "traceback": [
      "\u001b[0;31m---------------------------------------------------------------------------\u001b[0m",
      "\u001b[0;31mFileNotFoundError\u001b[0m                         Traceback (most recent call last)",
      "Input \u001b[0;32mIn [4]\u001b[0m, in \u001b[0;36m<cell line: 1>\u001b[0;34m()\u001b[0m\n\u001b[0;32m----> 1\u001b[0m gdelt \u001b[38;5;241m=\u001b[39m \u001b[43mpd\u001b[49m\u001b[38;5;241;43m.\u001b[39;49m\u001b[43mread_csv\u001b[49m\u001b[43m(\u001b[49m\u001b[38;5;124;43m'\u001b[39;49m\u001b[38;5;124;43medges.csv\u001b[39;49m\u001b[38;5;124;43m'\u001b[39;49m\u001b[43m)\u001b[49m\n",
      "File \u001b[0;32m~/opt/anaconda3/lib/python3.8/site-packages/pandas/util/_decorators.py:311\u001b[0m, in \u001b[0;36mdeprecate_nonkeyword_arguments.<locals>.decorate.<locals>.wrapper\u001b[0;34m(*args, **kwargs)\u001b[0m\n\u001b[1;32m    305\u001b[0m \u001b[38;5;28;01mif\u001b[39;00m \u001b[38;5;28mlen\u001b[39m(args) \u001b[38;5;241m>\u001b[39m num_allow_args:\n\u001b[1;32m    306\u001b[0m     warnings\u001b[38;5;241m.\u001b[39mwarn(\n\u001b[1;32m    307\u001b[0m         msg\u001b[38;5;241m.\u001b[39mformat(arguments\u001b[38;5;241m=\u001b[39marguments),\n\u001b[1;32m    308\u001b[0m         \u001b[38;5;167;01mFutureWarning\u001b[39;00m,\n\u001b[1;32m    309\u001b[0m         stacklevel\u001b[38;5;241m=\u001b[39mstacklevel,\n\u001b[1;32m    310\u001b[0m     )\n\u001b[0;32m--> 311\u001b[0m \u001b[38;5;28;01mreturn\u001b[39;00m \u001b[43mfunc\u001b[49m\u001b[43m(\u001b[49m\u001b[38;5;241;43m*\u001b[39;49m\u001b[43margs\u001b[49m\u001b[43m,\u001b[49m\u001b[43m \u001b[49m\u001b[38;5;241;43m*\u001b[39;49m\u001b[38;5;241;43m*\u001b[39;49m\u001b[43mkwargs\u001b[49m\u001b[43m)\u001b[49m\n",
      "File \u001b[0;32m~/opt/anaconda3/lib/python3.8/site-packages/pandas/io/parsers/readers.py:680\u001b[0m, in \u001b[0;36mread_csv\u001b[0;34m(filepath_or_buffer, sep, delimiter, header, names, index_col, usecols, squeeze, prefix, mangle_dupe_cols, dtype, engine, converters, true_values, false_values, skipinitialspace, skiprows, skipfooter, nrows, na_values, keep_default_na, na_filter, verbose, skip_blank_lines, parse_dates, infer_datetime_format, keep_date_col, date_parser, dayfirst, cache_dates, iterator, chunksize, compression, thousands, decimal, lineterminator, quotechar, quoting, doublequote, escapechar, comment, encoding, encoding_errors, dialect, error_bad_lines, warn_bad_lines, on_bad_lines, delim_whitespace, low_memory, memory_map, float_precision, storage_options)\u001b[0m\n\u001b[1;32m    665\u001b[0m kwds_defaults \u001b[38;5;241m=\u001b[39m _refine_defaults_read(\n\u001b[1;32m    666\u001b[0m     dialect,\n\u001b[1;32m    667\u001b[0m     delimiter,\n\u001b[0;32m   (...)\u001b[0m\n\u001b[1;32m    676\u001b[0m     defaults\u001b[38;5;241m=\u001b[39m{\u001b[38;5;124m\"\u001b[39m\u001b[38;5;124mdelimiter\u001b[39m\u001b[38;5;124m\"\u001b[39m: \u001b[38;5;124m\"\u001b[39m\u001b[38;5;124m,\u001b[39m\u001b[38;5;124m\"\u001b[39m},\n\u001b[1;32m    677\u001b[0m )\n\u001b[1;32m    678\u001b[0m kwds\u001b[38;5;241m.\u001b[39mupdate(kwds_defaults)\n\u001b[0;32m--> 680\u001b[0m \u001b[38;5;28;01mreturn\u001b[39;00m \u001b[43m_read\u001b[49m\u001b[43m(\u001b[49m\u001b[43mfilepath_or_buffer\u001b[49m\u001b[43m,\u001b[49m\u001b[43m \u001b[49m\u001b[43mkwds\u001b[49m\u001b[43m)\u001b[49m\n",
      "File \u001b[0;32m~/opt/anaconda3/lib/python3.8/site-packages/pandas/io/parsers/readers.py:575\u001b[0m, in \u001b[0;36m_read\u001b[0;34m(filepath_or_buffer, kwds)\u001b[0m\n\u001b[1;32m    572\u001b[0m _validate_names(kwds\u001b[38;5;241m.\u001b[39mget(\u001b[38;5;124m\"\u001b[39m\u001b[38;5;124mnames\u001b[39m\u001b[38;5;124m\"\u001b[39m, \u001b[38;5;28;01mNone\u001b[39;00m))\n\u001b[1;32m    574\u001b[0m \u001b[38;5;66;03m# Create the parser.\u001b[39;00m\n\u001b[0;32m--> 575\u001b[0m parser \u001b[38;5;241m=\u001b[39m \u001b[43mTextFileReader\u001b[49m\u001b[43m(\u001b[49m\u001b[43mfilepath_or_buffer\u001b[49m\u001b[43m,\u001b[49m\u001b[43m \u001b[49m\u001b[38;5;241;43m*\u001b[39;49m\u001b[38;5;241;43m*\u001b[39;49m\u001b[43mkwds\u001b[49m\u001b[43m)\u001b[49m\n\u001b[1;32m    577\u001b[0m \u001b[38;5;28;01mif\u001b[39;00m chunksize \u001b[38;5;129;01mor\u001b[39;00m iterator:\n\u001b[1;32m    578\u001b[0m     \u001b[38;5;28;01mreturn\u001b[39;00m parser\n",
      "File \u001b[0;32m~/opt/anaconda3/lib/python3.8/site-packages/pandas/io/parsers/readers.py:933\u001b[0m, in \u001b[0;36mTextFileReader.__init__\u001b[0;34m(self, f, engine, **kwds)\u001b[0m\n\u001b[1;32m    930\u001b[0m     \u001b[38;5;28mself\u001b[39m\u001b[38;5;241m.\u001b[39moptions[\u001b[38;5;124m\"\u001b[39m\u001b[38;5;124mhas_index_names\u001b[39m\u001b[38;5;124m\"\u001b[39m] \u001b[38;5;241m=\u001b[39m kwds[\u001b[38;5;124m\"\u001b[39m\u001b[38;5;124mhas_index_names\u001b[39m\u001b[38;5;124m\"\u001b[39m]\n\u001b[1;32m    932\u001b[0m \u001b[38;5;28mself\u001b[39m\u001b[38;5;241m.\u001b[39mhandles: IOHandles \u001b[38;5;241m|\u001b[39m \u001b[38;5;28;01mNone\u001b[39;00m \u001b[38;5;241m=\u001b[39m \u001b[38;5;28;01mNone\u001b[39;00m\n\u001b[0;32m--> 933\u001b[0m \u001b[38;5;28mself\u001b[39m\u001b[38;5;241m.\u001b[39m_engine \u001b[38;5;241m=\u001b[39m \u001b[38;5;28;43mself\u001b[39;49m\u001b[38;5;241;43m.\u001b[39;49m\u001b[43m_make_engine\u001b[49m\u001b[43m(\u001b[49m\u001b[43mf\u001b[49m\u001b[43m,\u001b[49m\u001b[43m \u001b[49m\u001b[38;5;28;43mself\u001b[39;49m\u001b[38;5;241;43m.\u001b[39;49m\u001b[43mengine\u001b[49m\u001b[43m)\u001b[49m\n",
      "File \u001b[0;32m~/opt/anaconda3/lib/python3.8/site-packages/pandas/io/parsers/readers.py:1217\u001b[0m, in \u001b[0;36mTextFileReader._make_engine\u001b[0;34m(self, f, engine)\u001b[0m\n\u001b[1;32m   1213\u001b[0m     mode \u001b[38;5;241m=\u001b[39m \u001b[38;5;124m\"\u001b[39m\u001b[38;5;124mrb\u001b[39m\u001b[38;5;124m\"\u001b[39m\n\u001b[1;32m   1214\u001b[0m \u001b[38;5;66;03m# error: No overload variant of \"get_handle\" matches argument types\u001b[39;00m\n\u001b[1;32m   1215\u001b[0m \u001b[38;5;66;03m# \"Union[str, PathLike[str], ReadCsvBuffer[bytes], ReadCsvBuffer[str]]\"\u001b[39;00m\n\u001b[1;32m   1216\u001b[0m \u001b[38;5;66;03m# , \"str\", \"bool\", \"Any\", \"Any\", \"Any\", \"Any\", \"Any\"\u001b[39;00m\n\u001b[0;32m-> 1217\u001b[0m \u001b[38;5;28mself\u001b[39m\u001b[38;5;241m.\u001b[39mhandles \u001b[38;5;241m=\u001b[39m \u001b[43mget_handle\u001b[49m\u001b[43m(\u001b[49m\u001b[43m  \u001b[49m\u001b[38;5;66;43;03m# type: ignore[call-overload]\u001b[39;49;00m\n\u001b[1;32m   1218\u001b[0m \u001b[43m    \u001b[49m\u001b[43mf\u001b[49m\u001b[43m,\u001b[49m\n\u001b[1;32m   1219\u001b[0m \u001b[43m    \u001b[49m\u001b[43mmode\u001b[49m\u001b[43m,\u001b[49m\n\u001b[1;32m   1220\u001b[0m \u001b[43m    \u001b[49m\u001b[43mencoding\u001b[49m\u001b[38;5;241;43m=\u001b[39;49m\u001b[38;5;28;43mself\u001b[39;49m\u001b[38;5;241;43m.\u001b[39;49m\u001b[43moptions\u001b[49m\u001b[38;5;241;43m.\u001b[39;49m\u001b[43mget\u001b[49m\u001b[43m(\u001b[49m\u001b[38;5;124;43m\"\u001b[39;49m\u001b[38;5;124;43mencoding\u001b[39;49m\u001b[38;5;124;43m\"\u001b[39;49m\u001b[43m,\u001b[49m\u001b[43m \u001b[49m\u001b[38;5;28;43;01mNone\u001b[39;49;00m\u001b[43m)\u001b[49m\u001b[43m,\u001b[49m\n\u001b[1;32m   1221\u001b[0m \u001b[43m    \u001b[49m\u001b[43mcompression\u001b[49m\u001b[38;5;241;43m=\u001b[39;49m\u001b[38;5;28;43mself\u001b[39;49m\u001b[38;5;241;43m.\u001b[39;49m\u001b[43moptions\u001b[49m\u001b[38;5;241;43m.\u001b[39;49m\u001b[43mget\u001b[49m\u001b[43m(\u001b[49m\u001b[38;5;124;43m\"\u001b[39;49m\u001b[38;5;124;43mcompression\u001b[39;49m\u001b[38;5;124;43m\"\u001b[39;49m\u001b[43m,\u001b[49m\u001b[43m \u001b[49m\u001b[38;5;28;43;01mNone\u001b[39;49;00m\u001b[43m)\u001b[49m\u001b[43m,\u001b[49m\n\u001b[1;32m   1222\u001b[0m \u001b[43m    \u001b[49m\u001b[43mmemory_map\u001b[49m\u001b[38;5;241;43m=\u001b[39;49m\u001b[38;5;28;43mself\u001b[39;49m\u001b[38;5;241;43m.\u001b[39;49m\u001b[43moptions\u001b[49m\u001b[38;5;241;43m.\u001b[39;49m\u001b[43mget\u001b[49m\u001b[43m(\u001b[49m\u001b[38;5;124;43m\"\u001b[39;49m\u001b[38;5;124;43mmemory_map\u001b[39;49m\u001b[38;5;124;43m\"\u001b[39;49m\u001b[43m,\u001b[49m\u001b[43m \u001b[49m\u001b[38;5;28;43;01mFalse\u001b[39;49;00m\u001b[43m)\u001b[49m\u001b[43m,\u001b[49m\n\u001b[1;32m   1223\u001b[0m \u001b[43m    \u001b[49m\u001b[43mis_text\u001b[49m\u001b[38;5;241;43m=\u001b[39;49m\u001b[43mis_text\u001b[49m\u001b[43m,\u001b[49m\n\u001b[1;32m   1224\u001b[0m \u001b[43m    \u001b[49m\u001b[43merrors\u001b[49m\u001b[38;5;241;43m=\u001b[39;49m\u001b[38;5;28;43mself\u001b[39;49m\u001b[38;5;241;43m.\u001b[39;49m\u001b[43moptions\u001b[49m\u001b[38;5;241;43m.\u001b[39;49m\u001b[43mget\u001b[49m\u001b[43m(\u001b[49m\u001b[38;5;124;43m\"\u001b[39;49m\u001b[38;5;124;43mencoding_errors\u001b[39;49m\u001b[38;5;124;43m\"\u001b[39;49m\u001b[43m,\u001b[49m\u001b[43m \u001b[49m\u001b[38;5;124;43m\"\u001b[39;49m\u001b[38;5;124;43mstrict\u001b[39;49m\u001b[38;5;124;43m\"\u001b[39;49m\u001b[43m)\u001b[49m\u001b[43m,\u001b[49m\n\u001b[1;32m   1225\u001b[0m \u001b[43m    \u001b[49m\u001b[43mstorage_options\u001b[49m\u001b[38;5;241;43m=\u001b[39;49m\u001b[38;5;28;43mself\u001b[39;49m\u001b[38;5;241;43m.\u001b[39;49m\u001b[43moptions\u001b[49m\u001b[38;5;241;43m.\u001b[39;49m\u001b[43mget\u001b[49m\u001b[43m(\u001b[49m\u001b[38;5;124;43m\"\u001b[39;49m\u001b[38;5;124;43mstorage_options\u001b[39;49m\u001b[38;5;124;43m\"\u001b[39;49m\u001b[43m,\u001b[49m\u001b[43m \u001b[49m\u001b[38;5;28;43;01mNone\u001b[39;49;00m\u001b[43m)\u001b[49m\u001b[43m,\u001b[49m\n\u001b[1;32m   1226\u001b[0m \u001b[43m\u001b[49m\u001b[43m)\u001b[49m\n\u001b[1;32m   1227\u001b[0m \u001b[38;5;28;01massert\u001b[39;00m \u001b[38;5;28mself\u001b[39m\u001b[38;5;241m.\u001b[39mhandles \u001b[38;5;129;01mis\u001b[39;00m \u001b[38;5;129;01mnot\u001b[39;00m \u001b[38;5;28;01mNone\u001b[39;00m\n\u001b[1;32m   1228\u001b[0m f \u001b[38;5;241m=\u001b[39m \u001b[38;5;28mself\u001b[39m\u001b[38;5;241m.\u001b[39mhandles\u001b[38;5;241m.\u001b[39mhandle\n",
      "File \u001b[0;32m~/opt/anaconda3/lib/python3.8/site-packages/pandas/io/common.py:789\u001b[0m, in \u001b[0;36mget_handle\u001b[0;34m(path_or_buf, mode, encoding, compression, memory_map, is_text, errors, storage_options)\u001b[0m\n\u001b[1;32m    784\u001b[0m \u001b[38;5;28;01melif\u001b[39;00m \u001b[38;5;28misinstance\u001b[39m(handle, \u001b[38;5;28mstr\u001b[39m):\n\u001b[1;32m    785\u001b[0m     \u001b[38;5;66;03m# Check whether the filename is to be opened in binary mode.\u001b[39;00m\n\u001b[1;32m    786\u001b[0m     \u001b[38;5;66;03m# Binary mode does not support 'encoding' and 'newline'.\u001b[39;00m\n\u001b[1;32m    787\u001b[0m     \u001b[38;5;28;01mif\u001b[39;00m ioargs\u001b[38;5;241m.\u001b[39mencoding \u001b[38;5;129;01mand\u001b[39;00m \u001b[38;5;124m\"\u001b[39m\u001b[38;5;124mb\u001b[39m\u001b[38;5;124m\"\u001b[39m \u001b[38;5;129;01mnot\u001b[39;00m \u001b[38;5;129;01min\u001b[39;00m ioargs\u001b[38;5;241m.\u001b[39mmode:\n\u001b[1;32m    788\u001b[0m         \u001b[38;5;66;03m# Encoding\u001b[39;00m\n\u001b[0;32m--> 789\u001b[0m         handle \u001b[38;5;241m=\u001b[39m \u001b[38;5;28;43mopen\u001b[39;49m\u001b[43m(\u001b[49m\n\u001b[1;32m    790\u001b[0m \u001b[43m            \u001b[49m\u001b[43mhandle\u001b[49m\u001b[43m,\u001b[49m\n\u001b[1;32m    791\u001b[0m \u001b[43m            \u001b[49m\u001b[43mioargs\u001b[49m\u001b[38;5;241;43m.\u001b[39;49m\u001b[43mmode\u001b[49m\u001b[43m,\u001b[49m\n\u001b[1;32m    792\u001b[0m \u001b[43m            \u001b[49m\u001b[43mencoding\u001b[49m\u001b[38;5;241;43m=\u001b[39;49m\u001b[43mioargs\u001b[49m\u001b[38;5;241;43m.\u001b[39;49m\u001b[43mencoding\u001b[49m\u001b[43m,\u001b[49m\n\u001b[1;32m    793\u001b[0m \u001b[43m            \u001b[49m\u001b[43merrors\u001b[49m\u001b[38;5;241;43m=\u001b[39;49m\u001b[43merrors\u001b[49m\u001b[43m,\u001b[49m\n\u001b[1;32m    794\u001b[0m \u001b[43m            \u001b[49m\u001b[43mnewline\u001b[49m\u001b[38;5;241;43m=\u001b[39;49m\u001b[38;5;124;43m\"\u001b[39;49m\u001b[38;5;124;43m\"\u001b[39;49m\u001b[43m,\u001b[49m\n\u001b[1;32m    795\u001b[0m \u001b[43m        \u001b[49m\u001b[43m)\u001b[49m\n\u001b[1;32m    796\u001b[0m     \u001b[38;5;28;01melse\u001b[39;00m:\n\u001b[1;32m    797\u001b[0m         \u001b[38;5;66;03m# Binary mode\u001b[39;00m\n\u001b[1;32m    798\u001b[0m         handle \u001b[38;5;241m=\u001b[39m \u001b[38;5;28mopen\u001b[39m(handle, ioargs\u001b[38;5;241m.\u001b[39mmode)\n",
      "\u001b[0;31mFileNotFoundError\u001b[0m: [Errno 2] No such file or directory: 'edges.csv'"
     ]
    }
   ],
   "source": [
    "gdelt = pd.read_csv('../Data/edges.csv')"
   ]
  },
  {
   "cell_type": "code",
   "execution_count": 6,
   "id": "0aea3d03",
   "metadata": {},
   "outputs": [],
   "source": [
    "gdelt.drop(columns=['Unnamed: 0', 'int_roll', 'ext_roll', 'Unnamed: 0.1'], inplace=True)"
   ]
  },
  {
   "cell_type": "code",
   "execution_count": 7,
   "id": "4062409f",
   "metadata": {},
   "outputs": [
    {
     "name": "stdout",
     "output_type": "stream",
     "text": [
      "<class 'pandas.core.frame.DataFrame'>\n",
      "RangeIndex: 191290882 entries, 0 to 191290881\n",
      "Data columns (total 3 columns):\n",
      " #   Column  Dtype  \n",
      "---  ------  -----  \n",
      " 0   src     int64  \n",
      " 1   dst     int64  \n",
      " 2   time    float64\n",
      "dtypes: float64(1), int64(2)\n",
      "memory usage: 4.3 GB\n"
     ]
    }
   ],
   "source": [
    "gdelt.info()"
   ]
  },
  {
   "cell_type": "code",
   "execution_count": 8,
   "id": "44192abf",
   "metadata": {},
   "outputs": [],
   "source": [
    "def year(i):\n",
    "    return int(i*365*24*4)"
   ]
  },
  {
   "cell_type": "code",
   "execution_count": 9,
   "id": "b32270cb",
   "metadata": {},
   "outputs": [
    {
     "name": "stdout",
     "output_type": "stream",
     "text": [
      "running loader gdelt\n"
     ]
    },
    {
     "ename": "KeyboardInterrupt",
     "evalue": "",
     "output_type": "error",
     "traceback": [
      "\u001b[0;31m---------------------------------------------------------------------------\u001b[0m",
      "\u001b[0;31mKeyboardInterrupt\u001b[0m                         Traceback (most recent call last)",
      "Input \u001b[0;32mIn [9]\u001b[0m, in \u001b[0;36m<cell line: 5>\u001b[0;34m()\u001b[0m\n\u001b[1;32m      3\u001b[0m l\u001b[38;5;241m=\u001b[39mloader()\n\u001b[1;32m      4\u001b[0m \u001b[38;5;28mprint\u001b[39m(\u001b[38;5;124m\"\u001b[39m\u001b[38;5;124mrunning loader gdelt\u001b[39m\u001b[38;5;124m\"\u001b[39m)\n\u001b[0;32m----> 5\u001b[0m \u001b[43ml\u001b[49m\u001b[38;5;241;43m.\u001b[39;49m\u001b[43mread\u001b[49m\u001b[43m(\u001b[49m\u001b[43mgdelt\u001b[49m\u001b[43m,\u001b[49m\u001b[43m \u001b[49m\u001b[43mmint\u001b[49m\u001b[43m,\u001b[49m\u001b[43m \u001b[49m\u001b[43mmaxt\u001b[49m\u001b[43m)\u001b[49m\n",
      "Input \u001b[0;32mIn [1]\u001b[0m, in \u001b[0;36mloader.read\u001b[0;34m(self, file, mint, maxt)\u001b[0m\n\u001b[1;32m     22\u001b[0m     \u001b[38;5;28;01mif\u001b[39;00m \u001b[38;5;28mfloat\u001b[39m(x[a,\u001b[38;5;241m2\u001b[39m]) \u001b[38;5;241m>\u001b[39mmint \u001b[38;5;129;01mand\u001b[39;00m \u001b[38;5;28mfloat\u001b[39m(x[a,\u001b[38;5;241m2\u001b[39m])\u001b[38;5;241m<\u001b[39m\u001b[38;5;241m=\u001b[39mmaxt:\n\u001b[1;32m     23\u001b[0m         i\u001b[38;5;241m=\u001b[39m\u001b[38;5;28mself\u001b[39m\u001b[38;5;241m.\u001b[39mnodeID(x[a,\u001b[38;5;241m0\u001b[39m])\n\u001b[0;32m---> 24\u001b[0m         j\u001b[38;5;241m=\u001b[39m\u001b[38;5;28;43mself\u001b[39;49m\u001b[38;5;241;43m.\u001b[39;49m\u001b[43mnodeID\u001b[49m\u001b[43m(\u001b[49m\u001b[43mx\u001b[49m\u001b[43m[\u001b[49m\u001b[43ma\u001b[49m\u001b[43m,\u001b[49m\u001b[38;5;241;43m1\u001b[39;49m\u001b[43m]\u001b[49m\u001b[43m)\u001b[49m\n\u001b[1;32m     25\u001b[0m         \u001b[38;5;28mself\u001b[39m\u001b[38;5;241m.\u001b[39maddEdge((i,j,\u001b[38;5;28mfloat\u001b[39m(x[a,\u001b[38;5;241m2\u001b[39m])))\n\u001b[1;32m     26\u001b[0m \u001b[38;5;28mself\u001b[39m\u001b[38;5;241m.\u001b[39mfixG()\n",
      "Input \u001b[0;32mIn [1]\u001b[0m, in \u001b[0;36mloader.nodeID\u001b[0;34m(self, x)\u001b[0m\n\u001b[1;32m     11\u001b[0m \u001b[38;5;28;01mdef\u001b[39;00m \u001b[38;5;21mnodeID\u001b[39m(\u001b[38;5;28mself\u001b[39m,x):\n\u001b[0;32m---> 12\u001b[0m     \u001b[38;5;28;01mif\u001b[39;00m \u001b[43mx\u001b[49m\u001b[43m \u001b[49m\u001b[38;5;129;43;01mnot\u001b[39;49;00m\u001b[43m \u001b[49m\u001b[38;5;129;43;01min\u001b[39;49;00m\u001b[43m \u001b[49m\u001b[38;5;28;43mself\u001b[39;49m\u001b[38;5;241;43m.\u001b[39;49m\u001b[43mco\u001b[49m:\n\u001b[1;32m     13\u001b[0m         \u001b[38;5;28mself\u001b[39m\u001b[38;5;241m.\u001b[39mco[x]\u001b[38;5;241m=\u001b[39m\u001b[38;5;28mself\u001b[39m\u001b[38;5;241m.\u001b[39mcountID\n\u001b[1;32m     14\u001b[0m         \u001b[38;5;28mself\u001b[39m\u001b[38;5;241m.\u001b[39mcountID\u001b[38;5;241m=\u001b[39m\u001b[38;5;28mself\u001b[39m\u001b[38;5;241m.\u001b[39mcountID\u001b[38;5;241m+\u001b[39m\u001b[38;5;241m1\u001b[39m\n",
      "\u001b[0;31mKeyboardInterrupt\u001b[0m: "
     ]
    }
   ],
   "source": [
    "mint = year(2)\n",
    "maxt = year(4)\n",
    "l=loader()\n",
    "print(\"running loader gdelt\")\n",
    "l.read(gdelt, mint, maxt)"
   ]
  },
  {
   "cell_type": "code",
   "execution_count": null,
   "id": "e6c7377a",
   "metadata": {},
   "outputs": [],
   "source": [
    "print(\"running embedding gdelt\")\n",
    "emb=dirtemporalSirGNStop(l.G,10,1)"
   ]
  },
  {
   "cell_type": "code",
   "execution_count": null,
   "id": "66b2a9ca",
   "metadata": {},
   "outputs": [],
   "source": [
    "print(\"converting embedding to dataframe\" )\n",
    "embdf = pd.DataFrame(emb)\n",
    "print(\"extracting value counts\")\n",
    "counts = np.array(embdf.value_counts())\n",
    "print(\"extracting single embeddings\")\n",
    "singles = list(counts).count(1)\n",
    "print(\"singles: \", singles)"
   ]
  },
  {
   "cell_type": "code",
   "execution_count": null,
   "id": "30c9a752",
   "metadata": {},
   "outputs": [],
   "source": [
    "import matplotlib.pyplot as plt\n",
    "\n",
    "f, (ax, ax2) = plt.subplots(2, 1, sharex=True)\n",
    "\n",
    "# plot the same data on both axes\n",
    "ax.hist(counts, bins=18, edgecolor='black')\n",
    "ax2.hist(counts, bins=18, edgecolor='black')\n",
    "\n",
    "# zoom-in / limit the view to different portions of the data\n",
    "ax.set_ylim(100, 15000)  \n",
    "ax2.set_ylim(0, 50)  \n",
    "\n",
    "# hide the spines between ax and ax2\n",
    "ax.spines['bottom'].set_visible(False)\n",
    "ax2.spines['top'].set_visible(False)\n",
    "ax.xaxis.tick_top()\n",
    "ax.tick_params(labeltop=False)  # don't put tick labels at the top\n",
    "ax2.xaxis.tick_bottom()\n",
    "\n",
    "\n",
    "d = .015  \n",
    "\n",
    "kwargs = dict(transform=ax.transAxes, color='k', clip_on=False)\n",
    "ax.plot((-d, +d), (-d, +d), **kwargs)        # top-left diagonal\n",
    "ax.plot((1 - d, 1 + d), (-d, +d), **kwargs)  # top-right diagonal\n",
    "\n",
    "kwargs.update(transform=ax2.transAxes)  # switch to the bottom axes\n",
    "ax2.plot((-d, +d), (1 - d, 1 + d), **kwargs)  # bottom-left diagonal\n",
    "ax2.plot((1 - d, 1 + d), (1 - d, 1 + d), **kwargs)  # bottom-right diagonal\n",
    "\n",
    "\n",
    "#ax.set_title('Distribution of Sizes of Automorphic Groups')\n",
    "plt.xlabel('Size of Automorphic Group (# nodes)')\n",
    "plt.ylabel('Count')\n",
    "plt.show()\n",
    "#plt.savefig('GDELTDistg.pdf', bbox_inches='tight')"
   ]
  }
 ],
 "metadata": {
  "kernelspec": {
   "display_name": "Python 3 (ipykernel)",
   "language": "python",
   "name": "python3"
  },
  "language_info": {
   "codemirror_mode": {
    "name": "ipython",
    "version": 3
   },
   "file_extension": ".py",
   "mimetype": "text/x-python",
   "name": "python",
   "nbconvert_exporter": "python",
   "pygments_lexer": "ipython3",
   "version": "3.8.13"
  }
 },
 "nbformat": 4,
 "nbformat_minor": 5
}
